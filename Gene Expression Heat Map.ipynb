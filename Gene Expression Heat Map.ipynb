{
 "cells": [
  {
   "cell_type": "code",
   "execution_count": 1,
   "id": "altered-default",
   "metadata": {},
   "outputs": [
    {
     "name": "stderr",
     "output_type": "stream",
     "text": [
      "── \u001b[1mAttaching packages\u001b[22m ─────────────────────────────────────── tidyverse 1.3.0 ──\n",
      "\n",
      "\u001b[32m✔\u001b[39m \u001b[34mggplot2\u001b[39m 3.3.3     \u001b[32m✔\u001b[39m \u001b[34mpurrr  \u001b[39m 0.3.4\n",
      "\u001b[32m✔\u001b[39m \u001b[34mtibble \u001b[39m 3.0.6     \u001b[32m✔\u001b[39m \u001b[34mdplyr  \u001b[39m 1.0.4\n",
      "\u001b[32m✔\u001b[39m \u001b[34mtidyr  \u001b[39m 1.1.2     \u001b[32m✔\u001b[39m \u001b[34mstringr\u001b[39m 1.4.0\n",
      "\u001b[32m✔\u001b[39m \u001b[34mreadr  \u001b[39m 1.4.0     \u001b[32m✔\u001b[39m \u001b[34mforcats\u001b[39m 0.5.1\n",
      "\n",
      "── \u001b[1mConflicts\u001b[22m ────────────────────────────────────────── tidyverse_conflicts() ──\n",
      "\u001b[31m✖\u001b[39m \u001b[34mdplyr\u001b[39m::\u001b[32mfilter()\u001b[39m masks \u001b[34mstats\u001b[39m::filter()\n",
      "\u001b[31m✖\u001b[39m \u001b[34mdplyr\u001b[39m::\u001b[32mlag()\u001b[39m    masks \u001b[34mstats\u001b[39m::lag()\n",
      "\n",
      "\n",
      "Attaching package: ‘reshape2’\n",
      "\n",
      "\n",
      "The following object is masked from ‘package:tidyr’:\n",
      "\n",
      "    smiths\n",
      "\n",
      "\n",
      "Warning message:\n",
      "“Missing column names filled in: 'X1' [1]”\n",
      "\n",
      "\u001b[36m──\u001b[39m \u001b[1m\u001b[1mColumn specification\u001b[1m\u001b[22m \u001b[36m────────────────────────────────────────────────────────\u001b[39m\n",
      "cols(\n",
      "  .default = col_double(),\n",
      "  X1 = \u001b[31mcol_character()\u001b[39m\n",
      ")\n",
      "\u001b[36mℹ\u001b[39m Use \u001b[30m\u001b[47m\u001b[30m\u001b[47m`spec()`\u001b[47m\u001b[30m\u001b[49m\u001b[39m for the full column specifications.\n",
      "\n",
      "\n"
     ]
    }
   ],
   "source": [
    "setwd(\"/Users/alexis/University of North Carolina at Chapel Hill/Rager, Julia - CEMALB_DataAnalysisPM/Projects/P1004. Wildfire ONES Analysis/P1004.2. Original Data\")\n",
    "Output = c(\"/Users/alexis/University of North Carolina at Chapel Hill/Rager, Julia - CEMALB_DataAnalysisPM/Projects/P1004. Wildfire ONES Analysis/P1004.3. Heat Map/ Output\")\n",
    "cur_date = \"020422\"\n",
    "\n",
    "library(readxl)\n",
    "library(tidyverse)\n",
    "library(reshape2)\n",
    "\n",
    "#reading in file\n",
    "gene_expression_data = read_csv(\"022821_NormCounts_pslog2_RUV.csv\")\n",
    "pathway_mRNAs = data.frame(read_excel(\"FlamingPeat_4h_pathwaymRNAs_020322.xlsx\"))"
   ]
  },
  {
   "cell_type": "code",
   "execution_count": 2,
   "id": "different-hawaii",
   "metadata": {},
   "outputs": [
    {
     "data": {
      "text/html": [
       "<table class=\"dataframe\">\n",
       "<caption>A tibble: 6 × 170</caption>\n",
       "<thead>\n",
       "\t<tr><th scope=col>X1</th><th scope=col>M1_RedOakSmolder</th><th scope=col>M2_RedOakSmolder</th><th scope=col>M3_RedOakSmolder</th><th scope=col>M4_RedOakSmolder</th><th scope=col>M5_RedOakSmolder</th><th scope=col>M6_RedOakSmolder</th><th scope=col>M7_PeatSmolder</th><th scope=col>M8_PeatSmolder</th><th scope=col>M9_PeatSmolder</th><th scope=col>⋯</th><th scope=col>MH73_RedOakSmolder</th><th scope=col>MH74_RedOakSmolder</th><th scope=col>MH75_RedOakSmolder</th><th scope=col>MH76_RedOakSmolder</th><th scope=col>MH77_PeatSmolder</th><th scope=col>MH78_PeatSmolder</th><th scope=col>MH79_PeatSmolder</th><th scope=col>MH80_PeatSmolder</th><th scope=col>MH81_PeatSmolder</th><th scope=col>MH82_PeatSmolder</th></tr>\n",
       "\t<tr><th scope=col>&lt;chr&gt;</th><th scope=col>&lt;dbl&gt;</th><th scope=col>&lt;dbl&gt;</th><th scope=col>&lt;dbl&gt;</th><th scope=col>&lt;dbl&gt;</th><th scope=col>&lt;dbl&gt;</th><th scope=col>&lt;dbl&gt;</th><th scope=col>&lt;dbl&gt;</th><th scope=col>&lt;dbl&gt;</th><th scope=col>&lt;dbl&gt;</th><th scope=col>⋯</th><th scope=col>&lt;dbl&gt;</th><th scope=col>&lt;dbl&gt;</th><th scope=col>&lt;dbl&gt;</th><th scope=col>&lt;dbl&gt;</th><th scope=col>&lt;dbl&gt;</th><th scope=col>&lt;dbl&gt;</th><th scope=col>&lt;dbl&gt;</th><th scope=col>&lt;dbl&gt;</th><th scope=col>&lt;dbl&gt;</th><th scope=col>&lt;dbl&gt;</th></tr>\n",
       "</thead>\n",
       "<tbody>\n",
       "\t<tr><td>0610009B22Rik_56046</td><td> 6.001951</td><td>7.335479</td><td>7.061139</td><td> 6.989344</td><td> 6.384322</td><td> 6.120804</td><td>5.820447</td><td> 5.395755</td><td>6.660710</td><td>⋯</td><td>11.441009</td><td>10.903624</td><td>10.884591</td><td>10.933032</td><td>11.111472</td><td>11.197014</td><td>11.108450</td><td>10.699222</td><td>11.084482</td><td>10.868255</td></tr>\n",
       "\t<tr><td>0610010F05Rik_69119</td><td>10.293167</td><td>9.755566</td><td>9.720385</td><td>10.272557</td><td>10.170494</td><td>10.212171</td><td>9.834238</td><td>10.386983</td><td>9.907812</td><td>⋯</td><td> 9.303855</td><td> 9.350846</td><td> 9.622918</td><td> 8.924832</td><td> 8.982636</td><td> 9.344629</td><td> 9.039890</td><td> 9.152558</td><td> 9.578020</td><td> 9.299622</td></tr>\n",
       "\t<tr><td>0610010F05Rik_74637</td><td> 4.693722</td><td>4.574181</td><td>5.542715</td><td> 4.385701</td><td> 3.715631</td><td> 5.601566</td><td>5.219821</td><td> 5.259070</td><td>5.376674</td><td>⋯</td><td> 5.388887</td><td> 5.117777</td><td> 5.622112</td><td> 5.674268</td><td> 5.662769</td><td> 4.709338</td><td> 5.484767</td><td> 5.224846</td><td> 5.725906</td><td> 4.860043</td></tr>\n",
       "\t<tr><td>0610010K14Rik_31619</td><td> 9.353322</td><td>8.368016</td><td>8.311618</td><td> 8.280457</td><td> 8.973519</td><td> 8.977257</td><td>8.831136</td><td> 9.169027</td><td>8.672639</td><td>⋯</td><td> 7.627248</td><td> 7.680924</td><td> 7.873690</td><td> 7.918498</td><td> 7.629239</td><td> 7.764098</td><td> 7.952784</td><td> 7.425485</td><td> 7.370099</td><td> 7.194414</td></tr>\n",
       "\t<tr><td>0610010K14Rik_31873</td><td> 9.230662</td><td>9.038618</td><td>8.758387</td><td> 8.900100</td><td> 9.868493</td><td> 8.992879</td><td>9.160850</td><td> 9.037294</td><td>8.829621</td><td>⋯</td><td> 8.785173</td><td> 8.773179</td><td> 9.054666</td><td> 8.336706</td><td> 8.098710</td><td> 8.662672</td><td> 8.197349</td><td> 8.505360</td><td> 8.677667</td><td> 8.136555</td></tr>\n",
       "\t<tr><td>0610010K14Rik_68949</td><td> 7.049897</td><td>7.538015</td><td>7.604721</td><td> 7.000066</td><td> 6.555433</td><td> 7.193874</td><td>7.003423</td><td> 7.018238</td><td>7.559411</td><td>⋯</td><td> 7.121863</td><td> 7.200933</td><td> 7.541390</td><td> 7.630316</td><td> 7.163479</td><td> 7.752922</td><td> 7.555034</td><td> 7.315125</td><td> 7.527259</td><td> 7.503961</td></tr>\n",
       "</tbody>\n",
       "</table>\n"
      ],
      "text/latex": [
       "A tibble: 6 × 170\n",
       "\\begin{tabular}{lllllllllllllllllllll}\n",
       " X1 & M1\\_RedOakSmolder & M2\\_RedOakSmolder & M3\\_RedOakSmolder & M4\\_RedOakSmolder & M5\\_RedOakSmolder & M6\\_RedOakSmolder & M7\\_PeatSmolder & M8\\_PeatSmolder & M9\\_PeatSmolder & ⋯ & MH73\\_RedOakSmolder & MH74\\_RedOakSmolder & MH75\\_RedOakSmolder & MH76\\_RedOakSmolder & MH77\\_PeatSmolder & MH78\\_PeatSmolder & MH79\\_PeatSmolder & MH80\\_PeatSmolder & MH81\\_PeatSmolder & MH82\\_PeatSmolder\\\\\n",
       " <chr> & <dbl> & <dbl> & <dbl> & <dbl> & <dbl> & <dbl> & <dbl> & <dbl> & <dbl> & ⋯ & <dbl> & <dbl> & <dbl> & <dbl> & <dbl> & <dbl> & <dbl> & <dbl> & <dbl> & <dbl>\\\\\n",
       "\\hline\n",
       "\t 0610009B22Rik\\_56046 &  6.001951 & 7.335479 & 7.061139 &  6.989344 &  6.384322 &  6.120804 & 5.820447 &  5.395755 & 6.660710 & ⋯ & 11.441009 & 10.903624 & 10.884591 & 10.933032 & 11.111472 & 11.197014 & 11.108450 & 10.699222 & 11.084482 & 10.868255\\\\\n",
       "\t 0610010F05Rik\\_69119 & 10.293167 & 9.755566 & 9.720385 & 10.272557 & 10.170494 & 10.212171 & 9.834238 & 10.386983 & 9.907812 & ⋯ &  9.303855 &  9.350846 &  9.622918 &  8.924832 &  8.982636 &  9.344629 &  9.039890 &  9.152558 &  9.578020 &  9.299622\\\\\n",
       "\t 0610010F05Rik\\_74637 &  4.693722 & 4.574181 & 5.542715 &  4.385701 &  3.715631 &  5.601566 & 5.219821 &  5.259070 & 5.376674 & ⋯ &  5.388887 &  5.117777 &  5.622112 &  5.674268 &  5.662769 &  4.709338 &  5.484767 &  5.224846 &  5.725906 &  4.860043\\\\\n",
       "\t 0610010K14Rik\\_31619 &  9.353322 & 8.368016 & 8.311618 &  8.280457 &  8.973519 &  8.977257 & 8.831136 &  9.169027 & 8.672639 & ⋯ &  7.627248 &  7.680924 &  7.873690 &  7.918498 &  7.629239 &  7.764098 &  7.952784 &  7.425485 &  7.370099 &  7.194414\\\\\n",
       "\t 0610010K14Rik\\_31873 &  9.230662 & 9.038618 & 8.758387 &  8.900100 &  9.868493 &  8.992879 & 9.160850 &  9.037294 & 8.829621 & ⋯ &  8.785173 &  8.773179 &  9.054666 &  8.336706 &  8.098710 &  8.662672 &  8.197349 &  8.505360 &  8.677667 &  8.136555\\\\\n",
       "\t 0610010K14Rik\\_68949 &  7.049897 & 7.538015 & 7.604721 &  7.000066 &  6.555433 &  7.193874 & 7.003423 &  7.018238 & 7.559411 & ⋯ &  7.121863 &  7.200933 &  7.541390 &  7.630316 &  7.163479 &  7.752922 &  7.555034 &  7.315125 &  7.527259 &  7.503961\\\\\n",
       "\\end{tabular}\n"
      ],
      "text/markdown": [
       "\n",
       "A tibble: 6 × 170\n",
       "\n",
       "| X1 &lt;chr&gt; | M1_RedOakSmolder &lt;dbl&gt; | M2_RedOakSmolder &lt;dbl&gt; | M3_RedOakSmolder &lt;dbl&gt; | M4_RedOakSmolder &lt;dbl&gt; | M5_RedOakSmolder &lt;dbl&gt; | M6_RedOakSmolder &lt;dbl&gt; | M7_PeatSmolder &lt;dbl&gt; | M8_PeatSmolder &lt;dbl&gt; | M9_PeatSmolder &lt;dbl&gt; | ⋯ ⋯ | MH73_RedOakSmolder &lt;dbl&gt; | MH74_RedOakSmolder &lt;dbl&gt; | MH75_RedOakSmolder &lt;dbl&gt; | MH76_RedOakSmolder &lt;dbl&gt; | MH77_PeatSmolder &lt;dbl&gt; | MH78_PeatSmolder &lt;dbl&gt; | MH79_PeatSmolder &lt;dbl&gt; | MH80_PeatSmolder &lt;dbl&gt; | MH81_PeatSmolder &lt;dbl&gt; | MH82_PeatSmolder &lt;dbl&gt; |\n",
       "|---|---|---|---|---|---|---|---|---|---|---|---|---|---|---|---|---|---|---|---|---|\n",
       "| 0610009B22Rik_56046 |  6.001951 | 7.335479 | 7.061139 |  6.989344 |  6.384322 |  6.120804 | 5.820447 |  5.395755 | 6.660710 | ⋯ | 11.441009 | 10.903624 | 10.884591 | 10.933032 | 11.111472 | 11.197014 | 11.108450 | 10.699222 | 11.084482 | 10.868255 |\n",
       "| 0610010F05Rik_69119 | 10.293167 | 9.755566 | 9.720385 | 10.272557 | 10.170494 | 10.212171 | 9.834238 | 10.386983 | 9.907812 | ⋯ |  9.303855 |  9.350846 |  9.622918 |  8.924832 |  8.982636 |  9.344629 |  9.039890 |  9.152558 |  9.578020 |  9.299622 |\n",
       "| 0610010F05Rik_74637 |  4.693722 | 4.574181 | 5.542715 |  4.385701 |  3.715631 |  5.601566 | 5.219821 |  5.259070 | 5.376674 | ⋯ |  5.388887 |  5.117777 |  5.622112 |  5.674268 |  5.662769 |  4.709338 |  5.484767 |  5.224846 |  5.725906 |  4.860043 |\n",
       "| 0610010K14Rik_31619 |  9.353322 | 8.368016 | 8.311618 |  8.280457 |  8.973519 |  8.977257 | 8.831136 |  9.169027 | 8.672639 | ⋯ |  7.627248 |  7.680924 |  7.873690 |  7.918498 |  7.629239 |  7.764098 |  7.952784 |  7.425485 |  7.370099 |  7.194414 |\n",
       "| 0610010K14Rik_31873 |  9.230662 | 9.038618 | 8.758387 |  8.900100 |  9.868493 |  8.992879 | 9.160850 |  9.037294 | 8.829621 | ⋯ |  8.785173 |  8.773179 |  9.054666 |  8.336706 |  8.098710 |  8.662672 |  8.197349 |  8.505360 |  8.677667 |  8.136555 |\n",
       "| 0610010K14Rik_68949 |  7.049897 | 7.538015 | 7.604721 |  7.000066 |  6.555433 |  7.193874 | 7.003423 |  7.018238 | 7.559411 | ⋯ |  7.121863 |  7.200933 |  7.541390 |  7.630316 |  7.163479 |  7.752922 |  7.555034 |  7.315125 |  7.527259 |  7.503961 |\n",
       "\n"
      ],
      "text/plain": [
       "  X1                  M1_RedOakSmolder M2_RedOakSmolder M3_RedOakSmolder\n",
       "1 0610009B22Rik_56046  6.001951        7.335479         7.061139        \n",
       "2 0610010F05Rik_69119 10.293167        9.755566         9.720385        \n",
       "3 0610010F05Rik_74637  4.693722        4.574181         5.542715        \n",
       "4 0610010K14Rik_31619  9.353322        8.368016         8.311618        \n",
       "5 0610010K14Rik_31873  9.230662        9.038618         8.758387        \n",
       "6 0610010K14Rik_68949  7.049897        7.538015         7.604721        \n",
       "  M4_RedOakSmolder M5_RedOakSmolder M6_RedOakSmolder M7_PeatSmolder\n",
       "1  6.989344         6.384322         6.120804        5.820447      \n",
       "2 10.272557        10.170494        10.212171        9.834238      \n",
       "3  4.385701         3.715631         5.601566        5.219821      \n",
       "4  8.280457         8.973519         8.977257        8.831136      \n",
       "5  8.900100         9.868493         8.992879        9.160850      \n",
       "6  7.000066         6.555433         7.193874        7.003423      \n",
       "  M8_PeatSmolder M9_PeatSmolder ⋯ MH73_RedOakSmolder MH74_RedOakSmolder\n",
       "1  5.395755      6.660710       ⋯ 11.441009          10.903624         \n",
       "2 10.386983      9.907812       ⋯  9.303855           9.350846         \n",
       "3  5.259070      5.376674       ⋯  5.388887           5.117777         \n",
       "4  9.169027      8.672639       ⋯  7.627248           7.680924         \n",
       "5  9.037294      8.829621       ⋯  8.785173           8.773179         \n",
       "6  7.018238      7.559411       ⋯  7.121863           7.200933         \n",
       "  MH75_RedOakSmolder MH76_RedOakSmolder MH77_PeatSmolder MH78_PeatSmolder\n",
       "1 10.884591          10.933032          11.111472        11.197014       \n",
       "2  9.622918           8.924832           8.982636         9.344629       \n",
       "3  5.622112           5.674268           5.662769         4.709338       \n",
       "4  7.873690           7.918498           7.629239         7.764098       \n",
       "5  9.054666           8.336706           8.098710         8.662672       \n",
       "6  7.541390           7.630316           7.163479         7.752922       \n",
       "  MH79_PeatSmolder MH80_PeatSmolder MH81_PeatSmolder MH82_PeatSmolder\n",
       "1 11.108450        10.699222        11.084482        10.868255       \n",
       "2  9.039890         9.152558         9.578020         9.299622       \n",
       "3  5.484767         5.224846         5.725906         4.860043       \n",
       "4  7.952784         7.425485         7.370099         7.194414       \n",
       "5  8.197349         8.505360         8.677667         8.136555       \n",
       "6  7.555034         7.315125         7.527259         7.503961       "
      ]
     },
     "metadata": {},
     "output_type": "display_data"
    },
    {
     "data": {
      "text/html": [
       "<table class=\"dataframe\">\n",
       "<caption>A data.frame: 6 × 1</caption>\n",
       "<thead>\n",
       "\t<tr><th></th><th scope=col>Gene</th></tr>\n",
       "\t<tr><th></th><th scope=col>&lt;chr&gt;</th></tr>\n",
       "</thead>\n",
       "<tbody>\n",
       "\t<tr><th scope=row>1</th><td>ABCC1 </td></tr>\n",
       "\t<tr><th scope=row>2</th><td>ABCC4 </td></tr>\n",
       "\t<tr><th scope=row>3</th><td>ACTA1 </td></tr>\n",
       "\t<tr><th scope=row>4</th><td>ACTB  </td></tr>\n",
       "\t<tr><th scope=row>5</th><td>ACTG1 </td></tr>\n",
       "\t<tr><th scope=row>6</th><td>AKR1A1</td></tr>\n",
       "</tbody>\n",
       "</table>\n"
      ],
      "text/latex": [
       "A data.frame: 6 × 1\n",
       "\\begin{tabular}{r|l}\n",
       "  & Gene\\\\\n",
       "  & <chr>\\\\\n",
       "\\hline\n",
       "\t1 & ABCC1 \\\\\n",
       "\t2 & ABCC4 \\\\\n",
       "\t3 & ACTA1 \\\\\n",
       "\t4 & ACTB  \\\\\n",
       "\t5 & ACTG1 \\\\\n",
       "\t6 & AKR1A1\\\\\n",
       "\\end{tabular}\n"
      ],
      "text/markdown": [
       "\n",
       "A data.frame: 6 × 1\n",
       "\n",
       "| <!--/--> | Gene &lt;chr&gt; |\n",
       "|---|---|\n",
       "| 1 | ABCC1  |\n",
       "| 2 | ABCC4  |\n",
       "| 3 | ACTA1  |\n",
       "| 4 | ACTB   |\n",
       "| 5 | ACTG1  |\n",
       "| 6 | AKR1A1 |\n",
       "\n"
      ],
      "text/plain": [
       "  Gene  \n",
       "1 ABCC1 \n",
       "2 ABCC4 \n",
       "3 ACTA1 \n",
       "4 ACTB  \n",
       "5 ACTG1 \n",
       "6 AKR1A1"
      ]
     },
     "metadata": {},
     "output_type": "display_data"
    }
   ],
   "source": [
    "head(gene_expression_data)\n",
    "head(pathway_mRNAs)"
   ]
  },
  {
   "cell_type": "code",
   "execution_count": 3,
   "id": "economic-hardwood",
   "metadata": {},
   "outputs": [
    {
     "name": "stderr",
     "output_type": "stream",
     "text": [
      "Using Gene as id variables\n",
      "\n"
     ]
    },
    {
     "data": {
      "text/html": [
       "<table class=\"dataframe\">\n",
       "<caption>A data.frame: 6 × 3</caption>\n",
       "<thead>\n",
       "\t<tr><th></th><th scope=col>Gene</th><th scope=col>Treatment</th><th scope=col>NormCount</th></tr>\n",
       "\t<tr><th></th><th scope=col>&lt;chr&gt;</th><th scope=col>&lt;fct&gt;</th><th scope=col>&lt;dbl&gt;</th></tr>\n",
       "</thead>\n",
       "<tbody>\n",
       "\t<tr><th scope=row>1</th><td>0610009B22Rik_56046</td><td>M1_RedOakSmolder</td><td> 6.001951</td></tr>\n",
       "\t<tr><th scope=row>2</th><td>0610010F05Rik_69119</td><td>M1_RedOakSmolder</td><td>10.293167</td></tr>\n",
       "\t<tr><th scope=row>3</th><td>0610010F05Rik_74637</td><td>M1_RedOakSmolder</td><td> 4.693722</td></tr>\n",
       "\t<tr><th scope=row>4</th><td>0610010K14Rik_31619</td><td>M1_RedOakSmolder</td><td> 9.353322</td></tr>\n",
       "\t<tr><th scope=row>5</th><td>0610010K14Rik_31873</td><td>M1_RedOakSmolder</td><td> 9.230662</td></tr>\n",
       "\t<tr><th scope=row>6</th><td>0610010K14Rik_68949</td><td>M1_RedOakSmolder</td><td> 7.049897</td></tr>\n",
       "</tbody>\n",
       "</table>\n"
      ],
      "text/latex": [
       "A data.frame: 6 × 3\n",
       "\\begin{tabular}{r|lll}\n",
       "  & Gene & Treatment & NormCount\\\\\n",
       "  & <chr> & <fct> & <dbl>\\\\\n",
       "\\hline\n",
       "\t1 & 0610009B22Rik\\_56046 & M1\\_RedOakSmolder &  6.001951\\\\\n",
       "\t2 & 0610010F05Rik\\_69119 & M1\\_RedOakSmolder & 10.293167\\\\\n",
       "\t3 & 0610010F05Rik\\_74637 & M1\\_RedOakSmolder &  4.693722\\\\\n",
       "\t4 & 0610010K14Rik\\_31619 & M1\\_RedOakSmolder &  9.353322\\\\\n",
       "\t5 & 0610010K14Rik\\_31873 & M1\\_RedOakSmolder &  9.230662\\\\\n",
       "\t6 & 0610010K14Rik\\_68949 & M1\\_RedOakSmolder &  7.049897\\\\\n",
       "\\end{tabular}\n"
      ],
      "text/markdown": [
       "\n",
       "A data.frame: 6 × 3\n",
       "\n",
       "| <!--/--> | Gene &lt;chr&gt; | Treatment &lt;fct&gt; | NormCount &lt;dbl&gt; |\n",
       "|---|---|---|---|\n",
       "| 1 | 0610009B22Rik_56046 | M1_RedOakSmolder |  6.001951 |\n",
       "| 2 | 0610010F05Rik_69119 | M1_RedOakSmolder | 10.293167 |\n",
       "| 3 | 0610010F05Rik_74637 | M1_RedOakSmolder |  4.693722 |\n",
       "| 4 | 0610010K14Rik_31619 | M1_RedOakSmolder |  9.353322 |\n",
       "| 5 | 0610010K14Rik_31873 | M1_RedOakSmolder |  9.230662 |\n",
       "| 6 | 0610010K14Rik_68949 | M1_RedOakSmolder |  7.049897 |\n",
       "\n"
      ],
      "text/plain": [
       "  Gene                Treatment        NormCount\n",
       "1 0610009B22Rik_56046 M1_RedOakSmolder  6.001951\n",
       "2 0610010F05Rik_69119 M1_RedOakSmolder 10.293167\n",
       "3 0610010F05Rik_74637 M1_RedOakSmolder  4.693722\n",
       "4 0610010K14Rik_31619 M1_RedOakSmolder  9.353322\n",
       "5 0610010K14Rik_31873 M1_RedOakSmolder  9.230662\n",
       "6 0610010K14Rik_68949 M1_RedOakSmolder  7.049897"
      ]
     },
     "metadata": {},
     "output_type": "display_data"
    }
   ],
   "source": [
    "#reshaping for easier filtering\n",
    "gene_expression_data = melt(gene_expression_data %>% \n",
    "                            rename(Gene = X1), variable = \"Treatment\", value.name = \"NormCount\")\n",
    "head(gene_expression_data)"
   ]
  },
  {
   "cell_type": "code",
   "execution_count": 4,
   "id": "sexual-experience",
   "metadata": {},
   "outputs": [
    {
     "data": {
      "text/html": [
       "<table class=\"dataframe\">\n",
       "<caption>A data.frame: 6 × 4</caption>\n",
       "<thead>\n",
       "\t<tr><th></th><th scope=col>Gene</th><th scope=col>Treatment</th><th scope=col>NormCount</th><th scope=col>Tx</th></tr>\n",
       "\t<tr><th></th><th scope=col>&lt;chr&gt;</th><th scope=col>&lt;fct&gt;</th><th scope=col>&lt;dbl&gt;</th><th scope=col>&lt;chr&gt;</th></tr>\n",
       "</thead>\n",
       "<tbody>\n",
       "\t<tr><th scope=row>1</th><td>Abcc1</td><td>M31_Saline</td><td>8.671876</td><td>Saline</td></tr>\n",
       "\t<tr><th scope=row>2</th><td>Abcc1</td><td>M31_Saline</td><td>7.370027</td><td>Saline</td></tr>\n",
       "\t<tr><th scope=row>3</th><td>Abcc1</td><td>M31_Saline</td><td>7.740849</td><td>Saline</td></tr>\n",
       "\t<tr><th scope=row>4</th><td>Abcc1</td><td>M31_Saline</td><td>5.855893</td><td>Saline</td></tr>\n",
       "\t<tr><th scope=row>5</th><td>Abcc4</td><td>M31_Saline</td><td>2.382946</td><td>Saline</td></tr>\n",
       "\t<tr><th scope=row>6</th><td>Abcc4</td><td>M31_Saline</td><td>5.774895</td><td>Saline</td></tr>\n",
       "</tbody>\n",
       "</table>\n"
      ],
      "text/latex": [
       "A data.frame: 6 × 4\n",
       "\\begin{tabular}{r|llll}\n",
       "  & Gene & Treatment & NormCount & Tx\\\\\n",
       "  & <chr> & <fct> & <dbl> & <chr>\\\\\n",
       "\\hline\n",
       "\t1 & Abcc1 & M31\\_Saline & 8.671876 & Saline\\\\\n",
       "\t2 & Abcc1 & M31\\_Saline & 7.370027 & Saline\\\\\n",
       "\t3 & Abcc1 & M31\\_Saline & 7.740849 & Saline\\\\\n",
       "\t4 & Abcc1 & M31\\_Saline & 5.855893 & Saline\\\\\n",
       "\t5 & Abcc4 & M31\\_Saline & 2.382946 & Saline\\\\\n",
       "\t6 & Abcc4 & M31\\_Saline & 5.774895 & Saline\\\\\n",
       "\\end{tabular}\n"
      ],
      "text/markdown": [
       "\n",
       "A data.frame: 6 × 4\n",
       "\n",
       "| <!--/--> | Gene &lt;chr&gt; | Treatment &lt;fct&gt; | NormCount &lt;dbl&gt; | Tx &lt;chr&gt; |\n",
       "|---|---|---|---|---|\n",
       "| 1 | Abcc1 | M31_Saline | 8.671876 | Saline |\n",
       "| 2 | Abcc1 | M31_Saline | 7.370027 | Saline |\n",
       "| 3 | Abcc1 | M31_Saline | 7.740849 | Saline |\n",
       "| 4 | Abcc1 | M31_Saline | 5.855893 | Saline |\n",
       "| 5 | Abcc4 | M31_Saline | 2.382946 | Saline |\n",
       "| 6 | Abcc4 | M31_Saline | 5.774895 | Saline |\n",
       "\n"
      ],
      "text/plain": [
       "  Gene  Treatment  NormCount Tx    \n",
       "1 Abcc1 M31_Saline 8.671876  Saline\n",
       "2 Abcc1 M31_Saline 7.370027  Saline\n",
       "3 Abcc1 M31_Saline 7.740849  Saline\n",
       "4 Abcc1 M31_Saline 5.855893  Saline\n",
       "5 Abcc4 M31_Saline 2.382946  Saline\n",
       "6 Abcc4 M31_Saline 5.774895  Saline"
      ]
     },
     "metadata": {},
     "output_type": "display_data"
    },
    {
     "data": {
      "text/html": [
       "96"
      ],
      "text/latex": [
       "96"
      ],
      "text/markdown": [
       "96"
      ],
      "text/plain": [
       "[1] 96"
      ]
     },
     "metadata": {},
     "output_type": "display_data"
    }
   ],
   "source": [
    "pathway_peatflame_df = gene_expression_data %>%\n",
    "    #removing exposures that aren't peat flame or saline\n",
    "    filter(grepl(\"PeatFlame\", Treatment) | grepl(\"Saline\", Treatment)) %>%\n",
    "    #removing heart samples \n",
    "    filter(!grepl(\"MH\", Treatment)) %>%\n",
    "    #removing extra numbers after the underscore to make the next step easier\n",
    "    separate(Gene, c(\"Gene\", NA), sep = \"_\") %>%\n",
    "    filter(tolower(Gene) %in% tolower(pathway_mRNAs$Gene)) %>%\n",
    "    #adding another column that specifies only the treatment that will become useful later\n",
    "    mutate(Tx = ifelse(grepl(\"Saline\", Treatment), \"Saline\", \"Peat Flame\"))\n",
    "\n",
    "head(pathway_peatflame_df)\n",
    "\n",
    "#number of genes in our pathways of interest that will be in the final df\n",
    "length(unique(pathway_peatflame_df$Gene))"
   ]
  },
  {
   "cell_type": "code",
   "execution_count": 8,
   "id": "tired-detective",
   "metadata": {},
   "outputs": [
    {
     "data": {
      "text/html": [
       "<table class=\"dataframe\">\n",
       "<caption>A data.frame: 48 × 3</caption>\n",
       "<thead>\n",
       "\t<tr><th></th><th scope=col>Gene</th><th scope=col>P.Value</th><th scope=col>PAdj</th></tr>\n",
       "\t<tr><th></th><th scope=col>&lt;fct&gt;</th><th scope=col>&lt;fct&gt;</th><th scope=col>&lt;dbl&gt;</th></tr>\n",
       "</thead>\n",
       "<tbody>\n",
       "\t<tr><th scope=row>1</th><td>Abcc1   </td><td>0.27727923192822   </td><td>1</td></tr>\n",
       "\t<tr><th scope=row>5</th><td>Abcc4   </td><td>0.599592647610746  </td><td>1</td></tr>\n",
       "\t<tr><th scope=row>7</th><td>Acta1   </td><td>0.987861019136809  </td><td>1</td></tr>\n",
       "\t<tr><th scope=row>10</th><td>Actb    </td><td>0.493543701382166  </td><td>1</td></tr>\n",
       "\t<tr><th scope=row>13</th><td>Actg1   </td><td>0.656711544296732  </td><td>1</td></tr>\n",
       "\t<tr><th scope=row>16</th><td>Adm     </td><td>0.422796214149152  </td><td>1</td></tr>\n",
       "\t<tr><th scope=row>19</th><td>Akr1a1  </td><td>0.0937685257822351 </td><td>1</td></tr>\n",
       "\t<tr><th scope=row>20</th><td>Akt3    </td><td>0.375359779291716  </td><td>1</td></tr>\n",
       "\t<tr><th scope=row>22</th><td>Atf2    </td><td>0.219658257919358  </td><td>1</td></tr>\n",
       "\t<tr><th scope=row>25</th><td>Atf4    </td><td>0.255639097856406  </td><td>1</td></tr>\n",
       "\t<tr><th scope=row>27</th><td>Atm     </td><td>0.103174880998904  </td><td>1</td></tr>\n",
       "\t<tr><th scope=row>29</th><td>Camk1   </td><td>0.773970713147571  </td><td>1</td></tr>\n",
       "\t<tr><th scope=row>31</th><td>Camk2g  </td><td>0.195982252975905  </td><td>1</td></tr>\n",
       "\t<tr><th scope=row>33</th><td>Cat     </td><td>0.880091230315496  </td><td>1</td></tr>\n",
       "\t<tr><th scope=row>35</th><td>Cct7    </td><td>0.0195487481445736 </td><td>1</td></tr>\n",
       "\t<tr><th scope=row>36</th><td>Cdc34   </td><td>0.0131133230218825 </td><td>1</td></tr>\n",
       "\t<tr><th scope=row>38</th><td>Cdkn1a  </td><td>0.156890042937534  </td><td>1</td></tr>\n",
       "\t<tr><th scope=row>40</th><td>Clpp    </td><td>0.0356654562854615 </td><td>1</td></tr>\n",
       "\t<tr><th scope=row>41</th><td>Cops5   </td><td>0.828899631711506  </td><td>1</td></tr>\n",
       "\t<tr><th scope=row>44</th><td>Creb1   </td><td>0.27305172871101   </td><td>1</td></tr>\n",
       "\t<tr><th scope=row>47</th><td>Creb3l1 </td><td>0.0409150272740785 </td><td>1</td></tr>\n",
       "\t<tr><th scope=row>48</th><td>Creb5   </td><td>0.365304435976038  </td><td>1</td></tr>\n",
       "\t<tr><th scope=row>50</th><td>Cul3    </td><td>0.668039895187953  </td><td>1</td></tr>\n",
       "\t<tr><th scope=row>53</th><td>Dnaja2  </td><td>0.0187581907820908 </td><td>1</td></tr>\n",
       "\t<tr><th scope=row>54</th><td>Dnaja3  </td><td>0.123386865303296  </td><td>1</td></tr>\n",
       "\t<tr><th scope=row>55</th><td>Dnaja4  </td><td>0.228385481813201  </td><td>1</td></tr>\n",
       "\t<tr><th scope=row>57</th><td>Dnajb11 </td><td>0.350972013449552  </td><td>1</td></tr>\n",
       "\t<tr><th scope=row>58</th><td>Dnajb12 </td><td>0.119441456068644  </td><td>1</td></tr>\n",
       "\t<tr><th scope=row>59</th><td>Dnajb2  </td><td>0.949901790917226  </td><td>1</td></tr>\n",
       "\t<tr><th scope=row>61</th><td>Dnajb9  </td><td>0.250303414813869  </td><td>1</td></tr>\n",
       "\t<tr><th scope=row>63</th><td>Dnajc11 </td><td>0.797344928777008  </td><td>1</td></tr>\n",
       "\t<tr><th scope=row>65</th><td>Dnajc13 </td><td>0.317199363064605  </td><td>1</td></tr>\n",
       "\t<tr><th scope=row>68</th><td>Dnajc21 </td><td>0.191024784950176  </td><td>1</td></tr>\n",
       "\t<tr><th scope=row>70</th><td>Eif4ebp1</td><td>0.127730122041083  </td><td>1</td></tr>\n",
       "\t<tr><th scope=row>71</th><td>Ep300   </td><td>0.237112857948649  </td><td>1</td></tr>\n",
       "\t<tr><th scope=row>75</th><td>Erp29   </td><td>0.749477869258579  </td><td>1</td></tr>\n",
       "\t<tr><th scope=row>78</th><td>Fos     </td><td>0.514228919248578  </td><td>1</td></tr>\n",
       "\t<tr><th scope=row>80</th><td>Fosl1   </td><td>0.00739629287285485</td><td>1</td></tr>\n",
       "\t<tr><th scope=row>81</th><td>Gclc    </td><td>0.376748156916506  </td><td>1</td></tr>\n",
       "\t<tr><th scope=row>83</th><td>Gclm    </td><td>0.041994001263893  </td><td>1</td></tr>\n",
       "\t<tr><th scope=row>86</th><td>Gstk1   </td><td>0.187899857453212  </td><td>1</td></tr>\n",
       "\t<tr><th scope=row>87</th><td>Gstm1   </td><td>0.0462912403800984 </td><td>1</td></tr>\n",
       "\t<tr><th scope=row>88</th><td>Gstm3   </td><td>0.00491155975129476</td><td>1</td></tr>\n",
       "\t<tr><th scope=row>89</th><td>Gstp1   </td><td>0.535681058087751  </td><td>1</td></tr>\n",
       "\t<tr><th scope=row>91</th><td>Hacd3   </td><td>0.468133548018587  </td><td>1</td></tr>\n",
       "\t<tr><th scope=row>93</th><td>Hgf     </td><td>0.998735132620336  </td><td>1</td></tr>\n",
       "\t<tr><th scope=row>95</th><td>Hif1an  </td><td>0.365501129540872  </td><td>1</td></tr>\n",
       "\t<tr><th scope=row>96</th><td>Hk1     </td><td>0.698565526272887  </td><td>1</td></tr>\n",
       "</tbody>\n",
       "</table>\n"
      ],
      "text/latex": [
       "A data.frame: 48 × 3\n",
       "\\begin{tabular}{r|lll}\n",
       "  & Gene & P.Value & PAdj\\\\\n",
       "  & <fct> & <fct> & <dbl>\\\\\n",
       "\\hline\n",
       "\t1 & Abcc1    & 0.27727923192822    & 1\\\\\n",
       "\t5 & Abcc4    & 0.599592647610746   & 1\\\\\n",
       "\t7 & Acta1    & 0.987861019136809   & 1\\\\\n",
       "\t10 & Actb     & 0.493543701382166   & 1\\\\\n",
       "\t13 & Actg1    & 0.656711544296732   & 1\\\\\n",
       "\t16 & Adm      & 0.422796214149152   & 1\\\\\n",
       "\t19 & Akr1a1   & 0.0937685257822351  & 1\\\\\n",
       "\t20 & Akt3     & 0.375359779291716   & 1\\\\\n",
       "\t22 & Atf2     & 0.219658257919358   & 1\\\\\n",
       "\t25 & Atf4     & 0.255639097856406   & 1\\\\\n",
       "\t27 & Atm      & 0.103174880998904   & 1\\\\\n",
       "\t29 & Camk1    & 0.773970713147571   & 1\\\\\n",
       "\t31 & Camk2g   & 0.195982252975905   & 1\\\\\n",
       "\t33 & Cat      & 0.880091230315496   & 1\\\\\n",
       "\t35 & Cct7     & 0.0195487481445736  & 1\\\\\n",
       "\t36 & Cdc34    & 0.0131133230218825  & 1\\\\\n",
       "\t38 & Cdkn1a   & 0.156890042937534   & 1\\\\\n",
       "\t40 & Clpp     & 0.0356654562854615  & 1\\\\\n",
       "\t41 & Cops5    & 0.828899631711506   & 1\\\\\n",
       "\t44 & Creb1    & 0.27305172871101    & 1\\\\\n",
       "\t47 & Creb3l1  & 0.0409150272740785  & 1\\\\\n",
       "\t48 & Creb5    & 0.365304435976038   & 1\\\\\n",
       "\t50 & Cul3     & 0.668039895187953   & 1\\\\\n",
       "\t53 & Dnaja2   & 0.0187581907820908  & 1\\\\\n",
       "\t54 & Dnaja3   & 0.123386865303296   & 1\\\\\n",
       "\t55 & Dnaja4   & 0.228385481813201   & 1\\\\\n",
       "\t57 & Dnajb11  & 0.350972013449552   & 1\\\\\n",
       "\t58 & Dnajb12  & 0.119441456068644   & 1\\\\\n",
       "\t59 & Dnajb2   & 0.949901790917226   & 1\\\\\n",
       "\t61 & Dnajb9   & 0.250303414813869   & 1\\\\\n",
       "\t63 & Dnajc11  & 0.797344928777008   & 1\\\\\n",
       "\t65 & Dnajc13  & 0.317199363064605   & 1\\\\\n",
       "\t68 & Dnajc21  & 0.191024784950176   & 1\\\\\n",
       "\t70 & Eif4ebp1 & 0.127730122041083   & 1\\\\\n",
       "\t71 & Ep300    & 0.237112857948649   & 1\\\\\n",
       "\t75 & Erp29    & 0.749477869258579   & 1\\\\\n",
       "\t78 & Fos      & 0.514228919248578   & 1\\\\\n",
       "\t80 & Fosl1    & 0.00739629287285485 & 1\\\\\n",
       "\t81 & Gclc     & 0.376748156916506   & 1\\\\\n",
       "\t83 & Gclm     & 0.041994001263893   & 1\\\\\n",
       "\t86 & Gstk1    & 0.187899857453212   & 1\\\\\n",
       "\t87 & Gstm1    & 0.0462912403800984  & 1\\\\\n",
       "\t88 & Gstm3    & 0.00491155975129476 & 1\\\\\n",
       "\t89 & Gstp1    & 0.535681058087751   & 1\\\\\n",
       "\t91 & Hacd3    & 0.468133548018587   & 1\\\\\n",
       "\t93 & Hgf      & 0.998735132620336   & 1\\\\\n",
       "\t95 & Hif1an   & 0.365501129540872   & 1\\\\\n",
       "\t96 & Hk1      & 0.698565526272887   & 1\\\\\n",
       "\\end{tabular}\n"
      ],
      "text/markdown": [
       "\n",
       "A data.frame: 48 × 3\n",
       "\n",
       "| <!--/--> | Gene &lt;fct&gt; | P.Value &lt;fct&gt; | PAdj &lt;dbl&gt; |\n",
       "|---|---|---|---|\n",
       "| 1 | Abcc1    | 0.27727923192822    | 1 |\n",
       "| 5 | Abcc4    | 0.599592647610746   | 1 |\n",
       "| 7 | Acta1    | 0.987861019136809   | 1 |\n",
       "| 10 | Actb     | 0.493543701382166   | 1 |\n",
       "| 13 | Actg1    | 0.656711544296732   | 1 |\n",
       "| 16 | Adm      | 0.422796214149152   | 1 |\n",
       "| 19 | Akr1a1   | 0.0937685257822351  | 1 |\n",
       "| 20 | Akt3     | 0.375359779291716   | 1 |\n",
       "| 22 | Atf2     | 0.219658257919358   | 1 |\n",
       "| 25 | Atf4     | 0.255639097856406   | 1 |\n",
       "| 27 | Atm      | 0.103174880998904   | 1 |\n",
       "| 29 | Camk1    | 0.773970713147571   | 1 |\n",
       "| 31 | Camk2g   | 0.195982252975905   | 1 |\n",
       "| 33 | Cat      | 0.880091230315496   | 1 |\n",
       "| 35 | Cct7     | 0.0195487481445736  | 1 |\n",
       "| 36 | Cdc34    | 0.0131133230218825  | 1 |\n",
       "| 38 | Cdkn1a   | 0.156890042937534   | 1 |\n",
       "| 40 | Clpp     | 0.0356654562854615  | 1 |\n",
       "| 41 | Cops5    | 0.828899631711506   | 1 |\n",
       "| 44 | Creb1    | 0.27305172871101    | 1 |\n",
       "| 47 | Creb3l1  | 0.0409150272740785  | 1 |\n",
       "| 48 | Creb5    | 0.365304435976038   | 1 |\n",
       "| 50 | Cul3     | 0.668039895187953   | 1 |\n",
       "| 53 | Dnaja2   | 0.0187581907820908  | 1 |\n",
       "| 54 | Dnaja3   | 0.123386865303296   | 1 |\n",
       "| 55 | Dnaja4   | 0.228385481813201   | 1 |\n",
       "| 57 | Dnajb11  | 0.350972013449552   | 1 |\n",
       "| 58 | Dnajb12  | 0.119441456068644   | 1 |\n",
       "| 59 | Dnajb2   | 0.949901790917226   | 1 |\n",
       "| 61 | Dnajb9   | 0.250303414813869   | 1 |\n",
       "| 63 | Dnajc11  | 0.797344928777008   | 1 |\n",
       "| 65 | Dnajc13  | 0.317199363064605   | 1 |\n",
       "| 68 | Dnajc21  | 0.191024784950176   | 1 |\n",
       "| 70 | Eif4ebp1 | 0.127730122041083   | 1 |\n",
       "| 71 | Ep300    | 0.237112857948649   | 1 |\n",
       "| 75 | Erp29    | 0.749477869258579   | 1 |\n",
       "| 78 | Fos      | 0.514228919248578   | 1 |\n",
       "| 80 | Fosl1    | 0.00739629287285485 | 1 |\n",
       "| 81 | Gclc     | 0.376748156916506   | 1 |\n",
       "| 83 | Gclm     | 0.041994001263893   | 1 |\n",
       "| 86 | Gstk1    | 0.187899857453212   | 1 |\n",
       "| 87 | Gstm1    | 0.0462912403800984  | 1 |\n",
       "| 88 | Gstm3    | 0.00491155975129476 | 1 |\n",
       "| 89 | Gstp1    | 0.535681058087751   | 1 |\n",
       "| 91 | Hacd3    | 0.468133548018587   | 1 |\n",
       "| 93 | Hgf      | 0.998735132620336   | 1 |\n",
       "| 95 | Hif1an   | 0.365501129540872   | 1 |\n",
       "| 96 | Hk1      | 0.698565526272887   | 1 |\n",
       "\n"
      ],
      "text/plain": [
       "   Gene     P.Value             PAdj\n",
       "1  Abcc1    0.27727923192822    1   \n",
       "5  Abcc4    0.599592647610746   1   \n",
       "7  Acta1    0.987861019136809   1   \n",
       "10 Actb     0.493543701382166   1   \n",
       "13 Actg1    0.656711544296732   1   \n",
       "16 Adm      0.422796214149152   1   \n",
       "19 Akr1a1   0.0937685257822351  1   \n",
       "20 Akt3     0.375359779291716   1   \n",
       "22 Atf2     0.219658257919358   1   \n",
       "25 Atf4     0.255639097856406   1   \n",
       "27 Atm      0.103174880998904   1   \n",
       "29 Camk1    0.773970713147571   1   \n",
       "31 Camk2g   0.195982252975905   1   \n",
       "33 Cat      0.880091230315496   1   \n",
       "35 Cct7     0.0195487481445736  1   \n",
       "36 Cdc34    0.0131133230218825  1   \n",
       "38 Cdkn1a   0.156890042937534   1   \n",
       "40 Clpp     0.0356654562854615  1   \n",
       "41 Cops5    0.828899631711506   1   \n",
       "44 Creb1    0.27305172871101    1   \n",
       "47 Creb3l1  0.0409150272740785  1   \n",
       "48 Creb5    0.365304435976038   1   \n",
       "50 Cul3     0.668039895187953   1   \n",
       "53 Dnaja2   0.0187581907820908  1   \n",
       "54 Dnaja3   0.123386865303296   1   \n",
       "55 Dnaja4   0.228385481813201   1   \n",
       "57 Dnajb11  0.350972013449552   1   \n",
       "58 Dnajb12  0.119441456068644   1   \n",
       "59 Dnajb2   0.949901790917226   1   \n",
       "61 Dnajb9   0.250303414813869   1   \n",
       "63 Dnajc11  0.797344928777008   1   \n",
       "65 Dnajc13  0.317199363064605   1   \n",
       "68 Dnajc21  0.191024784950176   1   \n",
       "70 Eif4ebp1 0.127730122041083   1   \n",
       "71 Ep300    0.237112857948649   1   \n",
       "75 Erp29    0.749477869258579   1   \n",
       "78 Fos      0.514228919248578   1   \n",
       "80 Fosl1    0.00739629287285485 1   \n",
       "81 Gclc     0.376748156916506   1   \n",
       "83 Gclm     0.041994001263893   1   \n",
       "86 Gstk1    0.187899857453212   1   \n",
       "87 Gstm1    0.0462912403800984  1   \n",
       "88 Gstm3    0.00491155975129476 1   \n",
       "89 Gstp1    0.535681058087751   1   \n",
       "91 Hacd3    0.468133548018587   1   \n",
       "93 Hgf      0.998735132620336   1   \n",
       "95 Hif1an   0.365501129540872   1   \n",
       "96 Hk1      0.698565526272887   1   "
      ]
     },
     "metadata": {},
     "output_type": "display_data"
    }
   ],
   "source": [
    "#lastly filtering for genes that were differentially expressed using a t test\n",
    "t_test_results = data.frame()\n",
    "\n",
    "for (i in 1:length(unique(pathway_peatflame_df$Gene))){\n",
    "    #creating separate df for saline and peat flame conditions\n",
    "    saline_df = pathway_peatflame_df %>%\n",
    "        filter(Gene == pathway_peatflame_df$Gene[i] & Tx == \"Saline\")\n",
    "    exposed_df = pathway_peatflame_df %>%\n",
    "        filter(Gene == pathway_peatflame_df$Gene[i] & Tx == \"Peat Flame\")\n",
    "    \n",
    "    #running t test\n",
    "    t_test = t.test(saline_df$NormCount, exposed_df$NormCount)\n",
    "    t_test_results = rbind(t_test_results, cbind(Gene = pathway_peatflame_df$Gene[i], P.Value = t_test$p.value))\n",
    "    \n",
    "    \n",
    "}\n",
    "\n",
    "#final results\n",
    "t_test_results = t_test_results %>%\n",
    "    unique() %>%\n",
    "    #getting padj values\n",
    "    mutate(PAdj = p.adjust(P.Value, method = \"BH\"))\n",
    "\n",
    "t_test_results"
   ]
  },
  {
   "cell_type": "code",
   "execution_count": 26,
   "id": "monthly-regard",
   "metadata": {},
   "outputs": [
    {
     "data": {
      "text/html": [
       "<table class=\"dataframe\">\n",
       "<caption>A data.frame: 10 × 3</caption>\n",
       "<thead>\n",
       "\t<tr><th scope=col>Gene</th><th scope=col>P.Value</th><th scope=col>PAdj</th></tr>\n",
       "\t<tr><th scope=col>&lt;fct&gt;</th><th scope=col>&lt;fct&gt;</th><th scope=col>&lt;dbl&gt;</th></tr>\n",
       "</thead>\n",
       "<tbody>\n",
       "\t<tr><td>Akr1a1 </td><td>0.0937685257822351 </td><td>1</td></tr>\n",
       "\t<tr><td>Cct7   </td><td>0.0195487481445736 </td><td>1</td></tr>\n",
       "\t<tr><td>Cdc34  </td><td>0.0131133230218825 </td><td>1</td></tr>\n",
       "\t<tr><td>Clpp   </td><td>0.0356654562854615 </td><td>1</td></tr>\n",
       "\t<tr><td>Creb3l1</td><td>0.0409150272740785 </td><td>1</td></tr>\n",
       "\t<tr><td>Dnaja2 </td><td>0.0187581907820908 </td><td>1</td></tr>\n",
       "\t<tr><td>Fosl1  </td><td>0.00739629287285485</td><td>1</td></tr>\n",
       "\t<tr><td>Gclm   </td><td>0.041994001263893  </td><td>1</td></tr>\n",
       "\t<tr><td>Gstm1  </td><td>0.0462912403800984 </td><td>1</td></tr>\n",
       "\t<tr><td>Gstm3  </td><td>0.00491155975129476</td><td>1</td></tr>\n",
       "</tbody>\n",
       "</table>\n"
      ],
      "text/latex": [
       "A data.frame: 10 × 3\n",
       "\\begin{tabular}{lll}\n",
       " Gene & P.Value & PAdj\\\\\n",
       " <fct> & <fct> & <dbl>\\\\\n",
       "\\hline\n",
       "\t Akr1a1  & 0.0937685257822351  & 1\\\\\n",
       "\t Cct7    & 0.0195487481445736  & 1\\\\\n",
       "\t Cdc34   & 0.0131133230218825  & 1\\\\\n",
       "\t Clpp    & 0.0356654562854615  & 1\\\\\n",
       "\t Creb3l1 & 0.0409150272740785  & 1\\\\\n",
       "\t Dnaja2  & 0.0187581907820908  & 1\\\\\n",
       "\t Fosl1   & 0.00739629287285485 & 1\\\\\n",
       "\t Gclm    & 0.041994001263893   & 1\\\\\n",
       "\t Gstm1   & 0.0462912403800984  & 1\\\\\n",
       "\t Gstm3   & 0.00491155975129476 & 1\\\\\n",
       "\\end{tabular}\n"
      ],
      "text/markdown": [
       "\n",
       "A data.frame: 10 × 3\n",
       "\n",
       "| Gene &lt;fct&gt; | P.Value &lt;fct&gt; | PAdj &lt;dbl&gt; |\n",
       "|---|---|---|\n",
       "| Akr1a1  | 0.0937685257822351  | 1 |\n",
       "| Cct7    | 0.0195487481445736  | 1 |\n",
       "| Cdc34   | 0.0131133230218825  | 1 |\n",
       "| Clpp    | 0.0356654562854615  | 1 |\n",
       "| Creb3l1 | 0.0409150272740785  | 1 |\n",
       "| Dnaja2  | 0.0187581907820908  | 1 |\n",
       "| Fosl1   | 0.00739629287285485 | 1 |\n",
       "| Gclm    | 0.041994001263893   | 1 |\n",
       "| Gstm1   | 0.0462912403800984  | 1 |\n",
       "| Gstm3   | 0.00491155975129476 | 1 |\n",
       "\n"
      ],
      "text/plain": [
       "   Gene    P.Value             PAdj\n",
       "1  Akr1a1  0.0937685257822351  1   \n",
       "2  Cct7    0.0195487481445736  1   \n",
       "3  Cdc34   0.0131133230218825  1   \n",
       "4  Clpp    0.0356654562854615  1   \n",
       "5  Creb3l1 0.0409150272740785  1   \n",
       "6  Dnaja2  0.0187581907820908  1   \n",
       "7  Fosl1   0.00739629287285485 1   \n",
       "8  Gclm    0.041994001263893   1   \n",
       "9  Gstm1   0.0462912403800984  1   \n",
       "10 Gstm3   0.00491155975129476 1   "
      ]
     },
     "metadata": {},
     "output_type": "display_data"
    }
   ],
   "source": [
    "#well unfortunately all the padj values = 1, so the dataset will be filtered for genes that have p values < 0.1\n",
    "sig_t_test_results = t_test_results %>%\n",
    "    filter(as.numeric(as.character(P.Value)) < 0.1)\n",
    "sig_t_test_results"
   ]
  },
  {
   "cell_type": "code",
   "execution_count": 28,
   "id": "metric-holly",
   "metadata": {},
   "outputs": [
    {
     "data": {
      "text/html": [
       "<table class=\"dataframe\">\n",
       "<caption>A data.frame: 6 × 4</caption>\n",
       "<thead>\n",
       "\t<tr><th></th><th scope=col>Gene</th><th scope=col>Treatment</th><th scope=col>NormCount</th><th scope=col>Tx</th></tr>\n",
       "\t<tr><th></th><th scope=col>&lt;chr&gt;</th><th scope=col>&lt;fct&gt;</th><th scope=col>&lt;dbl&gt;</th><th scope=col>&lt;chr&gt;</th></tr>\n",
       "</thead>\n",
       "<tbody>\n",
       "\t<tr><th scope=row>1</th><td>Akr1a1 </td><td>M31_Saline</td><td> 9.963020</td><td>Saline</td></tr>\n",
       "\t<tr><th scope=row>2</th><td>Cct7   </td><td>M31_Saline</td><td>10.155294</td><td>Saline</td></tr>\n",
       "\t<tr><th scope=row>3</th><td>Cdc34  </td><td>M31_Saline</td><td> 9.852226</td><td>Saline</td></tr>\n",
       "\t<tr><th scope=row>4</th><td>Cdc34  </td><td>M31_Saline</td><td> 9.109160</td><td>Saline</td></tr>\n",
       "\t<tr><th scope=row>5</th><td>Clpp   </td><td>M31_Saline</td><td> 8.656885</td><td>Saline</td></tr>\n",
       "\t<tr><th scope=row>6</th><td>Creb3l1</td><td>M31_Saline</td><td> 8.563512</td><td>Saline</td></tr>\n",
       "</tbody>\n",
       "</table>\n"
      ],
      "text/latex": [
       "A data.frame: 6 × 4\n",
       "\\begin{tabular}{r|llll}\n",
       "  & Gene & Treatment & NormCount & Tx\\\\\n",
       "  & <chr> & <fct> & <dbl> & <chr>\\\\\n",
       "\\hline\n",
       "\t1 & Akr1a1  & M31\\_Saline &  9.963020 & Saline\\\\\n",
       "\t2 & Cct7    & M31\\_Saline & 10.155294 & Saline\\\\\n",
       "\t3 & Cdc34   & M31\\_Saline &  9.852226 & Saline\\\\\n",
       "\t4 & Cdc34   & M31\\_Saline &  9.109160 & Saline\\\\\n",
       "\t5 & Clpp    & M31\\_Saline &  8.656885 & Saline\\\\\n",
       "\t6 & Creb3l1 & M31\\_Saline &  8.563512 & Saline\\\\\n",
       "\\end{tabular}\n"
      ],
      "text/markdown": [
       "\n",
       "A data.frame: 6 × 4\n",
       "\n",
       "| <!--/--> | Gene &lt;chr&gt; | Treatment &lt;fct&gt; | NormCount &lt;dbl&gt; | Tx &lt;chr&gt; |\n",
       "|---|---|---|---|---|\n",
       "| 1 | Akr1a1  | M31_Saline |  9.963020 | Saline |\n",
       "| 2 | Cct7    | M31_Saline | 10.155294 | Saline |\n",
       "| 3 | Cdc34   | M31_Saline |  9.852226 | Saline |\n",
       "| 4 | Cdc34   | M31_Saline |  9.109160 | Saline |\n",
       "| 5 | Clpp    | M31_Saline |  8.656885 | Saline |\n",
       "| 6 | Creb3l1 | M31_Saline |  8.563512 | Saline |\n",
       "\n"
      ],
      "text/plain": [
       "  Gene    Treatment  NormCount Tx    \n",
       "1 Akr1a1  M31_Saline  9.963020 Saline\n",
       "2 Cct7    M31_Saline 10.155294 Saline\n",
       "3 Cdc34   M31_Saline  9.852226 Saline\n",
       "4 Cdc34   M31_Saline  9.109160 Saline\n",
       "5 Clpp    M31_Saline  8.656885 Saline\n",
       "6 Creb3l1 M31_Saline  8.563512 Saline"
      ]
     },
     "metadata": {},
     "output_type": "display_data"
    }
   ],
   "source": [
    "#now creating a final df after filtering\n",
    "final_df = pathway_peatflame_df %>%\n",
    "    filter(Gene %in% sig_t_test_results$Gene)\n",
    "head(final_df)"
   ]
  },
  {
   "cell_type": "code",
   "execution_count": 29,
   "id": "special-prefix",
   "metadata": {},
   "outputs": [
    {
     "data": {
      "text/html": [
       "<table class=\"dataframe\">\n",
       "<caption>A tibble: 6 × 2</caption>\n",
       "<thead>\n",
       "\t<tr><th scope=col>Gene</th><th scope=col>Avg_NormCount</th></tr>\n",
       "\t<tr><th scope=col>&lt;chr&gt;</th><th scope=col>&lt;dbl&gt;</th></tr>\n",
       "</thead>\n",
       "<tbody>\n",
       "\t<tr><td>Fosl1  </td><td>3.308005</td></tr>\n",
       "\t<tr><td>Gclm   </td><td>7.227131</td></tr>\n",
       "\t<tr><td>Gstm1  </td><td>7.921982</td></tr>\n",
       "\t<tr><td>Creb3l1</td><td>8.003083</td></tr>\n",
       "\t<tr><td>Clpp   </td><td>8.537836</td></tr>\n",
       "\t<tr><td>Cdc34  </td><td>9.122172</td></tr>\n",
       "</tbody>\n",
       "</table>\n"
      ],
      "text/latex": [
       "A tibble: 6 × 2\n",
       "\\begin{tabular}{ll}\n",
       " Gene & Avg\\_NormCount\\\\\n",
       " <chr> & <dbl>\\\\\n",
       "\\hline\n",
       "\t Fosl1   & 3.308005\\\\\n",
       "\t Gclm    & 7.227131\\\\\n",
       "\t Gstm1   & 7.921982\\\\\n",
       "\t Creb3l1 & 8.003083\\\\\n",
       "\t Clpp    & 8.537836\\\\\n",
       "\t Cdc34   & 9.122172\\\\\n",
       "\\end{tabular}\n"
      ],
      "text/markdown": [
       "\n",
       "A tibble: 6 × 2\n",
       "\n",
       "| Gene &lt;chr&gt; | Avg_NormCount &lt;dbl&gt; |\n",
       "|---|---|\n",
       "| Fosl1   | 3.308005 |\n",
       "| Gclm    | 7.227131 |\n",
       "| Gstm1   | 7.921982 |\n",
       "| Creb3l1 | 8.003083 |\n",
       "| Clpp    | 8.537836 |\n",
       "| Cdc34   | 9.122172 |\n",
       "\n"
      ],
      "text/plain": [
       "  Gene    Avg_NormCount\n",
       "1 Fosl1   3.308005     \n",
       "2 Gclm    7.227131     \n",
       "3 Gstm1   7.921982     \n",
       "4 Creb3l1 8.003083     \n",
       "5 Clpp    8.537836     \n",
       "6 Cdc34   9.122172     "
      ]
     },
     "metadata": {},
     "output_type": "display_data"
    },
    {
     "name": "stderr",
     "output_type": "stream",
     "text": [
      "`summarise()` has grouped output by 'Tx'. You can override using the `.groups` argument.\n",
      "\n"
     ]
    },
    {
     "data": {
      "text/html": [
       "<table class=\"dataframe\">\n",
       "<caption>A grouped_df: 6 × 3</caption>\n",
       "<thead>\n",
       "\t<tr><th scope=col>Tx</th><th scope=col>Treatment</th><th scope=col>Avg_NormCount</th></tr>\n",
       "\t<tr><th scope=col>&lt;chr&gt;</th><th scope=col>&lt;fct&gt;</th><th scope=col>&lt;dbl&gt;</th></tr>\n",
       "</thead>\n",
       "<tbody>\n",
       "\t<tr><td>Saline</td><td>M106_Saline</td><td>7.768989</td></tr>\n",
       "\t<tr><td>Saline</td><td>M33_Saline </td><td>7.825689</td></tr>\n",
       "\t<tr><td>Saline</td><td>M36_Saline </td><td>7.946944</td></tr>\n",
       "\t<tr><td>Saline</td><td>M35_Saline </td><td>8.076036</td></tr>\n",
       "\t<tr><td>Saline</td><td>M32_Saline </td><td>8.093252</td></tr>\n",
       "\t<tr><td>Saline</td><td>M105_Saline</td><td>8.129776</td></tr>\n",
       "</tbody>\n",
       "</table>\n"
      ],
      "text/latex": [
       "A grouped\\_df: 6 × 3\n",
       "\\begin{tabular}{lll}\n",
       " Tx & Treatment & Avg\\_NormCount\\\\\n",
       " <chr> & <fct> & <dbl>\\\\\n",
       "\\hline\n",
       "\t Saline & M106\\_Saline & 7.768989\\\\\n",
       "\t Saline & M33\\_Saline  & 7.825689\\\\\n",
       "\t Saline & M36\\_Saline  & 7.946944\\\\\n",
       "\t Saline & M35\\_Saline  & 8.076036\\\\\n",
       "\t Saline & M32\\_Saline  & 8.093252\\\\\n",
       "\t Saline & M105\\_Saline & 8.129776\\\\\n",
       "\\end{tabular}\n"
      ],
      "text/markdown": [
       "\n",
       "A grouped_df: 6 × 3\n",
       "\n",
       "| Tx &lt;chr&gt; | Treatment &lt;fct&gt; | Avg_NormCount &lt;dbl&gt; |\n",
       "|---|---|---|\n",
       "| Saline | M106_Saline | 7.768989 |\n",
       "| Saline | M33_Saline  | 7.825689 |\n",
       "| Saline | M36_Saline  | 7.946944 |\n",
       "| Saline | M35_Saline  | 8.076036 |\n",
       "| Saline | M32_Saline  | 8.093252 |\n",
       "| Saline | M105_Saline | 8.129776 |\n",
       "\n"
      ],
      "text/plain": [
       "  Tx     Treatment   Avg_NormCount\n",
       "1 Saline M106_Saline 7.768989     \n",
       "2 Saline M33_Saline  7.825689     \n",
       "3 Saline M36_Saline  7.946944     \n",
       "4 Saline M35_Saline  8.076036     \n",
       "5 Saline M32_Saline  8.093252     \n",
       "6 Saline M105_Saline 8.129776     "
      ]
     },
     "metadata": {},
     "output_type": "display_data"
    }
   ],
   "source": [
    "#now organzing df for heat map\n",
    "\n",
    "#getting gene ordered by average concentrations\n",
    "desc_genes_df = final_df %>%\n",
    "    group_by(Gene) %>%\n",
    "    summarize(Avg_NormCount = mean(NormCount)) %>%\n",
    "    arrange(Avg_NormCount)\n",
    "\n",
    "head(desc_genes_df)\n",
    "\n",
    "#getting treatment conditions ordered by average concentrations\n",
    "desc_treatment_df = final_df %>%\n",
    "    group_by(Tx, Treatment) %>%\n",
    "    summarize(Avg_NormCount = mean(NormCount)) %>%\n",
    "    arrange(desc(Tx), Avg_NormCount)\n",
    "\n",
    "head(desc_treatment_df)"
   ]
  },
  {
   "cell_type": "markdown",
   "id": "developmental-tunnel",
   "metadata": {},
   "source": [
    "# Heat Map"
   ]
  },
  {
   "cell_type": "code",
   "execution_count": 36,
   "id": "lightweight-kansas",
   "metadata": {},
   "outputs": [
    {
     "data": {
      "image/png": "[encoded data removed]",
      "text/plain": [
       "plot without title"
      ]
     },
     "metadata": {
      "image/png": {
       "height": 360,
       "width": 840
      }
     },
     "output_type": "display_data"
    }
   ],
   "source": [
    "options(repr.plot.width=14, repr.plot.height=6) #changing size\n",
    " \n",
    "\n",
    "#samples ordered by avg norm count\n",
    "ordered_samples = factor(final_df$Treatment, levels = desc_treatment_df$Treatment)\n",
    "\n",
    "#genes ordered by avg norm count\n",
    "ordered_genes = factor(final_df$Gene, levels = desc_genes_df$Gene)\n",
    "\n",
    "lung_peatflame_heatmap = ggplot(data = final_df, aes(x = ordered_samples, y = ordered_genes, fill = NormCount)) + \n",
    "  geom_tile(color = \"white\") + \n",
    "  scale_fill_gradient(low = 'blue', high = 'red') + \n",
    "  theme_minimal() + \n",
    "  theme(axis.text = element_text(size = 11), #changing size of axes labels\n",
    "        axis.text.x = element_text(angle = 45, hjust = 0.9), #rotating x labels/ moving x labels slightly to the left\n",
    "        axis.title = element_text(face = \"bold\", size = rel(1.5)), #changes axis titles\n",
    "        legend.title = element_text(face = 'bold', size = 14), #changes legend title\n",
    "        legend.text = element_text(size = 10))+ #changes legend text\n",
    "\n",
    "  labs(x = \"Sample ID\", y = \"Gene\", fill = \"Normalized Count \\n (pslog2)\")\n",
    "\n",
    "lung_peatflame_heatmap"
   ]
  },
  {
   "cell_type": "code",
   "execution_count": null,
   "id": "introductory-fighter",
   "metadata": {},
   "outputs": [],
   "source": []
  }
 ],
 "metadata": {
  "kernelspec": {
   "display_name": "R",
   "language": "R",
   "name": "ir"
  },
  "language_info": {
   "codemirror_mode": "r",
   "file_extension": ".r",
   "mimetype": "text/x-r-source",
   "name": "R",
   "pygments_lexer": "r",
   "version": "3.6.3"
  }
 },
 "nbformat": 4,
 "nbformat_minor": 5
}
