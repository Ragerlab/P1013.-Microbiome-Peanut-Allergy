{
 "cells": [
  {
   "cell_type": "code",
   "execution_count": 1,
   "id": "712c0b3d-627a-49cf-9714-e6dfd145e0e0",
   "metadata": {},
   "outputs": [
    {
     "name": "stderr",
     "output_type": "stream",
     "text": [
      "── \u001b[1mAttaching core tidyverse packages\u001b[22m ──────────────────────── tidyverse 2.0.0 ──\n",
      "\u001b[32m✔\u001b[39m \u001b[34mdplyr    \u001b[39m 1.1.4     \u001b[32m✔\u001b[39m \u001b[34mreadr    \u001b[39m 2.1.5\n",
      "\u001b[32m✔\u001b[39m \u001b[34mforcats  \u001b[39m 1.0.0     \u001b[32m✔\u001b[39m \u001b[34mstringr  \u001b[39m 1.5.1\n",
      "\u001b[32m✔\u001b[39m \u001b[34mggplot2  \u001b[39m 3.5.2     \u001b[32m✔\u001b[39m \u001b[34mtibble   \u001b[39m 3.2.1\n",
      "\u001b[32m✔\u001b[39m \u001b[34mlubridate\u001b[39m 1.9.4     \u001b[32m✔\u001b[39m \u001b[34mtidyr    \u001b[39m 1.3.1\n",
      "\u001b[32m✔\u001b[39m \u001b[34mpurrr    \u001b[39m 1.0.4     \n",
      "── \u001b[1mConflicts\u001b[22m ────────────────────────────────────────── tidyverse_conflicts() ──\n",
      "\u001b[31m✖\u001b[39m \u001b[34mdplyr\u001b[39m::\u001b[32mfilter()\u001b[39m masks \u001b[34mstats\u001b[39m::filter()\n",
      "\u001b[31m✖\u001b[39m \u001b[34mdplyr\u001b[39m::\u001b[32mlag()\u001b[39m    masks \u001b[34mstats\u001b[39m::lag()\n",
      "\u001b[36mℹ\u001b[39m Use the conflicted package (\u001b[3m\u001b[34m<http://conflicted.r-lib.org/>\u001b[39m\u001b[23m) to force all conflicts to become errors\n",
      "Welcome! Want to learn more? See two factoextra-related books at https://goo.gl/ve3WBa\n",
      "\n",
      "\n",
      "Attaching package: ‘blit’\n",
      "\n",
      "\n",
      "The following object is masked from ‘package:purrr’:\n",
      "\n",
      "    exec\n",
      "\n",
      "\n",
      "Warning message:\n",
      "“\u001b[1m\u001b[22mThere were 2 warnings in `mutate()`.\n",
      "The first warning was:\n",
      "\u001b[1m\u001b[22m\u001b[36mℹ\u001b[39m In argument: `Age = as.numeric(Age)`.\n",
      "Caused by warning:\n",
      "\u001b[33m!\u001b[39m NAs introduced by coercion\n",
      "\u001b[1m\u001b[22m\u001b[36mℹ\u001b[39m Run `dplyr::last_dplyr_warnings()` to see the 1 remaining warning.”\n",
      "Warning message:\n",
      "“\u001b[1m\u001b[22mThere were 2 warnings in `mutate()`.\n",
      "The first warning was:\n",
      "\u001b[1m\u001b[22m\u001b[36mℹ\u001b[39m In argument: `Age = as.numeric(Age)`.\n",
      "Caused by warning:\n",
      "\u001b[33m!\u001b[39m NAs introduced by coercion\n",
      "\u001b[1m\u001b[22m\u001b[36mℹ\u001b[39m Run `dplyr::last_dplyr_warnings()` to see the 1 remaining warning.”\n"
     ]
    }
   ],
   "source": [
    ".libPaths(R.home('/opt/homebrew/Caskroom/miniforge/base/lib/R/library'))\n",
    "Output = '/Users/alexis/Library/CloudStorage/OneDrive-UniversityofNorthCarolinaatChapelHill/CEMALB_DataAnalysisPM/Projects/P1013. Microbiome Peanut Allergy/P1013.3. Analyses/P1013.3.1. Data Processing/Output'\n",
    "cur_date = '072625'\n",
    "\n",
    "library(readxl)\n",
    "library(openxlsx)\n",
    "library(tidyverse)\n",
    "library(factoextra)\n",
    "library(blit) #Kraken2 is a taxonomic sequence classifier that assigns taxonomic labels to DNA sequences\n",
    "\n",
    "# reading in files\n",
    "saliva_df = data.frame(read_excel(\"Input/Microbiome_Saliva_062025.xlsx\", sheet = 2)) %>%\n",
    "    mutate(Age = as.numeric(Age), IgE = as.numeric(IgE))\n",
    "stool_df = data.frame(read_excel(\"Input/Microbiome_Stool_062025.xlsx\", sheet = 2)) %>%\n",
    "    mutate(Age = as.numeric(Age), IgE = as.numeric(IgE))"
   ]
  },
  {
   "cell_type": "code",
   "execution_count": 2,
   "id": "615998a2-0215-4330-b5cb-b7444aac6ef1",
   "metadata": {},
   "outputs": [
    {
     "data": {
      "text/html": [
       "<table class=\"dataframe\">\n",
       "<caption>A data.frame: 6 × 276</caption>\n",
       "<thead>\n",
       "\t<tr><th></th><th scope=col>Original_Sample_ID</th><th scope=col>Subject_No</th><th scope=col>Sample_ID</th><th scope=col>Time_Point</th><th scope=col>Treatment</th><th scope=col>Outcome</th><th scope=col>Age</th><th scope=col>IgE</th><th scope=col>IgE_Binarized</th><th scope=col>Unassigned.__.__.__.__.__.__</th><th scope=col>⋯</th><th scope=col>d__Bacteria.p__Proteobacteria.c__Gammaproteobacteria.o__Xanthomonadales.f__Xanthomonadaceae.__.__</th><th scope=col>d__Bacteria.p__Proteobacteria.c__Gammaproteobacteria.o__Xanthomonadales.f__Xanthomonadaceae.g__Stenotrophomonas.__</th><th scope=col>d__Bacteria.p__Proteobacteria.c__Gammaproteobacteria.o__Xanthomonadales.f__Xanthomonadaceae.g__Xanthomonas.__</th><th scope=col>d__Bacteria.p__Spirochaetota.c__Spirochaetia.o__Spirochaetales.f__Spirochaetaceae.g__Treponema.__</th><th scope=col>d__Bacteria.p__Spirochaetota.c__Spirochaetia.o__Spirochaetales.f__Spirochaetaceae.g__Treponema.s__Treponema_denticola</th><th scope=col>d__Bacteria.p__Spirochaetota.c__Spirochaetia.o__Spirochaetales.f__Spirochaetaceae.g__Treponema.s__Treponema_lecithinolyticum</th><th scope=col>d__Bacteria.p__Spirochaetota.c__Spirochaetia.o__Spirochaetales.f__Spirochaetaceae.g__Treponema.s__Treponema_refringens</th><th scope=col>d__Bacteria.p__Spirochaetota.c__Spirochaetia.o__Spirochaetales.f__Spirochaetaceae.g__Treponema.s__Treponema_socranskii</th><th scope=col>d__Bacteria.p__Spirochaetota.c__Spirochaetia.o__Spirochaetales.f__Spirochaetaceae.g__Treponema.s__unidentified</th><th scope=col>d__Eukaryota.p__Ascomycota.c__Saccharomycetes.o__Saccharomycetales.f__Debaryomycetaceae.g__Candida.Lodderomyces_clade.s__Candida_parapsilosis</th></tr>\n",
       "\t<tr><th></th><th scope=col>&lt;chr&gt;</th><th scope=col>&lt;dbl&gt;</th><th scope=col>&lt;chr&gt;</th><th scope=col>&lt;chr&gt;</th><th scope=col>&lt;chr&gt;</th><th scope=col>&lt;chr&gt;</th><th scope=col>&lt;dbl&gt;</th><th scope=col>&lt;dbl&gt;</th><th scope=col>&lt;chr&gt;</th><th scope=col>&lt;dbl&gt;</th><th scope=col>⋯</th><th scope=col>&lt;dbl&gt;</th><th scope=col>&lt;dbl&gt;</th><th scope=col>&lt;dbl&gt;</th><th scope=col>&lt;dbl&gt;</th><th scope=col>&lt;dbl&gt;</th><th scope=col>&lt;dbl&gt;</th><th scope=col>&lt;dbl&gt;</th><th scope=col>&lt;dbl&gt;</th><th scope=col>&lt;dbl&gt;</th><th scope=col>&lt;dbl&gt;</th></tr>\n",
       "</thead>\n",
       "<tbody>\n",
       "\t<tr><th scope=row>1</th><td>FS01baseline</td><td>1</td><td>Pre_1 </td><td>Pre </td><td>P</td><td>F </td><td>3.838356</td><td>41.00</td><td>High</td><td>30</td><td>⋯</td><td>0</td><td>0</td><td>0</td><td>  0</td><td>0</td><td>0</td><td> 0</td><td>0</td><td>0</td><td>0</td></tr>\n",
       "\t<tr><th scope=row>2</th><td>FS0236mo    </td><td>2</td><td>Post_2</td><td>Post</td><td>A</td><td>DS</td><td>1.873973</td><td>14.20</td><td>Low </td><td>56</td><td>⋯</td><td>0</td><td>0</td><td>0</td><td>164</td><td>0</td><td>0</td><td>27</td><td>0</td><td>0</td><td>0</td></tr>\n",
       "\t<tr><th scope=row>3</th><td>FS02baseline</td><td>2</td><td>Pre_2 </td><td>Pre </td><td>A</td><td>DS</td><td>1.873973</td><td>14.20</td><td>Low </td><td> 0</td><td>⋯</td><td>0</td><td>0</td><td>0</td><td>  0</td><td>0</td><td>0</td><td> 0</td><td>0</td><td>0</td><td>0</td></tr>\n",
       "\t<tr><th scope=row>4</th><td>FS0436mo    </td><td>3</td><td>Post_3</td><td>Post</td><td>P</td><td>F </td><td>3.715068</td><td>67.40</td><td>High</td><td>63</td><td>⋯</td><td>0</td><td>0</td><td>0</td><td>  0</td><td>0</td><td>0</td><td> 0</td><td>0</td><td>0</td><td>0</td></tr>\n",
       "\t<tr><th scope=row>5</th><td>FS04baseline</td><td>3</td><td>Pre_3 </td><td>Pre </td><td>P</td><td>F </td><td>3.715068</td><td>67.40</td><td>High</td><td>23</td><td>⋯</td><td>0</td><td>0</td><td>0</td><td>  0</td><td>0</td><td>0</td><td> 0</td><td>0</td><td>0</td><td>0</td></tr>\n",
       "\t<tr><th scope=row>6</th><td>FS0536mo    </td><td>4</td><td>Post_4</td><td>Post</td><td>A</td><td>DS</td><td>3.991781</td><td> 9.59</td><td>Low </td><td>61</td><td>⋯</td><td>0</td><td>0</td><td>0</td><td> 14</td><td>0</td><td>0</td><td> 0</td><td>0</td><td>0</td><td>0</td></tr>\n",
       "</tbody>\n",
       "</table>\n"
      ],
      "text/latex": [
       "A data.frame: 6 × 276\n",
       "\\begin{tabular}{r|lllllllllllllllllllll}\n",
       "  & Original\\_Sample\\_ID & Subject\\_No & Sample\\_ID & Time\\_Point & Treatment & Outcome & Age & IgE & IgE\\_Binarized & Unassigned.\\_\\_.\\_\\_.\\_\\_.\\_\\_.\\_\\_.\\_\\_ & ⋯ & d\\_\\_Bacteria.p\\_\\_Proteobacteria.c\\_\\_Gammaproteobacteria.o\\_\\_Xanthomonadales.f\\_\\_Xanthomonadaceae.\\_\\_.\\_\\_ & d\\_\\_Bacteria.p\\_\\_Proteobacteria.c\\_\\_Gammaproteobacteria.o\\_\\_Xanthomonadales.f\\_\\_Xanthomonadaceae.g\\_\\_Stenotrophomonas.\\_\\_ & d\\_\\_Bacteria.p\\_\\_Proteobacteria.c\\_\\_Gammaproteobacteria.o\\_\\_Xanthomonadales.f\\_\\_Xanthomonadaceae.g\\_\\_Xanthomonas.\\_\\_ & d\\_\\_Bacteria.p\\_\\_Spirochaetota.c\\_\\_Spirochaetia.o\\_\\_Spirochaetales.f\\_\\_Spirochaetaceae.g\\_\\_Treponema.\\_\\_ & d\\_\\_Bacteria.p\\_\\_Spirochaetota.c\\_\\_Spirochaetia.o\\_\\_Spirochaetales.f\\_\\_Spirochaetaceae.g\\_\\_Treponema.s\\_\\_Treponema\\_denticola & d\\_\\_Bacteria.p\\_\\_Spirochaetota.c\\_\\_Spirochaetia.o\\_\\_Spirochaetales.f\\_\\_Spirochaetaceae.g\\_\\_Treponema.s\\_\\_Treponema\\_lecithinolyticum & d\\_\\_Bacteria.p\\_\\_Spirochaetota.c\\_\\_Spirochaetia.o\\_\\_Spirochaetales.f\\_\\_Spirochaetaceae.g\\_\\_Treponema.s\\_\\_Treponema\\_refringens & d\\_\\_Bacteria.p\\_\\_Spirochaetota.c\\_\\_Spirochaetia.o\\_\\_Spirochaetales.f\\_\\_Spirochaetaceae.g\\_\\_Treponema.s\\_\\_Treponema\\_socranskii & d\\_\\_Bacteria.p\\_\\_Spirochaetota.c\\_\\_Spirochaetia.o\\_\\_Spirochaetales.f\\_\\_Spirochaetaceae.g\\_\\_Treponema.s\\_\\_unidentified & d\\_\\_Eukaryota.p\\_\\_Ascomycota.c\\_\\_Saccharomycetes.o\\_\\_Saccharomycetales.f\\_\\_Debaryomycetaceae.g\\_\\_Candida.Lodderomyces\\_clade.s\\_\\_Candida\\_parapsilosis\\\\\n",
       "  & <chr> & <dbl> & <chr> & <chr> & <chr> & <chr> & <dbl> & <dbl> & <chr> & <dbl> & ⋯ & <dbl> & <dbl> & <dbl> & <dbl> & <dbl> & <dbl> & <dbl> & <dbl> & <dbl> & <dbl>\\\\\n",
       "\\hline\n",
       "\t1 & FS01baseline & 1 & Pre\\_1  & Pre  & P & F  & 3.838356 & 41.00 & High & 30 & ⋯ & 0 & 0 & 0 &   0 & 0 & 0 &  0 & 0 & 0 & 0\\\\\n",
       "\t2 & FS0236mo     & 2 & Post\\_2 & Post & A & DS & 1.873973 & 14.20 & Low  & 56 & ⋯ & 0 & 0 & 0 & 164 & 0 & 0 & 27 & 0 & 0 & 0\\\\\n",
       "\t3 & FS02baseline & 2 & Pre\\_2  & Pre  & A & DS & 1.873973 & 14.20 & Low  &  0 & ⋯ & 0 & 0 & 0 &   0 & 0 & 0 &  0 & 0 & 0 & 0\\\\\n",
       "\t4 & FS0436mo     & 3 & Post\\_3 & Post & P & F  & 3.715068 & 67.40 & High & 63 & ⋯ & 0 & 0 & 0 &   0 & 0 & 0 &  0 & 0 & 0 & 0\\\\\n",
       "\t5 & FS04baseline & 3 & Pre\\_3  & Pre  & P & F  & 3.715068 & 67.40 & High & 23 & ⋯ & 0 & 0 & 0 &   0 & 0 & 0 &  0 & 0 & 0 & 0\\\\\n",
       "\t6 & FS0536mo     & 4 & Post\\_4 & Post & A & DS & 3.991781 &  9.59 & Low  & 61 & ⋯ & 0 & 0 & 0 &  14 & 0 & 0 &  0 & 0 & 0 & 0\\\\\n",
       "\\end{tabular}\n"
      ],
      "text/markdown": [
       "\n",
       "A data.frame: 6 × 276\n",
       "\n",
       "| <!--/--> | Original_Sample_ID &lt;chr&gt; | Subject_No &lt;dbl&gt; | Sample_ID &lt;chr&gt; | Time_Point &lt;chr&gt; | Treatment &lt;chr&gt; | Outcome &lt;chr&gt; | Age &lt;dbl&gt; | IgE &lt;dbl&gt; | IgE_Binarized &lt;chr&gt; | Unassigned.__.__.__.__.__.__ &lt;dbl&gt; | ⋯ ⋯ | d__Bacteria.p__Proteobacteria.c__Gammaproteobacteria.o__Xanthomonadales.f__Xanthomonadaceae.__.__ &lt;dbl&gt; | d__Bacteria.p__Proteobacteria.c__Gammaproteobacteria.o__Xanthomonadales.f__Xanthomonadaceae.g__Stenotrophomonas.__ &lt;dbl&gt; | d__Bacteria.p__Proteobacteria.c__Gammaproteobacteria.o__Xanthomonadales.f__Xanthomonadaceae.g__Xanthomonas.__ &lt;dbl&gt; | d__Bacteria.p__Spirochaetota.c__Spirochaetia.o__Spirochaetales.f__Spirochaetaceae.g__Treponema.__ &lt;dbl&gt; | d__Bacteria.p__Spirochaetota.c__Spirochaetia.o__Spirochaetales.f__Spirochaetaceae.g__Treponema.s__Treponema_denticola &lt;dbl&gt; | d__Bacteria.p__Spirochaetota.c__Spirochaetia.o__Spirochaetales.f__Spirochaetaceae.g__Treponema.s__Treponema_lecithinolyticum &lt;dbl&gt; | d__Bacteria.p__Spirochaetota.c__Spirochaetia.o__Spirochaetales.f__Spirochaetaceae.g__Treponema.s__Treponema_refringens &lt;dbl&gt; | d__Bacteria.p__Spirochaetota.c__Spirochaetia.o__Spirochaetales.f__Spirochaetaceae.g__Treponema.s__Treponema_socranskii &lt;dbl&gt; | d__Bacteria.p__Spirochaetota.c__Spirochaetia.o__Spirochaetales.f__Spirochaetaceae.g__Treponema.s__unidentified &lt;dbl&gt; | d__Eukaryota.p__Ascomycota.c__Saccharomycetes.o__Saccharomycetales.f__Debaryomycetaceae.g__Candida.Lodderomyces_clade.s__Candida_parapsilosis &lt;dbl&gt; |\n",
       "|---|---|---|---|---|---|---|---|---|---|---|---|---|---|---|---|---|---|---|---|---|---|\n",
       "| 1 | FS01baseline | 1 | Pre_1  | Pre  | P | F  | 3.838356 | 41.00 | High | 30 | ⋯ | 0 | 0 | 0 |   0 | 0 | 0 |  0 | 0 | 0 | 0 |\n",
       "| 2 | FS0236mo     | 2 | Post_2 | Post | A | DS | 1.873973 | 14.20 | Low  | 56 | ⋯ | 0 | 0 | 0 | 164 | 0 | 0 | 27 | 0 | 0 | 0 |\n",
       "| 3 | FS02baseline | 2 | Pre_2  | Pre  | A | DS | 1.873973 | 14.20 | Low  |  0 | ⋯ | 0 | 0 | 0 |   0 | 0 | 0 |  0 | 0 | 0 | 0 |\n",
       "| 4 | FS0436mo     | 3 | Post_3 | Post | P | F  | 3.715068 | 67.40 | High | 63 | ⋯ | 0 | 0 | 0 |   0 | 0 | 0 |  0 | 0 | 0 | 0 |\n",
       "| 5 | FS04baseline | 3 | Pre_3  | Pre  | P | F  | 3.715068 | 67.40 | High | 23 | ⋯ | 0 | 0 | 0 |   0 | 0 | 0 |  0 | 0 | 0 | 0 |\n",
       "| 6 | FS0536mo     | 4 | Post_4 | Post | A | DS | 3.991781 |  9.59 | Low  | 61 | ⋯ | 0 | 0 | 0 |  14 | 0 | 0 |  0 | 0 | 0 | 0 |\n",
       "\n"
      ],
      "text/plain": [
       "  Original_Sample_ID Subject_No Sample_ID Time_Point Treatment Outcome Age     \n",
       "1 FS01baseline       1          Pre_1     Pre        P         F       3.838356\n",
       "2 FS0236mo           2          Post_2    Post       A         DS      1.873973\n",
       "3 FS02baseline       2          Pre_2     Pre        A         DS      1.873973\n",
       "4 FS0436mo           3          Post_3    Post       P         F       3.715068\n",
       "5 FS04baseline       3          Pre_3     Pre        P         F       3.715068\n",
       "6 FS0536mo           4          Post_4    Post       A         DS      3.991781\n",
       "  IgE   IgE_Binarized Unassigned.__.__.__.__.__.__ ⋯\n",
       "1 41.00 High          30                           ⋯\n",
       "2 14.20 Low           56                           ⋯\n",
       "3 14.20 Low            0                           ⋯\n",
       "4 67.40 High          63                           ⋯\n",
       "5 67.40 High          23                           ⋯\n",
       "6  9.59 Low           61                           ⋯\n",
       "  d__Bacteria.p__Proteobacteria.c__Gammaproteobacteria.o__Xanthomonadales.f__Xanthomonadaceae.__.__\n",
       "1 0                                                                                                \n",
       "2 0                                                                                                \n",
       "3 0                                                                                                \n",
       "4 0                                                                                                \n",
       "5 0                                                                                                \n",
       "6 0                                                                                                \n",
       "  d__Bacteria.p__Proteobacteria.c__Gammaproteobacteria.o__Xanthomonadales.f__Xanthomonadaceae.g__Stenotrophomonas.__\n",
       "1 0                                                                                                                 \n",
       "2 0                                                                                                                 \n",
       "3 0                                                                                                                 \n",
       "4 0                                                                                                                 \n",
       "5 0                                                                                                                 \n",
       "6 0                                                                                                                 \n",
       "  d__Bacteria.p__Proteobacteria.c__Gammaproteobacteria.o__Xanthomonadales.f__Xanthomonadaceae.g__Xanthomonas.__\n",
       "1 0                                                                                                            \n",
       "2 0                                                                                                            \n",
       "3 0                                                                                                            \n",
       "4 0                                                                                                            \n",
       "5 0                                                                                                            \n",
       "6 0                                                                                                            \n",
       "  d__Bacteria.p__Spirochaetota.c__Spirochaetia.o__Spirochaetales.f__Spirochaetaceae.g__Treponema.__\n",
       "1   0                                                                                              \n",
       "2 164                                                                                              \n",
       "3   0                                                                                              \n",
       "4   0                                                                                              \n",
       "5   0                                                                                              \n",
       "6  14                                                                                              \n",
       "  d__Bacteria.p__Spirochaetota.c__Spirochaetia.o__Spirochaetales.f__Spirochaetaceae.g__Treponema.s__Treponema_denticola\n",
       "1 0                                                                                                                    \n",
       "2 0                                                                                                                    \n",
       "3 0                                                                                                                    \n",
       "4 0                                                                                                                    \n",
       "5 0                                                                                                                    \n",
       "6 0                                                                                                                    \n",
       "  d__Bacteria.p__Spirochaetota.c__Spirochaetia.o__Spirochaetales.f__Spirochaetaceae.g__Treponema.s__Treponema_lecithinolyticum\n",
       "1 0                                                                                                                           \n",
       "2 0                                                                                                                           \n",
       "3 0                                                                                                                           \n",
       "4 0                                                                                                                           \n",
       "5 0                                                                                                                           \n",
       "6 0                                                                                                                           \n",
       "  d__Bacteria.p__Spirochaetota.c__Spirochaetia.o__Spirochaetales.f__Spirochaetaceae.g__Treponema.s__Treponema_refringens\n",
       "1  0                                                                                                                    \n",
       "2 27                                                                                                                    \n",
       "3  0                                                                                                                    \n",
       "4  0                                                                                                                    \n",
       "5  0                                                                                                                    \n",
       "6  0                                                                                                                    \n",
       "  d__Bacteria.p__Spirochaetota.c__Spirochaetia.o__Spirochaetales.f__Spirochaetaceae.g__Treponema.s__Treponema_socranskii\n",
       "1 0                                                                                                                     \n",
       "2 0                                                                                                                     \n",
       "3 0                                                                                                                     \n",
       "4 0                                                                                                                     \n",
       "5 0                                                                                                                     \n",
       "6 0                                                                                                                     \n",
       "  d__Bacteria.p__Spirochaetota.c__Spirochaetia.o__Spirochaetales.f__Spirochaetaceae.g__Treponema.s__unidentified\n",
       "1 0                                                                                                             \n",
       "2 0                                                                                                             \n",
       "3 0                                                                                                             \n",
       "4 0                                                                                                             \n",
       "5 0                                                                                                             \n",
       "6 0                                                                                                             \n",
       "  d__Eukaryota.p__Ascomycota.c__Saccharomycetes.o__Saccharomycetales.f__Debaryomycetaceae.g__Candida.Lodderomyces_clade.s__Candida_parapsilosis\n",
       "1 0                                                                                                                                            \n",
       "2 0                                                                                                                                            \n",
       "3 0                                                                                                                                            \n",
       "4 0                                                                                                                                            \n",
       "5 0                                                                                                                                            \n",
       "6 0                                                                                                                                            "
      ]
     },
     "metadata": {},
     "output_type": "display_data"
    }
   ],
   "source": [
    "head(saliva_df)"
   ]
  },
  {
   "cell_type": "code",
   "execution_count": 4,
   "id": "b6940986-3610-4120-9884-e4903d945f93",
   "metadata": {},
   "outputs": [
    {
     "data": {
      "text/plain": [
       "<Command: kraken2>"
      ]
     },
     "metadata": {},
     "output_type": "display_data"
    }
   ],
   "source": [
    "kraken2(saliva_df[,9:ncol(saliva_df)])"
   ]
  },
  {
   "cell_type": "code",
   "execution_count": null,
   "id": "b55bbb83-1ba9-476c-b305-253b2cff4364",
   "metadata": {},
   "outputs": [],
   "source": []
  }
 ],
 "metadata": {
  "kernelspec": {
   "display_name": "R",
   "language": "R",
   "name": "ir"
  },
  "language_info": {
   "codemirror_mode": "r",
   "file_extension": ".r",
   "mimetype": "text/x-r-source",
   "name": "R",
   "pygments_lexer": "r",
   "version": "4.4.3"
  }
 },
 "nbformat": 4,
 "nbformat_minor": 5
}
