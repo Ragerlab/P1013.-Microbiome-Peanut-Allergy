{
 "cells": [
  {
   "cell_type": "code",
   "execution_count": 1,
   "id": "2beeee7d-19d6-430f-8f0f-4f9e504c9994",
   "metadata": {},
   "outputs": [],
   "source": [
    "# if (!requireNamespace(\"BiocManager\", quietly=TRUE)) \n",
    "#     install.packages(\"BiocManager\") \n",
    "\n",
    "# BiocManager::install(\"ANCOMBC\")"
   ]
  },
  {
   "cell_type": "code",
   "execution_count": 2,
   "id": "712c0b3d-627a-49cf-9714-e6dfd145e0e0",
   "metadata": {},
   "outputs": [
    {
     "name": "stderr",
     "output_type": "stream",
     "text": [
      "── \u001b[1mAttaching core tidyverse packages\u001b[22m ──────────────────────── tidyverse 2.0.0 ──\n",
      "\u001b[32m✔\u001b[39m \u001b[34mdplyr    \u001b[39m 1.1.4     \u001b[32m✔\u001b[39m \u001b[34mreadr    \u001b[39m 2.1.5\n",
      "\u001b[32m✔\u001b[39m \u001b[34mforcats  \u001b[39m 1.0.0     \u001b[32m✔\u001b[39m \u001b[34mstringr  \u001b[39m 1.5.1\n",
      "\u001b[32m✔\u001b[39m \u001b[34mggplot2  \u001b[39m 3.5.2     \u001b[32m✔\u001b[39m \u001b[34mtibble   \u001b[39m 3.3.0\n",
      "\u001b[32m✔\u001b[39m \u001b[34mlubridate\u001b[39m 1.9.4     \u001b[32m✔\u001b[39m \u001b[34mtidyr    \u001b[39m 1.3.1\n",
      "\u001b[32m✔\u001b[39m \u001b[34mpurrr    \u001b[39m 1.1.0     \n",
      "── \u001b[1mConflicts\u001b[22m ────────────────────────────────────────── tidyverse_conflicts() ──\n",
      "\u001b[31m✖\u001b[39m \u001b[34mdplyr\u001b[39m::\u001b[32mfilter()\u001b[39m masks \u001b[34mstats\u001b[39m::filter()\n",
      "\u001b[31m✖\u001b[39m \u001b[34mdplyr\u001b[39m::\u001b[32mlag()\u001b[39m    masks \u001b[34mstats\u001b[39m::lag()\n",
      "\u001b[36mℹ\u001b[39m Use the conflicted package (\u001b[3m\u001b[34m<http://conflicted.r-lib.org/>\u001b[39m\u001b[23m) to force all conflicts to become errors\n",
      "Welcome! Want to learn more? See two factoextra-related books at https://goo.gl/ve3WBa\n",
      "\n"
     ]
    }
   ],
   "source": [
    ".libPaths(R.home('/opt/homebrew/Caskroom/miniforge/base/lib/R/library'))\n",
    "Output = '/Users/alexis/Library/CloudStorage/OneDrive-UniversityofNorthCarolinaatChapelHill/CEMALB_DataAnalysisPM/Projects/P1013. Microbiome Peanut Allergy/P1013.3. Analyses/P1013.3.2. Descriptive Statistics/Output'\n",
    "cur_date = '090825'\n",
    "\n",
    "library(readxl)\n",
    "library(openxlsx)\n",
    "library(writexl)\n",
    "library(tidyverse)\n",
    "library(factoextra)\n",
    "library(gtsummary)\n",
    "library(ANCOMBC) \n",
    "\n",
    "# reading in files\n",
    "saliva_df = data.frame(read_excel(\"Input/Processed_Saliva_Data_090525.xlsx\")) %>%\n",
    "    mutate(Age = as.numeric(Age), IgE = as.numeric(IgE)) \n",
    "stool_df = data.frame(read_excel(\"Input/Processed_Stool_Data_090525.xlsx\")) %>%\n",
    "    mutate(Age = as.numeric(Age), IgE = as.numeric(IgE)) "
   ]
  },
  {
   "cell_type": "code",
   "execution_count": 3,
   "id": "615998a2-0215-4330-b5cb-b7444aac6ef1",
   "metadata": {},
   "outputs": [
    {
     "data": {
      "text/html": [
       "<table class=\"dataframe\">\n",
       "<caption>A data.frame: 6 × 127</caption>\n",
       "<thead>\n",
       "\t<tr><th></th><th scope=col>Original_Sample_ID</th><th scope=col>Subject_No</th><th scope=col>Sample_ID</th><th scope=col>Time_Point</th><th scope=col>Treatment</th><th scope=col>Outcome</th><th scope=col>Age</th><th scope=col>IgE</th><th scope=col>IgE_Binarized</th><th scope=col>k__Bacteria.__.__.__.__.__.__</th><th scope=col>⋯</th><th scope=col>k__Bacteria.p__Proteobacteria.c__Gammaproteobacteria.o__Pasteurellales.f__Pasteurellaceae.__.__</th><th scope=col>k__Bacteria.p__Proteobacteria.c__Gammaproteobacteria.o__Pasteurellales.f__Pasteurellaceae.g__Aggregatibacter.__</th><th scope=col>k__Bacteria.p__Proteobacteria.c__Gammaproteobacteria.o__Pasteurellales.f__Pasteurellaceae.g__Aggregatibacter.s__aphrophilus</th><th scope=col>k__Bacteria.p__Proteobacteria.c__Gammaproteobacteria.o__Pasteurellales.f__Pasteurellaceae.g__Haemophilus.__</th><th scope=col>k__Bacteria.p__Proteobacteria.c__Gammaproteobacteria.o__Pasteurellales.f__Pasteurellaceae.g__Haemophilus.s__parainfluenzae</th><th scope=col>k__Bacteria.p__Saccharibacteria_.TM7..c__Saccharibacteria_.TM7._.C.1..o__Saccharibacteria_.TM7._.O.1..f__Saccharibacteria_.TM7._.F.1..g__Saccharibacteria_.TM7._.G.1..__</th><th scope=col>k__Bacteria.p__Saccharibacteria_.TM7..c__Saccharibacteria_.TM7._.C.1..o__Saccharibacteria_.TM7._.O.1..f__Saccharibacteria_.TM7._.F.1..g__Saccharibacteria_.TM7._.G.1..s__bacterium_HMT_347</th><th scope=col>k__Bacteria.p__Saccharibacteria_.TM7..c__Saccharibacteria_.TM7._.C.1..o__Saccharibacteria_.TM7._.O.1..f__Saccharibacteria_.TM7._.F.1..g__Saccharibacteria_.TM7._.G.1..s__bacterium_HMT_352</th><th scope=col>k__Bacteria.p__Saccharibacteria_.TM7..c__Saccharibacteria_.TM7._.C.1..o__Saccharibacteria_.TM7._.O.1..f__Saccharibacteria_.TM7._.F.1..g__Saccharibacteria_.TM7._.G.3..s__bacterium_HMT_351</th><th scope=col>k__Bacteria.p__Saccharibacteria_.TM7..c__Saccharibacteria_.TM7._.C.1..o__Saccharibacteria_.TM7._.O.1..f__Saccharibacteria_.TM7._.F.1..g__Saccharibacteria_.TM7._.G.6..s__bacterium_HMT_870</th></tr>\n",
       "\t<tr><th></th><th scope=col>&lt;chr&gt;</th><th scope=col>&lt;dbl&gt;</th><th scope=col>&lt;chr&gt;</th><th scope=col>&lt;chr&gt;</th><th scope=col>&lt;chr&gt;</th><th scope=col>&lt;chr&gt;</th><th scope=col>&lt;dbl&gt;</th><th scope=col>&lt;dbl&gt;</th><th scope=col>&lt;chr&gt;</th><th scope=col>&lt;dbl&gt;</th><th scope=col>⋯</th><th scope=col>&lt;dbl&gt;</th><th scope=col>&lt;dbl&gt;</th><th scope=col>&lt;dbl&gt;</th><th scope=col>&lt;dbl&gt;</th><th scope=col>&lt;dbl&gt;</th><th scope=col>&lt;dbl&gt;</th><th scope=col>&lt;dbl&gt;</th><th scope=col>&lt;dbl&gt;</th><th scope=col>&lt;dbl&gt;</th><th scope=col>&lt;dbl&gt;</th></tr>\n",
       "</thead>\n",
       "<tbody>\n",
       "\t<tr><th scope=row>1</th><td>FS01baseline</td><td>1</td><td>Pre_1 </td><td>Pre </td><td>P</td><td>F </td><td>3.838356</td><td>41.00</td><td>High</td><td> 7</td><td>⋯</td><td> 57</td><td>13</td><td> 0</td><td>213</td><td> 775</td><td>  0</td><td> 14</td><td>246</td><td> 44</td><td>  64</td></tr>\n",
       "\t<tr><th scope=row>2</th><td>FS0236mo    </td><td>2</td><td>Post_2</td><td>Post</td><td>A</td><td>DS</td><td>1.873973</td><td>14.20</td><td>Low </td><td>63</td><td>⋯</td><td>698</td><td> 0</td><td>43</td><td> 98</td><td>1657</td><td>  0</td><td>  0</td><td>423</td><td>146</td><td> 123</td></tr>\n",
       "\t<tr><th scope=row>3</th><td>FS02baseline</td><td>2</td><td>Pre_2 </td><td>Pre </td><td>A</td><td>DS</td><td>1.873973</td><td>14.20</td><td>Low </td><td> 0</td><td>⋯</td><td>  0</td><td> 0</td><td>46</td><td>371</td><td>3359</td><td>  0</td><td>  0</td><td>  0</td><td>  0</td><td> 112</td></tr>\n",
       "\t<tr><th scope=row>4</th><td>FS0436mo    </td><td>3</td><td>Post_3</td><td>Post</td><td>P</td><td>F </td><td>3.715068</td><td>67.40</td><td>High</td><td>34</td><td>⋯</td><td>  0</td><td> 0</td><td> 0</td><td>  0</td><td>  92</td><td>  0</td><td>200</td><td> 67</td><td> 32</td><td> 201</td></tr>\n",
       "\t<tr><th scope=row>5</th><td>FS04baseline</td><td>3</td><td>Pre_3 </td><td>Pre </td><td>P</td><td>F </td><td>3.715068</td><td>67.40</td><td>High</td><td> 4</td><td>⋯</td><td>  0</td><td> 0</td><td> 0</td><td>  0</td><td>  43</td><td>414</td><td> 47</td><td>  0</td><td>  2</td><td>1050</td></tr>\n",
       "\t<tr><th scope=row>6</th><td>FS0536mo    </td><td>4</td><td>Post_4</td><td>Post</td><td>A</td><td>DS</td><td>3.991781</td><td> 9.59</td><td>Low </td><td> 6</td><td>⋯</td><td>  0</td><td>17</td><td> 0</td><td>139</td><td>2521</td><td>  0</td><td>  0</td><td>502</td><td> 39</td><td> 101</td></tr>\n",
       "</tbody>\n",
       "</table>\n"
      ],
      "text/latex": [
       "A data.frame: 6 × 127\n",
       "\\begin{tabular}{r|lllllllllllllllllllll}\n",
       "  & Original\\_Sample\\_ID & Subject\\_No & Sample\\_ID & Time\\_Point & Treatment & Outcome & Age & IgE & IgE\\_Binarized & k\\_\\_Bacteria.\\_\\_.\\_\\_.\\_\\_.\\_\\_.\\_\\_.\\_\\_ & ⋯ & k\\_\\_Bacteria.p\\_\\_Proteobacteria.c\\_\\_Gammaproteobacteria.o\\_\\_Pasteurellales.f\\_\\_Pasteurellaceae.\\_\\_.\\_\\_ & k\\_\\_Bacteria.p\\_\\_Proteobacteria.c\\_\\_Gammaproteobacteria.o\\_\\_Pasteurellales.f\\_\\_Pasteurellaceae.g\\_\\_Aggregatibacter.\\_\\_ & k\\_\\_Bacteria.p\\_\\_Proteobacteria.c\\_\\_Gammaproteobacteria.o\\_\\_Pasteurellales.f\\_\\_Pasteurellaceae.g\\_\\_Aggregatibacter.s\\_\\_aphrophilus & k\\_\\_Bacteria.p\\_\\_Proteobacteria.c\\_\\_Gammaproteobacteria.o\\_\\_Pasteurellales.f\\_\\_Pasteurellaceae.g\\_\\_Haemophilus.\\_\\_ & k\\_\\_Bacteria.p\\_\\_Proteobacteria.c\\_\\_Gammaproteobacteria.o\\_\\_Pasteurellales.f\\_\\_Pasteurellaceae.g\\_\\_Haemophilus.s\\_\\_parainfluenzae & k\\_\\_Bacteria.p\\_\\_Saccharibacteria\\_.TM7..c\\_\\_Saccharibacteria\\_.TM7.\\_.C.1..o\\_\\_Saccharibacteria\\_.TM7.\\_.O.1..f\\_\\_Saccharibacteria\\_.TM7.\\_.F.1..g\\_\\_Saccharibacteria\\_.TM7.\\_.G.1..\\_\\_ & k\\_\\_Bacteria.p\\_\\_Saccharibacteria\\_.TM7..c\\_\\_Saccharibacteria\\_.TM7.\\_.C.1..o\\_\\_Saccharibacteria\\_.TM7.\\_.O.1..f\\_\\_Saccharibacteria\\_.TM7.\\_.F.1..g\\_\\_Saccharibacteria\\_.TM7.\\_.G.1..s\\_\\_bacterium\\_HMT\\_347 & k\\_\\_Bacteria.p\\_\\_Saccharibacteria\\_.TM7..c\\_\\_Saccharibacteria\\_.TM7.\\_.C.1..o\\_\\_Saccharibacteria\\_.TM7.\\_.O.1..f\\_\\_Saccharibacteria\\_.TM7.\\_.F.1..g\\_\\_Saccharibacteria\\_.TM7.\\_.G.1..s\\_\\_bacterium\\_HMT\\_352 & k\\_\\_Bacteria.p\\_\\_Saccharibacteria\\_.TM7..c\\_\\_Saccharibacteria\\_.TM7.\\_.C.1..o\\_\\_Saccharibacteria\\_.TM7.\\_.O.1..f\\_\\_Saccharibacteria\\_.TM7.\\_.F.1..g\\_\\_Saccharibacteria\\_.TM7.\\_.G.3..s\\_\\_bacterium\\_HMT\\_351 & k\\_\\_Bacteria.p\\_\\_Saccharibacteria\\_.TM7..c\\_\\_Saccharibacteria\\_.TM7.\\_.C.1..o\\_\\_Saccharibacteria\\_.TM7.\\_.O.1..f\\_\\_Saccharibacteria\\_.TM7.\\_.F.1..g\\_\\_Saccharibacteria\\_.TM7.\\_.G.6..s\\_\\_bacterium\\_HMT\\_870\\\\\n",
       "  & <chr> & <dbl> & <chr> & <chr> & <chr> & <chr> & <dbl> & <dbl> & <chr> & <dbl> & ⋯ & <dbl> & <dbl> & <dbl> & <dbl> & <dbl> & <dbl> & <dbl> & <dbl> & <dbl> & <dbl>\\\\\n",
       "\\hline\n",
       "\t1 & FS01baseline & 1 & Pre\\_1  & Pre  & P & F  & 3.838356 & 41.00 & High &  7 & ⋯ &  57 & 13 &  0 & 213 &  775 &   0 &  14 & 246 &  44 &   64\\\\\n",
       "\t2 & FS0236mo     & 2 & Post\\_2 & Post & A & DS & 1.873973 & 14.20 & Low  & 63 & ⋯ & 698 &  0 & 43 &  98 & 1657 &   0 &   0 & 423 & 146 &  123\\\\\n",
       "\t3 & FS02baseline & 2 & Pre\\_2  & Pre  & A & DS & 1.873973 & 14.20 & Low  &  0 & ⋯ &   0 &  0 & 46 & 371 & 3359 &   0 &   0 &   0 &   0 &  112\\\\\n",
       "\t4 & FS0436mo     & 3 & Post\\_3 & Post & P & F  & 3.715068 & 67.40 & High & 34 & ⋯ &   0 &  0 &  0 &   0 &   92 &   0 & 200 &  67 &  32 &  201\\\\\n",
       "\t5 & FS04baseline & 3 & Pre\\_3  & Pre  & P & F  & 3.715068 & 67.40 & High &  4 & ⋯ &   0 &  0 &  0 &   0 &   43 & 414 &  47 &   0 &   2 & 1050\\\\\n",
       "\t6 & FS0536mo     & 4 & Post\\_4 & Post & A & DS & 3.991781 &  9.59 & Low  &  6 & ⋯ &   0 & 17 &  0 & 139 & 2521 &   0 &   0 & 502 &  39 &  101\\\\\n",
       "\\end{tabular}\n"
      ],
      "text/markdown": [
       "\n",
       "A data.frame: 6 × 127\n",
       "\n",
       "| <!--/--> | Original_Sample_ID &lt;chr&gt; | Subject_No &lt;dbl&gt; | Sample_ID &lt;chr&gt; | Time_Point &lt;chr&gt; | Treatment &lt;chr&gt; | Outcome &lt;chr&gt; | Age &lt;dbl&gt; | IgE &lt;dbl&gt; | IgE_Binarized &lt;chr&gt; | k__Bacteria.__.__.__.__.__.__ &lt;dbl&gt; | ⋯ ⋯ | k__Bacteria.p__Proteobacteria.c__Gammaproteobacteria.o__Pasteurellales.f__Pasteurellaceae.__.__ &lt;dbl&gt; | k__Bacteria.p__Proteobacteria.c__Gammaproteobacteria.o__Pasteurellales.f__Pasteurellaceae.g__Aggregatibacter.__ &lt;dbl&gt; | k__Bacteria.p__Proteobacteria.c__Gammaproteobacteria.o__Pasteurellales.f__Pasteurellaceae.g__Aggregatibacter.s__aphrophilus &lt;dbl&gt; | k__Bacteria.p__Proteobacteria.c__Gammaproteobacteria.o__Pasteurellales.f__Pasteurellaceae.g__Haemophilus.__ &lt;dbl&gt; | k__Bacteria.p__Proteobacteria.c__Gammaproteobacteria.o__Pasteurellales.f__Pasteurellaceae.g__Haemophilus.s__parainfluenzae &lt;dbl&gt; | k__Bacteria.p__Saccharibacteria_.TM7..c__Saccharibacteria_.TM7._.C.1..o__Saccharibacteria_.TM7._.O.1..f__Saccharibacteria_.TM7._.F.1..g__Saccharibacteria_.TM7._.G.1..__ &lt;dbl&gt; | k__Bacteria.p__Saccharibacteria_.TM7..c__Saccharibacteria_.TM7._.C.1..o__Saccharibacteria_.TM7._.O.1..f__Saccharibacteria_.TM7._.F.1..g__Saccharibacteria_.TM7._.G.1..s__bacterium_HMT_347 &lt;dbl&gt; | k__Bacteria.p__Saccharibacteria_.TM7..c__Saccharibacteria_.TM7._.C.1..o__Saccharibacteria_.TM7._.O.1..f__Saccharibacteria_.TM7._.F.1..g__Saccharibacteria_.TM7._.G.1..s__bacterium_HMT_352 &lt;dbl&gt; | k__Bacteria.p__Saccharibacteria_.TM7..c__Saccharibacteria_.TM7._.C.1..o__Saccharibacteria_.TM7._.O.1..f__Saccharibacteria_.TM7._.F.1..g__Saccharibacteria_.TM7._.G.3..s__bacterium_HMT_351 &lt;dbl&gt; | k__Bacteria.p__Saccharibacteria_.TM7..c__Saccharibacteria_.TM7._.C.1..o__Saccharibacteria_.TM7._.O.1..f__Saccharibacteria_.TM7._.F.1..g__Saccharibacteria_.TM7._.G.6..s__bacterium_HMT_870 &lt;dbl&gt; |\n",
       "|---|---|---|---|---|---|---|---|---|---|---|---|---|---|---|---|---|---|---|---|---|---|\n",
       "| 1 | FS01baseline | 1 | Pre_1  | Pre  | P | F  | 3.838356 | 41.00 | High |  7 | ⋯ |  57 | 13 |  0 | 213 |  775 |   0 |  14 | 246 |  44 |   64 |\n",
       "| 2 | FS0236mo     | 2 | Post_2 | Post | A | DS | 1.873973 | 14.20 | Low  | 63 | ⋯ | 698 |  0 | 43 |  98 | 1657 |   0 |   0 | 423 | 146 |  123 |\n",
       "| 3 | FS02baseline | 2 | Pre_2  | Pre  | A | DS | 1.873973 | 14.20 | Low  |  0 | ⋯ |   0 |  0 | 46 | 371 | 3359 |   0 |   0 |   0 |   0 |  112 |\n",
       "| 4 | FS0436mo     | 3 | Post_3 | Post | P | F  | 3.715068 | 67.40 | High | 34 | ⋯ |   0 |  0 |  0 |   0 |   92 |   0 | 200 |  67 |  32 |  201 |\n",
       "| 5 | FS04baseline | 3 | Pre_3  | Pre  | P | F  | 3.715068 | 67.40 | High |  4 | ⋯ |   0 |  0 |  0 |   0 |   43 | 414 |  47 |   0 |   2 | 1050 |\n",
       "| 6 | FS0536mo     | 4 | Post_4 | Post | A | DS | 3.991781 |  9.59 | Low  |  6 | ⋯ |   0 | 17 |  0 | 139 | 2521 |   0 |   0 | 502 |  39 |  101 |\n",
       "\n"
      ],
      "text/plain": [
       "  Original_Sample_ID Subject_No Sample_ID Time_Point Treatment Outcome Age     \n",
       "1 FS01baseline       1          Pre_1     Pre        P         F       3.838356\n",
       "2 FS0236mo           2          Post_2    Post       A         DS      1.873973\n",
       "3 FS02baseline       2          Pre_2     Pre        A         DS      1.873973\n",
       "4 FS0436mo           3          Post_3    Post       P         F       3.715068\n",
       "5 FS04baseline       3          Pre_3     Pre        P         F       3.715068\n",
       "6 FS0536mo           4          Post_4    Post       A         DS      3.991781\n",
       "  IgE   IgE_Binarized k__Bacteria.__.__.__.__.__.__ ⋯\n",
       "1 41.00 High           7                            ⋯\n",
       "2 14.20 Low           63                            ⋯\n",
       "3 14.20 Low            0                            ⋯\n",
       "4 67.40 High          34                            ⋯\n",
       "5 67.40 High           4                            ⋯\n",
       "6  9.59 Low            6                            ⋯\n",
       "  k__Bacteria.p__Proteobacteria.c__Gammaproteobacteria.o__Pasteurellales.f__Pasteurellaceae.__.__\n",
       "1  57                                                                                            \n",
       "2 698                                                                                            \n",
       "3   0                                                                                            \n",
       "4   0                                                                                            \n",
       "5   0                                                                                            \n",
       "6   0                                                                                            \n",
       "  k__Bacteria.p__Proteobacteria.c__Gammaproteobacteria.o__Pasteurellales.f__Pasteurellaceae.g__Aggregatibacter.__\n",
       "1 13                                                                                                             \n",
       "2  0                                                                                                             \n",
       "3  0                                                                                                             \n",
       "4  0                                                                                                             \n",
       "5  0                                                                                                             \n",
       "6 17                                                                                                             \n",
       "  k__Bacteria.p__Proteobacteria.c__Gammaproteobacteria.o__Pasteurellales.f__Pasteurellaceae.g__Aggregatibacter.s__aphrophilus\n",
       "1  0                                                                                                                         \n",
       "2 43                                                                                                                         \n",
       "3 46                                                                                                                         \n",
       "4  0                                                                                                                         \n",
       "5  0                                                                                                                         \n",
       "6  0                                                                                                                         \n",
       "  k__Bacteria.p__Proteobacteria.c__Gammaproteobacteria.o__Pasteurellales.f__Pasteurellaceae.g__Haemophilus.__\n",
       "1 213                                                                                                        \n",
       "2  98                                                                                                        \n",
       "3 371                                                                                                        \n",
       "4   0                                                                                                        \n",
       "5   0                                                                                                        \n",
       "6 139                                                                                                        \n",
       "  k__Bacteria.p__Proteobacteria.c__Gammaproteobacteria.o__Pasteurellales.f__Pasteurellaceae.g__Haemophilus.s__parainfluenzae\n",
       "1  775                                                                                                                      \n",
       "2 1657                                                                                                                      \n",
       "3 3359                                                                                                                      \n",
       "4   92                                                                                                                      \n",
       "5   43                                                                                                                      \n",
       "6 2521                                                                                                                      \n",
       "  k__Bacteria.p__Saccharibacteria_.TM7..c__Saccharibacteria_.TM7._.C.1..o__Saccharibacteria_.TM7._.O.1..f__Saccharibacteria_.TM7._.F.1..g__Saccharibacteria_.TM7._.G.1..__\n",
       "1   0                                                                                                                                                                     \n",
       "2   0                                                                                                                                                                     \n",
       "3   0                                                                                                                                                                     \n",
       "4   0                                                                                                                                                                     \n",
       "5 414                                                                                                                                                                     \n",
       "6   0                                                                                                                                                                     \n",
       "  k__Bacteria.p__Saccharibacteria_.TM7..c__Saccharibacteria_.TM7._.C.1..o__Saccharibacteria_.TM7._.O.1..f__Saccharibacteria_.TM7._.F.1..g__Saccharibacteria_.TM7._.G.1..s__bacterium_HMT_347\n",
       "1  14                                                                                                                                                                                       \n",
       "2   0                                                                                                                                                                                       \n",
       "3   0                                                                                                                                                                                       \n",
       "4 200                                                                                                                                                                                       \n",
       "5  47                                                                                                                                                                                       \n",
       "6   0                                                                                                                                                                                       \n",
       "  k__Bacteria.p__Saccharibacteria_.TM7..c__Saccharibacteria_.TM7._.C.1..o__Saccharibacteria_.TM7._.O.1..f__Saccharibacteria_.TM7._.F.1..g__Saccharibacteria_.TM7._.G.1..s__bacterium_HMT_352\n",
       "1 246                                                                                                                                                                                       \n",
       "2 423                                                                                                                                                                                       \n",
       "3   0                                                                                                                                                                                       \n",
       "4  67                                                                                                                                                                                       \n",
       "5   0                                                                                                                                                                                       \n",
       "6 502                                                                                                                                                                                       \n",
       "  k__Bacteria.p__Saccharibacteria_.TM7..c__Saccharibacteria_.TM7._.C.1..o__Saccharibacteria_.TM7._.O.1..f__Saccharibacteria_.TM7._.F.1..g__Saccharibacteria_.TM7._.G.3..s__bacterium_HMT_351\n",
       "1  44                                                                                                                                                                                       \n",
       "2 146                                                                                                                                                                                       \n",
       "3   0                                                                                                                                                                                       \n",
       "4  32                                                                                                                                                                                       \n",
       "5   2                                                                                                                                                                                       \n",
       "6  39                                                                                                                                                                                       \n",
       "  k__Bacteria.p__Saccharibacteria_.TM7..c__Saccharibacteria_.TM7._.C.1..o__Saccharibacteria_.TM7._.O.1..f__Saccharibacteria_.TM7._.F.1..g__Saccharibacteria_.TM7._.G.6..s__bacterium_HMT_870\n",
       "1   64                                                                                                                                                                                      \n",
       "2  123                                                                                                                                                                                      \n",
       "3  112                                                                                                                                                                                      \n",
       "4  201                                                                                                                                                                                      \n",
       "5 1050                                                                                                                                                                                      \n",
       "6  101                                                                                                                                                                                      "
      ]
     },
     "metadata": {},
     "output_type": "display_data"
    }
   ],
   "source": [
    "head(saliva_df)"
   ]
  },
  {
   "cell_type": "markdown",
   "id": "0461b1a9-27e0-438f-8976-e3b49fb254ce",
   "metadata": {},
   "source": [
    "# Descriptive Statistics\n",
    "\n",
    "Determining if there are any significant differences in demographic variables based on outcome."
   ]
  },
  {
   "cell_type": "code",
   "execution_count": 4,
   "id": "3f349b3c-6e9f-4f1c-ae8d-1e805aa7d7b0",
   "metadata": {},
   "outputs": [
    {
     "data": {
      "text/html": [
       "<table class=\"dataframe\">\n",
       "<caption>A data.frame: 6 × 127</caption>\n",
       "<thead>\n",
       "\t<tr><th></th><th scope=col>Original_Sample_ID</th><th scope=col>Subject_No</th><th scope=col>Sample_ID</th><th scope=col>Time_Point</th><th scope=col>Treatment</th><th scope=col>Outcome</th><th scope=col>Age</th><th scope=col>IgE</th><th scope=col>IgE_Binarized</th><th scope=col>k__Bacteria.__.__.__.__.__.__</th><th scope=col>⋯</th><th scope=col>k__Bacteria.p__Proteobacteria.c__Gammaproteobacteria.o__Pasteurellales.f__Pasteurellaceae.__.__</th><th scope=col>k__Bacteria.p__Proteobacteria.c__Gammaproteobacteria.o__Pasteurellales.f__Pasteurellaceae.g__Aggregatibacter.__</th><th scope=col>k__Bacteria.p__Proteobacteria.c__Gammaproteobacteria.o__Pasteurellales.f__Pasteurellaceae.g__Aggregatibacter.s__aphrophilus</th><th scope=col>k__Bacteria.p__Proteobacteria.c__Gammaproteobacteria.o__Pasteurellales.f__Pasteurellaceae.g__Haemophilus.__</th><th scope=col>k__Bacteria.p__Proteobacteria.c__Gammaproteobacteria.o__Pasteurellales.f__Pasteurellaceae.g__Haemophilus.s__parainfluenzae</th><th scope=col>k__Bacteria.p__Saccharibacteria_.TM7..c__Saccharibacteria_.TM7._.C.1..o__Saccharibacteria_.TM7._.O.1..f__Saccharibacteria_.TM7._.F.1..g__Saccharibacteria_.TM7._.G.1..__</th><th scope=col>k__Bacteria.p__Saccharibacteria_.TM7..c__Saccharibacteria_.TM7._.C.1..o__Saccharibacteria_.TM7._.O.1..f__Saccharibacteria_.TM7._.F.1..g__Saccharibacteria_.TM7._.G.1..s__bacterium_HMT_347</th><th scope=col>k__Bacteria.p__Saccharibacteria_.TM7..c__Saccharibacteria_.TM7._.C.1..o__Saccharibacteria_.TM7._.O.1..f__Saccharibacteria_.TM7._.F.1..g__Saccharibacteria_.TM7._.G.1..s__bacterium_HMT_352</th><th scope=col>k__Bacteria.p__Saccharibacteria_.TM7..c__Saccharibacteria_.TM7._.C.1..o__Saccharibacteria_.TM7._.O.1..f__Saccharibacteria_.TM7._.F.1..g__Saccharibacteria_.TM7._.G.3..s__bacterium_HMT_351</th><th scope=col>k__Bacteria.p__Saccharibacteria_.TM7..c__Saccharibacteria_.TM7._.C.1..o__Saccharibacteria_.TM7._.O.1..f__Saccharibacteria_.TM7._.F.1..g__Saccharibacteria_.TM7._.G.6..s__bacterium_HMT_870</th></tr>\n",
       "\t<tr><th></th><th scope=col>&lt;chr&gt;</th><th scope=col>&lt;dbl&gt;</th><th scope=col>&lt;chr&gt;</th><th scope=col>&lt;chr&gt;</th><th scope=col>&lt;fct&gt;</th><th scope=col>&lt;fct&gt;</th><th scope=col>&lt;dbl&gt;</th><th scope=col>&lt;dbl&gt;</th><th scope=col>&lt;fct&gt;</th><th scope=col>&lt;dbl&gt;</th><th scope=col>⋯</th><th scope=col>&lt;dbl&gt;</th><th scope=col>&lt;dbl&gt;</th><th scope=col>&lt;dbl&gt;</th><th scope=col>&lt;dbl&gt;</th><th scope=col>&lt;dbl&gt;</th><th scope=col>&lt;dbl&gt;</th><th scope=col>&lt;dbl&gt;</th><th scope=col>&lt;dbl&gt;</th><th scope=col>&lt;dbl&gt;</th><th scope=col>&lt;dbl&gt;</th></tr>\n",
       "</thead>\n",
       "<tbody>\n",
       "\t<tr><th scope=row>1</th><td>FS01baseline</td><td>1</td><td>Pre_1 </td><td>Pre </td><td>P</td><td>F</td><td>3.838356</td><td>41.00</td><td>High</td><td> 7</td><td>⋯</td><td> 57</td><td>13</td><td> 0</td><td>213</td><td> 775</td><td>  0</td><td> 14</td><td>246</td><td> 44</td><td>  64</td></tr>\n",
       "\t<tr><th scope=row>2</th><td>FS0236mo    </td><td>2</td><td>Post_2</td><td>Post</td><td>A</td><td>F</td><td>1.873973</td><td>14.20</td><td>Low </td><td>63</td><td>⋯</td><td>698</td><td> 0</td><td>43</td><td> 98</td><td>1657</td><td>  0</td><td>  0</td><td>423</td><td>146</td><td> 123</td></tr>\n",
       "\t<tr><th scope=row>3</th><td>FS02baseline</td><td>2</td><td>Pre_2 </td><td>Pre </td><td>A</td><td>F</td><td>1.873973</td><td>14.20</td><td>Low </td><td> 0</td><td>⋯</td><td>  0</td><td> 0</td><td>46</td><td>371</td><td>3359</td><td>  0</td><td>  0</td><td>  0</td><td>  0</td><td> 112</td></tr>\n",
       "\t<tr><th scope=row>4</th><td>FS0436mo    </td><td>3</td><td>Post_3</td><td>Post</td><td>P</td><td>F</td><td>3.715068</td><td>67.40</td><td>High</td><td>34</td><td>⋯</td><td>  0</td><td> 0</td><td> 0</td><td>  0</td><td>  92</td><td>  0</td><td>200</td><td> 67</td><td> 32</td><td> 201</td></tr>\n",
       "\t<tr><th scope=row>5</th><td>FS04baseline</td><td>3</td><td>Pre_3 </td><td>Pre </td><td>P</td><td>F</td><td>3.715068</td><td>67.40</td><td>High</td><td> 4</td><td>⋯</td><td>  0</td><td> 0</td><td> 0</td><td>  0</td><td>  43</td><td>414</td><td> 47</td><td>  0</td><td>  2</td><td>1050</td></tr>\n",
       "\t<tr><th scope=row>6</th><td>FS0536mo    </td><td>4</td><td>Post_4</td><td>Post</td><td>A</td><td>F</td><td>3.991781</td><td> 9.59</td><td>Low </td><td> 6</td><td>⋯</td><td>  0</td><td>17</td><td> 0</td><td>139</td><td>2521</td><td>  0</td><td>  0</td><td>502</td><td> 39</td><td> 101</td></tr>\n",
       "</tbody>\n",
       "</table>\n"
      ],
      "text/latex": [
       "A data.frame: 6 × 127\n",
       "\\begin{tabular}{r|lllllllllllllllllllll}\n",
       "  & Original\\_Sample\\_ID & Subject\\_No & Sample\\_ID & Time\\_Point & Treatment & Outcome & Age & IgE & IgE\\_Binarized & k\\_\\_Bacteria.\\_\\_.\\_\\_.\\_\\_.\\_\\_.\\_\\_.\\_\\_ & ⋯ & k\\_\\_Bacteria.p\\_\\_Proteobacteria.c\\_\\_Gammaproteobacteria.o\\_\\_Pasteurellales.f\\_\\_Pasteurellaceae.\\_\\_.\\_\\_ & k\\_\\_Bacteria.p\\_\\_Proteobacteria.c\\_\\_Gammaproteobacteria.o\\_\\_Pasteurellales.f\\_\\_Pasteurellaceae.g\\_\\_Aggregatibacter.\\_\\_ & k\\_\\_Bacteria.p\\_\\_Proteobacteria.c\\_\\_Gammaproteobacteria.o\\_\\_Pasteurellales.f\\_\\_Pasteurellaceae.g\\_\\_Aggregatibacter.s\\_\\_aphrophilus & k\\_\\_Bacteria.p\\_\\_Proteobacteria.c\\_\\_Gammaproteobacteria.o\\_\\_Pasteurellales.f\\_\\_Pasteurellaceae.g\\_\\_Haemophilus.\\_\\_ & k\\_\\_Bacteria.p\\_\\_Proteobacteria.c\\_\\_Gammaproteobacteria.o\\_\\_Pasteurellales.f\\_\\_Pasteurellaceae.g\\_\\_Haemophilus.s\\_\\_parainfluenzae & k\\_\\_Bacteria.p\\_\\_Saccharibacteria\\_.TM7..c\\_\\_Saccharibacteria\\_.TM7.\\_.C.1..o\\_\\_Saccharibacteria\\_.TM7.\\_.O.1..f\\_\\_Saccharibacteria\\_.TM7.\\_.F.1..g\\_\\_Saccharibacteria\\_.TM7.\\_.G.1..\\_\\_ & k\\_\\_Bacteria.p\\_\\_Saccharibacteria\\_.TM7..c\\_\\_Saccharibacteria\\_.TM7.\\_.C.1..o\\_\\_Saccharibacteria\\_.TM7.\\_.O.1..f\\_\\_Saccharibacteria\\_.TM7.\\_.F.1..g\\_\\_Saccharibacteria\\_.TM7.\\_.G.1..s\\_\\_bacterium\\_HMT\\_347 & k\\_\\_Bacteria.p\\_\\_Saccharibacteria\\_.TM7..c\\_\\_Saccharibacteria\\_.TM7.\\_.C.1..o\\_\\_Saccharibacteria\\_.TM7.\\_.O.1..f\\_\\_Saccharibacteria\\_.TM7.\\_.F.1..g\\_\\_Saccharibacteria\\_.TM7.\\_.G.1..s\\_\\_bacterium\\_HMT\\_352 & k\\_\\_Bacteria.p\\_\\_Saccharibacteria\\_.TM7..c\\_\\_Saccharibacteria\\_.TM7.\\_.C.1..o\\_\\_Saccharibacteria\\_.TM7.\\_.O.1..f\\_\\_Saccharibacteria\\_.TM7.\\_.F.1..g\\_\\_Saccharibacteria\\_.TM7.\\_.G.3..s\\_\\_bacterium\\_HMT\\_351 & k\\_\\_Bacteria.p\\_\\_Saccharibacteria\\_.TM7..c\\_\\_Saccharibacteria\\_.TM7.\\_.C.1..o\\_\\_Saccharibacteria\\_.TM7.\\_.O.1..f\\_\\_Saccharibacteria\\_.TM7.\\_.F.1..g\\_\\_Saccharibacteria\\_.TM7.\\_.G.6..s\\_\\_bacterium\\_HMT\\_870\\\\\n",
       "  & <chr> & <dbl> & <chr> & <chr> & <fct> & <fct> & <dbl> & <dbl> & <fct> & <dbl> & ⋯ & <dbl> & <dbl> & <dbl> & <dbl> & <dbl> & <dbl> & <dbl> & <dbl> & <dbl> & <dbl>\\\\\n",
       "\\hline\n",
       "\t1 & FS01baseline & 1 & Pre\\_1  & Pre  & P & F & 3.838356 & 41.00 & High &  7 & ⋯ &  57 & 13 &  0 & 213 &  775 &   0 &  14 & 246 &  44 &   64\\\\\n",
       "\t2 & FS0236mo     & 2 & Post\\_2 & Post & A & F & 1.873973 & 14.20 & Low  & 63 & ⋯ & 698 &  0 & 43 &  98 & 1657 &   0 &   0 & 423 & 146 &  123\\\\\n",
       "\t3 & FS02baseline & 2 & Pre\\_2  & Pre  & A & F & 1.873973 & 14.20 & Low  &  0 & ⋯ &   0 &  0 & 46 & 371 & 3359 &   0 &   0 &   0 &   0 &  112\\\\\n",
       "\t4 & FS0436mo     & 3 & Post\\_3 & Post & P & F & 3.715068 & 67.40 & High & 34 & ⋯ &   0 &  0 &  0 &   0 &   92 &   0 & 200 &  67 &  32 &  201\\\\\n",
       "\t5 & FS04baseline & 3 & Pre\\_3  & Pre  & P & F & 3.715068 & 67.40 & High &  4 & ⋯ &   0 &  0 &  0 &   0 &   43 & 414 &  47 &   0 &   2 & 1050\\\\\n",
       "\t6 & FS0536mo     & 4 & Post\\_4 & Post & A & F & 3.991781 &  9.59 & Low  &  6 & ⋯ &   0 & 17 &  0 & 139 & 2521 &   0 &   0 & 502 &  39 &  101\\\\\n",
       "\\end{tabular}\n"
      ],
      "text/markdown": [
       "\n",
       "A data.frame: 6 × 127\n",
       "\n",
       "| <!--/--> | Original_Sample_ID &lt;chr&gt; | Subject_No &lt;dbl&gt; | Sample_ID &lt;chr&gt; | Time_Point &lt;chr&gt; | Treatment &lt;fct&gt; | Outcome &lt;fct&gt; | Age &lt;dbl&gt; | IgE &lt;dbl&gt; | IgE_Binarized &lt;fct&gt; | k__Bacteria.__.__.__.__.__.__ &lt;dbl&gt; | ⋯ ⋯ | k__Bacteria.p__Proteobacteria.c__Gammaproteobacteria.o__Pasteurellales.f__Pasteurellaceae.__.__ &lt;dbl&gt; | k__Bacteria.p__Proteobacteria.c__Gammaproteobacteria.o__Pasteurellales.f__Pasteurellaceae.g__Aggregatibacter.__ &lt;dbl&gt; | k__Bacteria.p__Proteobacteria.c__Gammaproteobacteria.o__Pasteurellales.f__Pasteurellaceae.g__Aggregatibacter.s__aphrophilus &lt;dbl&gt; | k__Bacteria.p__Proteobacteria.c__Gammaproteobacteria.o__Pasteurellales.f__Pasteurellaceae.g__Haemophilus.__ &lt;dbl&gt; | k__Bacteria.p__Proteobacteria.c__Gammaproteobacteria.o__Pasteurellales.f__Pasteurellaceae.g__Haemophilus.s__parainfluenzae &lt;dbl&gt; | k__Bacteria.p__Saccharibacteria_.TM7..c__Saccharibacteria_.TM7._.C.1..o__Saccharibacteria_.TM7._.O.1..f__Saccharibacteria_.TM7._.F.1..g__Saccharibacteria_.TM7._.G.1..__ &lt;dbl&gt; | k__Bacteria.p__Saccharibacteria_.TM7..c__Saccharibacteria_.TM7._.C.1..o__Saccharibacteria_.TM7._.O.1..f__Saccharibacteria_.TM7._.F.1..g__Saccharibacteria_.TM7._.G.1..s__bacterium_HMT_347 &lt;dbl&gt; | k__Bacteria.p__Saccharibacteria_.TM7..c__Saccharibacteria_.TM7._.C.1..o__Saccharibacteria_.TM7._.O.1..f__Saccharibacteria_.TM7._.F.1..g__Saccharibacteria_.TM7._.G.1..s__bacterium_HMT_352 &lt;dbl&gt; | k__Bacteria.p__Saccharibacteria_.TM7..c__Saccharibacteria_.TM7._.C.1..o__Saccharibacteria_.TM7._.O.1..f__Saccharibacteria_.TM7._.F.1..g__Saccharibacteria_.TM7._.G.3..s__bacterium_HMT_351 &lt;dbl&gt; | k__Bacteria.p__Saccharibacteria_.TM7..c__Saccharibacteria_.TM7._.C.1..o__Saccharibacteria_.TM7._.O.1..f__Saccharibacteria_.TM7._.F.1..g__Saccharibacteria_.TM7._.G.6..s__bacterium_HMT_870 &lt;dbl&gt; |\n",
       "|---|---|---|---|---|---|---|---|---|---|---|---|---|---|---|---|---|---|---|---|---|---|\n",
       "| 1 | FS01baseline | 1 | Pre_1  | Pre  | P | F | 3.838356 | 41.00 | High |  7 | ⋯ |  57 | 13 |  0 | 213 |  775 |   0 |  14 | 246 |  44 |   64 |\n",
       "| 2 | FS0236mo     | 2 | Post_2 | Post | A | F | 1.873973 | 14.20 | Low  | 63 | ⋯ | 698 |  0 | 43 |  98 | 1657 |   0 |   0 | 423 | 146 |  123 |\n",
       "| 3 | FS02baseline | 2 | Pre_2  | Pre  | A | F | 1.873973 | 14.20 | Low  |  0 | ⋯ |   0 |  0 | 46 | 371 | 3359 |   0 |   0 |   0 |   0 |  112 |\n",
       "| 4 | FS0436mo     | 3 | Post_3 | Post | P | F | 3.715068 | 67.40 | High | 34 | ⋯ |   0 |  0 |  0 |   0 |   92 |   0 | 200 |  67 |  32 |  201 |\n",
       "| 5 | FS04baseline | 3 | Pre_3  | Pre  | P | F | 3.715068 | 67.40 | High |  4 | ⋯ |   0 |  0 |  0 |   0 |   43 | 414 |  47 |   0 |   2 | 1050 |\n",
       "| 6 | FS0536mo     | 4 | Post_4 | Post | A | F | 3.991781 |  9.59 | Low  |  6 | ⋯ |   0 | 17 |  0 | 139 | 2521 |   0 |   0 | 502 |  39 |  101 |\n",
       "\n"
      ],
      "text/plain": [
       "  Original_Sample_ID Subject_No Sample_ID Time_Point Treatment Outcome Age     \n",
       "1 FS01baseline       1          Pre_1     Pre        P         F       3.838356\n",
       "2 FS0236mo           2          Post_2    Post       A         F       1.873973\n",
       "3 FS02baseline       2          Pre_2     Pre        A         F       1.873973\n",
       "4 FS0436mo           3          Post_3    Post       P         F       3.715068\n",
       "5 FS04baseline       3          Pre_3     Pre        P         F       3.715068\n",
       "6 FS0536mo           4          Post_4    Post       A         F       3.991781\n",
       "  IgE   IgE_Binarized k__Bacteria.__.__.__.__.__.__ ⋯\n",
       "1 41.00 High           7                            ⋯\n",
       "2 14.20 Low           63                            ⋯\n",
       "3 14.20 Low            0                            ⋯\n",
       "4 67.40 High          34                            ⋯\n",
       "5 67.40 High           4                            ⋯\n",
       "6  9.59 Low            6                            ⋯\n",
       "  k__Bacteria.p__Proteobacteria.c__Gammaproteobacteria.o__Pasteurellales.f__Pasteurellaceae.__.__\n",
       "1  57                                                                                            \n",
       "2 698                                                                                            \n",
       "3   0                                                                                            \n",
       "4   0                                                                                            \n",
       "5   0                                                                                            \n",
       "6   0                                                                                            \n",
       "  k__Bacteria.p__Proteobacteria.c__Gammaproteobacteria.o__Pasteurellales.f__Pasteurellaceae.g__Aggregatibacter.__\n",
       "1 13                                                                                                             \n",
       "2  0                                                                                                             \n",
       "3  0                                                                                                             \n",
       "4  0                                                                                                             \n",
       "5  0                                                                                                             \n",
       "6 17                                                                                                             \n",
       "  k__Bacteria.p__Proteobacteria.c__Gammaproteobacteria.o__Pasteurellales.f__Pasteurellaceae.g__Aggregatibacter.s__aphrophilus\n",
       "1  0                                                                                                                         \n",
       "2 43                                                                                                                         \n",
       "3 46                                                                                                                         \n",
       "4  0                                                                                                                         \n",
       "5  0                                                                                                                         \n",
       "6  0                                                                                                                         \n",
       "  k__Bacteria.p__Proteobacteria.c__Gammaproteobacteria.o__Pasteurellales.f__Pasteurellaceae.g__Haemophilus.__\n",
       "1 213                                                                                                        \n",
       "2  98                                                                                                        \n",
       "3 371                                                                                                        \n",
       "4   0                                                                                                        \n",
       "5   0                                                                                                        \n",
       "6 139                                                                                                        \n",
       "  k__Bacteria.p__Proteobacteria.c__Gammaproteobacteria.o__Pasteurellales.f__Pasteurellaceae.g__Haemophilus.s__parainfluenzae\n",
       "1  775                                                                                                                      \n",
       "2 1657                                                                                                                      \n",
       "3 3359                                                                                                                      \n",
       "4   92                                                                                                                      \n",
       "5   43                                                                                                                      \n",
       "6 2521                                                                                                                      \n",
       "  k__Bacteria.p__Saccharibacteria_.TM7..c__Saccharibacteria_.TM7._.C.1..o__Saccharibacteria_.TM7._.O.1..f__Saccharibacteria_.TM7._.F.1..g__Saccharibacteria_.TM7._.G.1..__\n",
       "1   0                                                                                                                                                                     \n",
       "2   0                                                                                                                                                                     \n",
       "3   0                                                                                                                                                                     \n",
       "4   0                                                                                                                                                                     \n",
       "5 414                                                                                                                                                                     \n",
       "6   0                                                                                                                                                                     \n",
       "  k__Bacteria.p__Saccharibacteria_.TM7..c__Saccharibacteria_.TM7._.C.1..o__Saccharibacteria_.TM7._.O.1..f__Saccharibacteria_.TM7._.F.1..g__Saccharibacteria_.TM7._.G.1..s__bacterium_HMT_347\n",
       "1  14                                                                                                                                                                                       \n",
       "2   0                                                                                                                                                                                       \n",
       "3   0                                                                                                                                                                                       \n",
       "4 200                                                                                                                                                                                       \n",
       "5  47                                                                                                                                                                                       \n",
       "6   0                                                                                                                                                                                       \n",
       "  k__Bacteria.p__Saccharibacteria_.TM7..c__Saccharibacteria_.TM7._.C.1..o__Saccharibacteria_.TM7._.O.1..f__Saccharibacteria_.TM7._.F.1..g__Saccharibacteria_.TM7._.G.1..s__bacterium_HMT_352\n",
       "1 246                                                                                                                                                                                       \n",
       "2 423                                                                                                                                                                                       \n",
       "3   0                                                                                                                                                                                       \n",
       "4  67                                                                                                                                                                                       \n",
       "5   0                                                                                                                                                                                       \n",
       "6 502                                                                                                                                                                                       \n",
       "  k__Bacteria.p__Saccharibacteria_.TM7..c__Saccharibacteria_.TM7._.C.1..o__Saccharibacteria_.TM7._.O.1..f__Saccharibacteria_.TM7._.F.1..g__Saccharibacteria_.TM7._.G.3..s__bacterium_HMT_351\n",
       "1  44                                                                                                                                                                                       \n",
       "2 146                                                                                                                                                                                       \n",
       "3   0                                                                                                                                                                                       \n",
       "4  32                                                                                                                                                                                       \n",
       "5   2                                                                                                                                                                                       \n",
       "6  39                                                                                                                                                                                       \n",
       "  k__Bacteria.p__Saccharibacteria_.TM7..c__Saccharibacteria_.TM7._.C.1..o__Saccharibacteria_.TM7._.O.1..f__Saccharibacteria_.TM7._.F.1..g__Saccharibacteria_.TM7._.G.6..s__bacterium_HMT_870\n",
       "1   64                                                                                                                                                                                      \n",
       "2  123                                                                                                                                                                                      \n",
       "3  112                                                                                                                                                                                      \n",
       "4  201                                                                                                                                                                                      \n",
       "5 1050                                                                                                                                                                                      \n",
       "6  101                                                                                                                                                                                      "
      ]
     },
     "metadata": {},
     "output_type": "display_data"
    }
   ],
   "source": [
    "saliva_df$Outcome = as.character(saliva_df$Outcome)\n",
    "stool_df$Outcome = as.character(stool_df$Outcome)\n",
    "\n",
    "combined_saliva_df = saliva_df  %>%\n",
    "    # ended up reassinging 'DS' to 'F' due to small sample size\n",
    "    mutate(Outcome = ifelse(Outcome == 'DS', 'F', Outcome)) %>%\n",
    "    # removing those failed the IgE protein\n",
    "    filter(IgE_Binarized != 'Fail')\n",
    "\n",
    "combined_stool_df = stool_df  %>%\n",
    "    # ended up reassinging 'DS' to 'F' due to small sample size\n",
    "    mutate(Outcome = ifelse(Outcome == 'DS', 'F', Outcome)) %>%\n",
    "    filter(IgE_Binarized != 'Fail')\n",
    "\n",
    "# converting to factors\n",
    "combined_saliva_df$Outcome = factor(combined_saliva_df$Outcome, levels = c('F', 'SU'))\n",
    "combined_stool_df$Outcome = factor(combined_stool_df$Outcome, levels = c('F', 'SU'))\n",
    "combined_saliva_df$Treatment = factor(combined_saliva_df$Treatment, levels = c('A', 'P'))\n",
    "combined_stool_df$Treatment = factor(combined_stool_df$Treatment, levels = c('A', 'P'))\n",
    "combined_saliva_df$IgE_Binarized = factor(combined_saliva_df$IgE_Binarized, levels = c('Low', 'High'))\n",
    "combined_stool_df$IgE_Binarized = factor(combined_stool_df$IgE_Binarized, levels = c('Low', 'High'))\n",
    "\n",
    "head(combined_saliva_df)"
   ]
  },
  {
   "cell_type": "code",
   "execution_count": 5,
   "id": "729e5bc7-8584-4dfa-8153-aaacb37a1858",
   "metadata": {},
   "outputs": [
    {
     "data": {
      "text/html": [
       "45"
      ],
      "text/latex": [
       "45"
      ],
      "text/markdown": [
       "45"
      ],
      "text/plain": [
       "[1] 45"
      ]
     },
     "metadata": {},
     "output_type": "display_data"
    },
    {
     "data": {
      "text/html": [
       "38"
      ],
      "text/latex": [
       "38"
      ],
      "text/markdown": [
       "38"
      ],
      "text/plain": [
       "[1] 38"
      ]
     },
     "metadata": {},
     "output_type": "display_data"
    },
    {
     "data": {
      "text/html": [
       "40"
      ],
      "text/latex": [
       "40"
      ],
      "text/markdown": [
       "40"
      ],
      "text/plain": [
       "[1] 40"
      ]
     },
     "metadata": {},
     "output_type": "display_data"
    },
    {
     "data": {
      "text/html": [
       "35"
      ],
      "text/latex": [
       "35"
      ],
      "text/markdown": [
       "35"
      ],
      "text/plain": [
       "[1] 35"
      ]
     },
     "metadata": {},
     "output_type": "display_data"
    }
   ],
   "source": [
    "length(unique(saliva_df$Subject_No))\n",
    "length(unique(combined_saliva_df$Subject_No))\n",
    "length(unique(stool_df$Subject_No))\n",
    "length(unique(combined_stool_df$Subject_No))"
   ]
  },
  {
   "cell_type": "code",
   "execution_count": 6,
   "id": "6f39914c-a531-4df5-b370-b9fb11abc3f6",
   "metadata": {},
   "outputs": [
    {
     "data": {
      "text/html": [
       "<table class=\"dataframe\">\n",
       "<caption>A data.frame: 3 × 127</caption>\n",
       "<thead>\n",
       "\t<tr><th scope=col>Original_Sample_ID</th><th scope=col>Subject_No</th><th scope=col>Sample_ID</th><th scope=col>Time_Point</th><th scope=col>Treatment</th><th scope=col>Outcome</th><th scope=col>Age</th><th scope=col>IgE</th><th scope=col>IgE_Binarized</th><th scope=col>k__Bacteria.__.__.__.__.__.__</th><th scope=col>⋯</th><th scope=col>k__Bacteria.p__Proteobacteria.c__Gammaproteobacteria.o__Pasteurellales.f__Pasteurellaceae.__.__</th><th scope=col>k__Bacteria.p__Proteobacteria.c__Gammaproteobacteria.o__Pasteurellales.f__Pasteurellaceae.g__Aggregatibacter.__</th><th scope=col>k__Bacteria.p__Proteobacteria.c__Gammaproteobacteria.o__Pasteurellales.f__Pasteurellaceae.g__Aggregatibacter.s__aphrophilus</th><th scope=col>k__Bacteria.p__Proteobacteria.c__Gammaproteobacteria.o__Pasteurellales.f__Pasteurellaceae.g__Haemophilus.__</th><th scope=col>k__Bacteria.p__Proteobacteria.c__Gammaproteobacteria.o__Pasteurellales.f__Pasteurellaceae.g__Haemophilus.s__parainfluenzae</th><th scope=col>k__Bacteria.p__Saccharibacteria_.TM7..c__Saccharibacteria_.TM7._.C.1..o__Saccharibacteria_.TM7._.O.1..f__Saccharibacteria_.TM7._.F.1..g__Saccharibacteria_.TM7._.G.1..__</th><th scope=col>k__Bacteria.p__Saccharibacteria_.TM7..c__Saccharibacteria_.TM7._.C.1..o__Saccharibacteria_.TM7._.O.1..f__Saccharibacteria_.TM7._.F.1..g__Saccharibacteria_.TM7._.G.1..s__bacterium_HMT_347</th><th scope=col>k__Bacteria.p__Saccharibacteria_.TM7..c__Saccharibacteria_.TM7._.C.1..o__Saccharibacteria_.TM7._.O.1..f__Saccharibacteria_.TM7._.F.1..g__Saccharibacteria_.TM7._.G.1..s__bacterium_HMT_352</th><th scope=col>k__Bacteria.p__Saccharibacteria_.TM7..c__Saccharibacteria_.TM7._.C.1..o__Saccharibacteria_.TM7._.O.1..f__Saccharibacteria_.TM7._.F.1..g__Saccharibacteria_.TM7._.G.3..s__bacterium_HMT_351</th><th scope=col>k__Bacteria.p__Saccharibacteria_.TM7..c__Saccharibacteria_.TM7._.C.1..o__Saccharibacteria_.TM7._.O.1..f__Saccharibacteria_.TM7._.F.1..g__Saccharibacteria_.TM7._.G.6..s__bacterium_HMT_870</th></tr>\n",
       "\t<tr><th scope=col>&lt;chr&gt;</th><th scope=col>&lt;dbl&gt;</th><th scope=col>&lt;chr&gt;</th><th scope=col>&lt;chr&gt;</th><th scope=col>&lt;fct&gt;</th><th scope=col>&lt;fct&gt;</th><th scope=col>&lt;dbl&gt;</th><th scope=col>&lt;dbl&gt;</th><th scope=col>&lt;fct&gt;</th><th scope=col>&lt;dbl&gt;</th><th scope=col>⋯</th><th scope=col>&lt;dbl&gt;</th><th scope=col>&lt;dbl&gt;</th><th scope=col>&lt;dbl&gt;</th><th scope=col>&lt;dbl&gt;</th><th scope=col>&lt;dbl&gt;</th><th scope=col>&lt;dbl&gt;</th><th scope=col>&lt;dbl&gt;</th><th scope=col>&lt;dbl&gt;</th><th scope=col>&lt;dbl&gt;</th><th scope=col>&lt;dbl&gt;</th></tr>\n",
       "</thead>\n",
       "<tbody>\n",
       "\t<tr><td>FS2136mo</td><td>20</td><td>Post_20</td><td>Post</td><td>P</td><td>F </td><td>1.679452</td><td> 5.22</td><td>Low </td><td> 6</td><td>⋯</td><td>148</td><td>0</td><td>0</td><td> 56</td><td>5452</td><td>15</td><td> 0</td><td>1139</td><td>330</td><td>556</td></tr>\n",
       "\t<tr><td>FS2536mo</td><td>24</td><td>Post_24</td><td>Post</td><td>A</td><td>SU</td><td>1.501370</td><td> 1.74</td><td>Low </td><td>27</td><td>⋯</td><td> 38</td><td>0</td><td>0</td><td> 44</td><td> 894</td><td> 9</td><td> 0</td><td> 114</td><td> 11</td><td> 34</td></tr>\n",
       "\t<tr><td>FS2736mo</td><td>26</td><td>Post_26</td><td>Post</td><td>P</td><td>F </td><td>1.558904</td><td>16.90</td><td>High</td><td>21</td><td>⋯</td><td>  0</td><td>0</td><td>0</td><td>434</td><td>1740</td><td> 0</td><td>36</td><td> 534</td><td>144</td><td> 63</td></tr>\n",
       "</tbody>\n",
       "</table>\n"
      ],
      "text/latex": [
       "A data.frame: 3 × 127\n",
       "\\begin{tabular}{lllllllllllllllllllll}\n",
       " Original\\_Sample\\_ID & Subject\\_No & Sample\\_ID & Time\\_Point & Treatment & Outcome & Age & IgE & IgE\\_Binarized & k\\_\\_Bacteria.\\_\\_.\\_\\_.\\_\\_.\\_\\_.\\_\\_.\\_\\_ & ⋯ & k\\_\\_Bacteria.p\\_\\_Proteobacteria.c\\_\\_Gammaproteobacteria.o\\_\\_Pasteurellales.f\\_\\_Pasteurellaceae.\\_\\_.\\_\\_ & k\\_\\_Bacteria.p\\_\\_Proteobacteria.c\\_\\_Gammaproteobacteria.o\\_\\_Pasteurellales.f\\_\\_Pasteurellaceae.g\\_\\_Aggregatibacter.\\_\\_ & k\\_\\_Bacteria.p\\_\\_Proteobacteria.c\\_\\_Gammaproteobacteria.o\\_\\_Pasteurellales.f\\_\\_Pasteurellaceae.g\\_\\_Aggregatibacter.s\\_\\_aphrophilus & k\\_\\_Bacteria.p\\_\\_Proteobacteria.c\\_\\_Gammaproteobacteria.o\\_\\_Pasteurellales.f\\_\\_Pasteurellaceae.g\\_\\_Haemophilus.\\_\\_ & k\\_\\_Bacteria.p\\_\\_Proteobacteria.c\\_\\_Gammaproteobacteria.o\\_\\_Pasteurellales.f\\_\\_Pasteurellaceae.g\\_\\_Haemophilus.s\\_\\_parainfluenzae & k\\_\\_Bacteria.p\\_\\_Saccharibacteria\\_.TM7..c\\_\\_Saccharibacteria\\_.TM7.\\_.C.1..o\\_\\_Saccharibacteria\\_.TM7.\\_.O.1..f\\_\\_Saccharibacteria\\_.TM7.\\_.F.1..g\\_\\_Saccharibacteria\\_.TM7.\\_.G.1..\\_\\_ & k\\_\\_Bacteria.p\\_\\_Saccharibacteria\\_.TM7..c\\_\\_Saccharibacteria\\_.TM7.\\_.C.1..o\\_\\_Saccharibacteria\\_.TM7.\\_.O.1..f\\_\\_Saccharibacteria\\_.TM7.\\_.F.1..g\\_\\_Saccharibacteria\\_.TM7.\\_.G.1..s\\_\\_bacterium\\_HMT\\_347 & k\\_\\_Bacteria.p\\_\\_Saccharibacteria\\_.TM7..c\\_\\_Saccharibacteria\\_.TM7.\\_.C.1..o\\_\\_Saccharibacteria\\_.TM7.\\_.O.1..f\\_\\_Saccharibacteria\\_.TM7.\\_.F.1..g\\_\\_Saccharibacteria\\_.TM7.\\_.G.1..s\\_\\_bacterium\\_HMT\\_352 & k\\_\\_Bacteria.p\\_\\_Saccharibacteria\\_.TM7..c\\_\\_Saccharibacteria\\_.TM7.\\_.C.1..o\\_\\_Saccharibacteria\\_.TM7.\\_.O.1..f\\_\\_Saccharibacteria\\_.TM7.\\_.F.1..g\\_\\_Saccharibacteria\\_.TM7.\\_.G.3..s\\_\\_bacterium\\_HMT\\_351 & k\\_\\_Bacteria.p\\_\\_Saccharibacteria\\_.TM7..c\\_\\_Saccharibacteria\\_.TM7.\\_.C.1..o\\_\\_Saccharibacteria\\_.TM7.\\_.O.1..f\\_\\_Saccharibacteria\\_.TM7.\\_.F.1..g\\_\\_Saccharibacteria\\_.TM7.\\_.G.6..s\\_\\_bacterium\\_HMT\\_870\\\\\n",
       " <chr> & <dbl> & <chr> & <chr> & <fct> & <fct> & <dbl> & <dbl> & <fct> & <dbl> & ⋯ & <dbl> & <dbl> & <dbl> & <dbl> & <dbl> & <dbl> & <dbl> & <dbl> & <dbl> & <dbl>\\\\\n",
       "\\hline\n",
       "\t FS2136mo & 20 & Post\\_20 & Post & P & F  & 1.679452 &  5.22 & Low  &  6 & ⋯ & 148 & 0 & 0 &  56 & 5452 & 15 &  0 & 1139 & 330 & 556\\\\\n",
       "\t FS2536mo & 24 & Post\\_24 & Post & A & SU & 1.501370 &  1.74 & Low  & 27 & ⋯ &  38 & 0 & 0 &  44 &  894 &  9 &  0 &  114 &  11 &  34\\\\\n",
       "\t FS2736mo & 26 & Post\\_26 & Post & P & F  & 1.558904 & 16.90 & High & 21 & ⋯ &   0 & 0 & 0 & 434 & 1740 &  0 & 36 &  534 & 144 &  63\\\\\n",
       "\\end{tabular}\n"
      ],
      "text/markdown": [
       "\n",
       "A data.frame: 3 × 127\n",
       "\n",
       "| Original_Sample_ID &lt;chr&gt; | Subject_No &lt;dbl&gt; | Sample_ID &lt;chr&gt; | Time_Point &lt;chr&gt; | Treatment &lt;fct&gt; | Outcome &lt;fct&gt; | Age &lt;dbl&gt; | IgE &lt;dbl&gt; | IgE_Binarized &lt;fct&gt; | k__Bacteria.__.__.__.__.__.__ &lt;dbl&gt; | ⋯ ⋯ | k__Bacteria.p__Proteobacteria.c__Gammaproteobacteria.o__Pasteurellales.f__Pasteurellaceae.__.__ &lt;dbl&gt; | k__Bacteria.p__Proteobacteria.c__Gammaproteobacteria.o__Pasteurellales.f__Pasteurellaceae.g__Aggregatibacter.__ &lt;dbl&gt; | k__Bacteria.p__Proteobacteria.c__Gammaproteobacteria.o__Pasteurellales.f__Pasteurellaceae.g__Aggregatibacter.s__aphrophilus &lt;dbl&gt; | k__Bacteria.p__Proteobacteria.c__Gammaproteobacteria.o__Pasteurellales.f__Pasteurellaceae.g__Haemophilus.__ &lt;dbl&gt; | k__Bacteria.p__Proteobacteria.c__Gammaproteobacteria.o__Pasteurellales.f__Pasteurellaceae.g__Haemophilus.s__parainfluenzae &lt;dbl&gt; | k__Bacteria.p__Saccharibacteria_.TM7..c__Saccharibacteria_.TM7._.C.1..o__Saccharibacteria_.TM7._.O.1..f__Saccharibacteria_.TM7._.F.1..g__Saccharibacteria_.TM7._.G.1..__ &lt;dbl&gt; | k__Bacteria.p__Saccharibacteria_.TM7..c__Saccharibacteria_.TM7._.C.1..o__Saccharibacteria_.TM7._.O.1..f__Saccharibacteria_.TM7._.F.1..g__Saccharibacteria_.TM7._.G.1..s__bacterium_HMT_347 &lt;dbl&gt; | k__Bacteria.p__Saccharibacteria_.TM7..c__Saccharibacteria_.TM7._.C.1..o__Saccharibacteria_.TM7._.O.1..f__Saccharibacteria_.TM7._.F.1..g__Saccharibacteria_.TM7._.G.1..s__bacterium_HMT_352 &lt;dbl&gt; | k__Bacteria.p__Saccharibacteria_.TM7..c__Saccharibacteria_.TM7._.C.1..o__Saccharibacteria_.TM7._.O.1..f__Saccharibacteria_.TM7._.F.1..g__Saccharibacteria_.TM7._.G.3..s__bacterium_HMT_351 &lt;dbl&gt; | k__Bacteria.p__Saccharibacteria_.TM7..c__Saccharibacteria_.TM7._.C.1..o__Saccharibacteria_.TM7._.O.1..f__Saccharibacteria_.TM7._.F.1..g__Saccharibacteria_.TM7._.G.6..s__bacterium_HMT_870 &lt;dbl&gt; |\n",
       "|---|---|---|---|---|---|---|---|---|---|---|---|---|---|---|---|---|---|---|---|---|\n",
       "| FS2136mo | 20 | Post_20 | Post | P | F  | 1.679452 |  5.22 | Low  |  6 | ⋯ | 148 | 0 | 0 |  56 | 5452 | 15 |  0 | 1139 | 330 | 556 |\n",
       "| FS2536mo | 24 | Post_24 | Post | A | SU | 1.501370 |  1.74 | Low  | 27 | ⋯ |  38 | 0 | 0 |  44 |  894 |  9 |  0 |  114 |  11 |  34 |\n",
       "| FS2736mo | 26 | Post_26 | Post | P | F  | 1.558904 | 16.90 | High | 21 | ⋯ |   0 | 0 | 0 | 434 | 1740 |  0 | 36 |  534 | 144 |  63 |\n",
       "\n"
      ],
      "text/plain": [
       "  Original_Sample_ID Subject_No Sample_ID Time_Point Treatment Outcome Age     \n",
       "1 FS2136mo           20         Post_20   Post       P         F       1.679452\n",
       "2 FS2536mo           24         Post_24   Post       A         SU      1.501370\n",
       "3 FS2736mo           26         Post_26   Post       P         F       1.558904\n",
       "  IgE   IgE_Binarized k__Bacteria.__.__.__.__.__.__ ⋯\n",
       "1  5.22 Low            6                            ⋯\n",
       "2  1.74 Low           27                            ⋯\n",
       "3 16.90 High          21                            ⋯\n",
       "  k__Bacteria.p__Proteobacteria.c__Gammaproteobacteria.o__Pasteurellales.f__Pasteurellaceae.__.__\n",
       "1 148                                                                                            \n",
       "2  38                                                                                            \n",
       "3   0                                                                                            \n",
       "  k__Bacteria.p__Proteobacteria.c__Gammaproteobacteria.o__Pasteurellales.f__Pasteurellaceae.g__Aggregatibacter.__\n",
       "1 0                                                                                                              \n",
       "2 0                                                                                                              \n",
       "3 0                                                                                                              \n",
       "  k__Bacteria.p__Proteobacteria.c__Gammaproteobacteria.o__Pasteurellales.f__Pasteurellaceae.g__Aggregatibacter.s__aphrophilus\n",
       "1 0                                                                                                                          \n",
       "2 0                                                                                                                          \n",
       "3 0                                                                                                                          \n",
       "  k__Bacteria.p__Proteobacteria.c__Gammaproteobacteria.o__Pasteurellales.f__Pasteurellaceae.g__Haemophilus.__\n",
       "1  56                                                                                                        \n",
       "2  44                                                                                                        \n",
       "3 434                                                                                                        \n",
       "  k__Bacteria.p__Proteobacteria.c__Gammaproteobacteria.o__Pasteurellales.f__Pasteurellaceae.g__Haemophilus.s__parainfluenzae\n",
       "1 5452                                                                                                                      \n",
       "2  894                                                                                                                      \n",
       "3 1740                                                                                                                      \n",
       "  k__Bacteria.p__Saccharibacteria_.TM7..c__Saccharibacteria_.TM7._.C.1..o__Saccharibacteria_.TM7._.O.1..f__Saccharibacteria_.TM7._.F.1..g__Saccharibacteria_.TM7._.G.1..__\n",
       "1 15                                                                                                                                                                      \n",
       "2  9                                                                                                                                                                      \n",
       "3  0                                                                                                                                                                      \n",
       "  k__Bacteria.p__Saccharibacteria_.TM7..c__Saccharibacteria_.TM7._.C.1..o__Saccharibacteria_.TM7._.O.1..f__Saccharibacteria_.TM7._.F.1..g__Saccharibacteria_.TM7._.G.1..s__bacterium_HMT_347\n",
       "1  0                                                                                                                                                                                        \n",
       "2  0                                                                                                                                                                                        \n",
       "3 36                                                                                                                                                                                        \n",
       "  k__Bacteria.p__Saccharibacteria_.TM7..c__Saccharibacteria_.TM7._.C.1..o__Saccharibacteria_.TM7._.O.1..f__Saccharibacteria_.TM7._.F.1..g__Saccharibacteria_.TM7._.G.1..s__bacterium_HMT_352\n",
       "1 1139                                                                                                                                                                                      \n",
       "2  114                                                                                                                                                                                      \n",
       "3  534                                                                                                                                                                                      \n",
       "  k__Bacteria.p__Saccharibacteria_.TM7..c__Saccharibacteria_.TM7._.C.1..o__Saccharibacteria_.TM7._.O.1..f__Saccharibacteria_.TM7._.F.1..g__Saccharibacteria_.TM7._.G.3..s__bacterium_HMT_351\n",
       "1 330                                                                                                                                                                                       \n",
       "2  11                                                                                                                                                                                       \n",
       "3 144                                                                                                                                                                                       \n",
       "  k__Bacteria.p__Saccharibacteria_.TM7..c__Saccharibacteria_.TM7._.C.1..o__Saccharibacteria_.TM7._.O.1..f__Saccharibacteria_.TM7._.F.1..g__Saccharibacteria_.TM7._.G.6..s__bacterium_HMT_870\n",
       "1 556                                                                                                                                                                                       \n",
       "2  34                                                                                                                                                                                       \n",
       "3  63                                                                                                                                                                                       "
      ]
     },
     "metadata": {},
     "output_type": "display_data"
    }
   ],
   "source": [
    "combined_saliva_df %>% \n",
    "    filter(Subject_No %in% c(20,24,26))"
   ]
  },
  {
   "cell_type": "code",
   "execution_count": 7,
   "id": "4104d846-63e5-4387-a3af-75d14b5c919c",
   "metadata": {},
   "outputs": [
    {
     "data": {
      "text/html": [
       "<table class=\"dataframe\">\n",
       "<caption>A data.frame: 2 × 162</caption>\n",
       "<thead>\n",
       "\t<tr><th scope=col>Original_Subject_ID</th><th scope=col>Original_Sample_ID</th><th scope=col>Subject_No</th><th scope=col>Sample_ID</th><th scope=col>Time_Point</th><th scope=col>Treatment</th><th scope=col>Outcome</th><th scope=col>Age</th><th scope=col>IgE</th><th scope=col>IgE_Binarized</th><th scope=col>⋯</th><th scope=col>d__Bacteria.p__Firmicutes_D.c__Bacilli.o__Lactobacillales.f__Streptococcaceae.g__Streptococcus.__</th><th scope=col>d__Bacteria.p__Firmicutes_D.c__Bacilli.o__Staphylococcales.f__Gemellaceae.g__Gemella.__</th><th scope=col>d__Bacteria.p__Firmicutes_D.c__Bacilli.o__Staphylococcales.f__Staphylococcaceae.g__Staphylococcus.__</th><th scope=col>d__Bacteria.p__Patescibacteria.__.__.__.__.__</th><th scope=col>d__Bacteria.p__Patescibacteria.c__Saccharimonadia.o__Saccharimonadales.f__Nanogingivalaceae.g__Nanogingivalis.s__Nanogingivalis.gingivitcus</th><th scope=col>d__Bacteria.p__Patescibacteria.c__Saccharimonadia.o__Saccharimonadales.f__Nanosynbacteraceae.g__Nanosynbacter.s__</th><th scope=col>d__Bacteria.p__Proteobacteria.c__Gammaproteobacteria.o__Burkholderiales_595427.f__Burkholderiaceae_A_595427.g__Parasutterella.__</th><th scope=col>d__Bacteria.p__Proteobacteria.c__Gammaproteobacteria.o__Enterobacterales_A_737866.f__Enterobacteriaceae_A.__.__</th><th scope=col>d__Bacteria.p__Proteobacteria.c__Gammaproteobacteria.o__Enterobacterales_A_737866.f__Enterobacteriaceae_A.g__Escherichia_710834.__</th><th scope=col>d__Bacteria.p__Proteobacteria.c__Gammaproteobacteria.o__Enterobacterales_A_737866.f__Pasteurellaceae.g__Haemophilus_D_735815.__</th></tr>\n",
       "\t<tr><th scope=col>&lt;chr&gt;</th><th scope=col>&lt;chr&gt;</th><th scope=col>&lt;dbl&gt;</th><th scope=col>&lt;chr&gt;</th><th scope=col>&lt;chr&gt;</th><th scope=col>&lt;fct&gt;</th><th scope=col>&lt;fct&gt;</th><th scope=col>&lt;dbl&gt;</th><th scope=col>&lt;dbl&gt;</th><th scope=col>&lt;fct&gt;</th><th scope=col>⋯</th><th scope=col>&lt;dbl&gt;</th><th scope=col>&lt;dbl&gt;</th><th scope=col>&lt;dbl&gt;</th><th scope=col>&lt;dbl&gt;</th><th scope=col>&lt;dbl&gt;</th><th scope=col>&lt;dbl&gt;</th><th scope=col>&lt;dbl&gt;</th><th scope=col>&lt;dbl&gt;</th><th scope=col>&lt;dbl&gt;</th><th scope=col>&lt;dbl&gt;</th></tr>\n",
       "</thead>\n",
       "<tbody>\n",
       "\t<tr><td>FS001-05</td><td>FS001-05-36mo</td><td> 3</td><td>Post_3 </td><td>Post</td><td>A</td><td>F</td><td>3.991781</td><td>9.59</td><td>Low</td><td>⋯</td><td>  557</td><td> 0</td><td>7</td><td>0</td><td>2</td><td>51</td><td>61</td><td>0</td><td>3247</td><td> 3</td></tr>\n",
       "\t<tr><td>FS001-12</td><td>FS001-12-36mo</td><td>10</td><td>Post_10</td><td>Post</td><td>A</td><td>F</td><td>1.567123</td><td>4.34</td><td>Low</td><td>⋯</td><td>15039</td><td>27</td><td>0</td><td>0</td><td>0</td><td> 5</td><td> 0</td><td>0</td><td>   7</td><td>35</td></tr>\n",
       "</tbody>\n",
       "</table>\n"
      ],
      "text/latex": [
       "A data.frame: 2 × 162\n",
       "\\begin{tabular}{lllllllllllllllllllll}\n",
       " Original\\_Subject\\_ID & Original\\_Sample\\_ID & Subject\\_No & Sample\\_ID & Time\\_Point & Treatment & Outcome & Age & IgE & IgE\\_Binarized & ⋯ & d\\_\\_Bacteria.p\\_\\_Firmicutes\\_D.c\\_\\_Bacilli.o\\_\\_Lactobacillales.f\\_\\_Streptococcaceae.g\\_\\_Streptococcus.\\_\\_ & d\\_\\_Bacteria.p\\_\\_Firmicutes\\_D.c\\_\\_Bacilli.o\\_\\_Staphylococcales.f\\_\\_Gemellaceae.g\\_\\_Gemella.\\_\\_ & d\\_\\_Bacteria.p\\_\\_Firmicutes\\_D.c\\_\\_Bacilli.o\\_\\_Staphylococcales.f\\_\\_Staphylococcaceae.g\\_\\_Staphylococcus.\\_\\_ & d\\_\\_Bacteria.p\\_\\_Patescibacteria.\\_\\_.\\_\\_.\\_\\_.\\_\\_.\\_\\_ & d\\_\\_Bacteria.p\\_\\_Patescibacteria.c\\_\\_Saccharimonadia.o\\_\\_Saccharimonadales.f\\_\\_Nanogingivalaceae.g\\_\\_Nanogingivalis.s\\_\\_Nanogingivalis.gingivitcus & d\\_\\_Bacteria.p\\_\\_Patescibacteria.c\\_\\_Saccharimonadia.o\\_\\_Saccharimonadales.f\\_\\_Nanosynbacteraceae.g\\_\\_Nanosynbacter.s\\_\\_ & d\\_\\_Bacteria.p\\_\\_Proteobacteria.c\\_\\_Gammaproteobacteria.o\\_\\_Burkholderiales\\_595427.f\\_\\_Burkholderiaceae\\_A\\_595427.g\\_\\_Parasutterella.\\_\\_ & d\\_\\_Bacteria.p\\_\\_Proteobacteria.c\\_\\_Gammaproteobacteria.o\\_\\_Enterobacterales\\_A\\_737866.f\\_\\_Enterobacteriaceae\\_A.\\_\\_.\\_\\_ & d\\_\\_Bacteria.p\\_\\_Proteobacteria.c\\_\\_Gammaproteobacteria.o\\_\\_Enterobacterales\\_A\\_737866.f\\_\\_Enterobacteriaceae\\_A.g\\_\\_Escherichia\\_710834.\\_\\_ & d\\_\\_Bacteria.p\\_\\_Proteobacteria.c\\_\\_Gammaproteobacteria.o\\_\\_Enterobacterales\\_A\\_737866.f\\_\\_Pasteurellaceae.g\\_\\_Haemophilus\\_D\\_735815.\\_\\_\\\\\n",
       " <chr> & <chr> & <dbl> & <chr> & <chr> & <fct> & <fct> & <dbl> & <dbl> & <fct> & ⋯ & <dbl> & <dbl> & <dbl> & <dbl> & <dbl> & <dbl> & <dbl> & <dbl> & <dbl> & <dbl>\\\\\n",
       "\\hline\n",
       "\t FS001-05 & FS001-05-36mo &  3 & Post\\_3  & Post & A & F & 3.991781 & 9.59 & Low & ⋯ &   557 &  0 & 7 & 0 & 2 & 51 & 61 & 0 & 3247 &  3\\\\\n",
       "\t FS001-12 & FS001-12-36mo & 10 & Post\\_10 & Post & A & F & 1.567123 & 4.34 & Low & ⋯ & 15039 & 27 & 0 & 0 & 0 &  5 &  0 & 0 &    7 & 35\\\\\n",
       "\\end{tabular}\n"
      ],
      "text/markdown": [
       "\n",
       "A data.frame: 2 × 162\n",
       "\n",
       "| Original_Subject_ID &lt;chr&gt; | Original_Sample_ID &lt;chr&gt; | Subject_No &lt;dbl&gt; | Sample_ID &lt;chr&gt; | Time_Point &lt;chr&gt; | Treatment &lt;fct&gt; | Outcome &lt;fct&gt; | Age &lt;dbl&gt; | IgE &lt;dbl&gt; | IgE_Binarized &lt;fct&gt; | ⋯ ⋯ | d__Bacteria.p__Firmicutes_D.c__Bacilli.o__Lactobacillales.f__Streptococcaceae.g__Streptococcus.__ &lt;dbl&gt; | d__Bacteria.p__Firmicutes_D.c__Bacilli.o__Staphylococcales.f__Gemellaceae.g__Gemella.__ &lt;dbl&gt; | d__Bacteria.p__Firmicutes_D.c__Bacilli.o__Staphylococcales.f__Staphylococcaceae.g__Staphylococcus.__ &lt;dbl&gt; | d__Bacteria.p__Patescibacteria.__.__.__.__.__ &lt;dbl&gt; | d__Bacteria.p__Patescibacteria.c__Saccharimonadia.o__Saccharimonadales.f__Nanogingivalaceae.g__Nanogingivalis.s__Nanogingivalis.gingivitcus &lt;dbl&gt; | d__Bacteria.p__Patescibacteria.c__Saccharimonadia.o__Saccharimonadales.f__Nanosynbacteraceae.g__Nanosynbacter.s__ &lt;dbl&gt; | d__Bacteria.p__Proteobacteria.c__Gammaproteobacteria.o__Burkholderiales_595427.f__Burkholderiaceae_A_595427.g__Parasutterella.__ &lt;dbl&gt; | d__Bacteria.p__Proteobacteria.c__Gammaproteobacteria.o__Enterobacterales_A_737866.f__Enterobacteriaceae_A.__.__ &lt;dbl&gt; | d__Bacteria.p__Proteobacteria.c__Gammaproteobacteria.o__Enterobacterales_A_737866.f__Enterobacteriaceae_A.g__Escherichia_710834.__ &lt;dbl&gt; | d__Bacteria.p__Proteobacteria.c__Gammaproteobacteria.o__Enterobacterales_A_737866.f__Pasteurellaceae.g__Haemophilus_D_735815.__ &lt;dbl&gt; |\n",
       "|---|---|---|---|---|---|---|---|---|---|---|---|---|---|---|---|---|---|---|---|---|\n",
       "| FS001-05 | FS001-05-36mo |  3 | Post_3  | Post | A | F | 3.991781 | 9.59 | Low | ⋯ |   557 |  0 | 7 | 0 | 2 | 51 | 61 | 0 | 3247 |  3 |\n",
       "| FS001-12 | FS001-12-36mo | 10 | Post_10 | Post | A | F | 1.567123 | 4.34 | Low | ⋯ | 15039 | 27 | 0 | 0 | 0 |  5 |  0 | 0 |    7 | 35 |\n",
       "\n"
      ],
      "text/plain": [
       "  Original_Subject_ID Original_Sample_ID Subject_No Sample_ID Time_Point\n",
       "1 FS001-05            FS001-05-36mo       3         Post_3    Post      \n",
       "2 FS001-12            FS001-12-36mo      10         Post_10   Post      \n",
       "  Treatment Outcome Age      IgE  IgE_Binarized ⋯\n",
       "1 A         F       3.991781 9.59 Low           ⋯\n",
       "2 A         F       1.567123 4.34 Low           ⋯\n",
       "  d__Bacteria.p__Firmicutes_D.c__Bacilli.o__Lactobacillales.f__Streptococcaceae.g__Streptococcus.__\n",
       "1   557                                                                                            \n",
       "2 15039                                                                                            \n",
       "  d__Bacteria.p__Firmicutes_D.c__Bacilli.o__Staphylococcales.f__Gemellaceae.g__Gemella.__\n",
       "1  0                                                                                     \n",
       "2 27                                                                                     \n",
       "  d__Bacteria.p__Firmicutes_D.c__Bacilli.o__Staphylococcales.f__Staphylococcaceae.g__Staphylococcus.__\n",
       "1 7                                                                                                   \n",
       "2 0                                                                                                   \n",
       "  d__Bacteria.p__Patescibacteria.__.__.__.__.__\n",
       "1 0                                            \n",
       "2 0                                            \n",
       "  d__Bacteria.p__Patescibacteria.c__Saccharimonadia.o__Saccharimonadales.f__Nanogingivalaceae.g__Nanogingivalis.s__Nanogingivalis.gingivitcus\n",
       "1 2                                                                                                                                          \n",
       "2 0                                                                                                                                          \n",
       "  d__Bacteria.p__Patescibacteria.c__Saccharimonadia.o__Saccharimonadales.f__Nanosynbacteraceae.g__Nanosynbacter.s__\n",
       "1 51                                                                                                               \n",
       "2  5                                                                                                               \n",
       "  d__Bacteria.p__Proteobacteria.c__Gammaproteobacteria.o__Burkholderiales_595427.f__Burkholderiaceae_A_595427.g__Parasutterella.__\n",
       "1 61                                                                                                                              \n",
       "2  0                                                                                                                              \n",
       "  d__Bacteria.p__Proteobacteria.c__Gammaproteobacteria.o__Enterobacterales_A_737866.f__Enterobacteriaceae_A.__.__\n",
       "1 0                                                                                                              \n",
       "2 0                                                                                                              \n",
       "  d__Bacteria.p__Proteobacteria.c__Gammaproteobacteria.o__Enterobacterales_A_737866.f__Enterobacteriaceae_A.g__Escherichia_710834.__\n",
       "1 3247                                                                                                                              \n",
       "2    7                                                                                                                              \n",
       "  d__Bacteria.p__Proteobacteria.c__Gammaproteobacteria.o__Enterobacterales_A_737866.f__Pasteurellaceae.g__Haemophilus_D_735815.__\n",
       "1  3                                                                                                                             \n",
       "2 35                                                                                                                             "
      ]
     },
     "metadata": {},
     "output_type": "display_data"
    }
   ],
   "source": [
    "combined_stool_df %>% \n",
    "    filter(Subject_No %in% c(3,10))"
   ]
  },
  {
   "cell_type": "code",
   "execution_count": 8,
   "id": "ee8da620-e3f3-433c-bba2-9aed2859e582",
   "metadata": {},
   "outputs": [
    {
     "name": "stderr",
     "output_type": "stream",
     "text": [
      "\u001b[1m\u001b[22mThe following \u001b[33mwarnings\u001b[39m were returned during `add_p()`:\n",
      "\u001b[1m\u001b[22m\u001b[33m!\u001b[39m For variable `Age` (`Outcome`) and \u001b[34m\"estimate\"\u001b[39m, \u001b[34m\"statistic\"\u001b[39m, \u001b[34m\"p.value\"\u001b[39m,\n",
      "  \u001b[34m\"conf.low\"\u001b[39m, and \u001b[34m\"conf.high\"\u001b[39m statistics: \u001b[33mcannot compute exact p-value with\u001b[39m\n",
      "  \u001b[33mties\u001b[39m\n",
      "\u001b[1m\u001b[22m\u001b[33m!\u001b[39m For variable `Age` (`Outcome`) and \u001b[34m\"estimate\"\u001b[39m, \u001b[34m\"statistic\"\u001b[39m, \u001b[34m\"p.value\"\u001b[39m,\n",
      "  \u001b[34m\"conf.low\"\u001b[39m, and \u001b[34m\"conf.high\"\u001b[39m statistics: \u001b[33mcannot compute exact confidence\u001b[39m\n",
      "  \u001b[33mintervals with ties\u001b[39m\n",
      "\u001b[1m\u001b[22m\u001b[33m!\u001b[39m For variable `IgE` (`Outcome`) and \u001b[34m\"estimate\"\u001b[39m, \u001b[34m\"statistic\"\u001b[39m, \u001b[34m\"p.value\"\u001b[39m,\n",
      "  \u001b[34m\"conf.low\"\u001b[39m, and \u001b[34m\"conf.high\"\u001b[39m statistics: \u001b[33mcannot compute exact p-value with\u001b[39m\n",
      "  \u001b[33mties\u001b[39m\n",
      "\u001b[1m\u001b[22m\u001b[33m!\u001b[39m For variable `IgE` (`Outcome`) and \u001b[34m\"estimate\"\u001b[39m, \u001b[34m\"statistic\"\u001b[39m, \u001b[34m\"p.value\"\u001b[39m,\n",
      "  \u001b[34m\"conf.low\"\u001b[39m, and \u001b[34m\"conf.high\"\u001b[39m statistics: \u001b[33mcannot compute exact confidence\u001b[39m\n",
      "  \u001b[33mintervals with ties\u001b[39m\n"
     ]
    },
    {
     "data": {
      "text/html": [
       "<table class=\"dataframe\">\n",
       "<caption>A tibble: 8 × 5</caption>\n",
       "<thead>\n",
       "\t<tr><th scope=col>**Characteristic**</th><th scope=col>**N**</th><th scope=col>**F**  \n",
       "N = 25</th><th scope=col>**SU**  \n",
       "N = 10</th><th scope=col>**p-value**</th></tr>\n",
       "\t<tr><th scope=col>&lt;chr&gt;</th><th scope=col>&lt;chr&gt;</th><th scope=col>&lt;chr&gt;</th><th scope=col>&lt;chr&gt;</th><th scope=col>&lt;chr&gt;</th></tr>\n",
       "</thead>\n",
       "<tbody>\n",
       "\t<tr><td><span style=white-space:pre-wrap>Treatment    </span></td><td>35</td><td><span style=white-space:pre-wrap>NA         </span></td><td><span style=white-space:pre-wrap>NA         </span></td><td>&lt;0.001</td></tr>\n",
       "\t<tr><td>A            </td><td>NA</td><td>9 (36%)    </td><td>10 (100%)  </td><td>NA    </td></tr>\n",
       "\t<tr><td>P            </td><td>NA</td><td>16 (64%)   </td><td>0 (0%)     </td><td>NA    </td></tr>\n",
       "\t<tr><td>Age          </td><td>35</td><td>2.67 (0.95)</td><td>2.36 (1.05)</td><td>0.3   </td></tr>\n",
       "\t<tr><td>IgE          </td><td>35</td><td>47 (53)    </td><td>14 (35)    </td><td>0.002 </td></tr>\n",
       "\t<tr><td>IgE_Binarized</td><td>35</td><td>NA         </td><td>NA         </td><td>0.002 </td></tr>\n",
       "\t<tr><td>Low          </td><td>NA</td><td>11 (44%)   </td><td>10 (100%)  </td><td>NA    </td></tr>\n",
       "\t<tr><td>High         </td><td>NA</td><td>14 (56%)   </td><td>0 (0%)     </td><td>NA    </td></tr>\n",
       "</tbody>\n",
       "</table>\n"
      ],
      "text/latex": [
       "A tibble: 8 × 5\n",
       "\\begin{tabular}{lllll}\n",
       " **Characteristic** & **N** & **F**  \n",
       "N = 25 & **SU**  \n",
       "N = 10 & **p-value**\\\\\n",
       " <chr> & <chr> & <chr> & <chr> & <chr>\\\\\n",
       "\\hline\n",
       "\t Treatment     & 35 & NA          & NA          & <0.001\\\\\n",
       "\t A             & NA & 9 (36\\%)     & 10 (100\\%)   & NA    \\\\\n",
       "\t P             & NA & 16 (64\\%)    & 0 (0\\%)      & NA    \\\\\n",
       "\t Age           & 35 & 2.67 (0.95) & 2.36 (1.05) & 0.3   \\\\\n",
       "\t IgE           & 35 & 47 (53)     & 14 (35)     & 0.002 \\\\\n",
       "\t IgE\\_Binarized & 35 & NA          & NA          & 0.002 \\\\\n",
       "\t Low           & NA & 11 (44\\%)    & 10 (100\\%)   & NA    \\\\\n",
       "\t High          & NA & 14 (56\\%)    & 0 (0\\%)      & NA    \\\\\n",
       "\\end{tabular}\n"
      ],
      "text/markdown": [
       "\n",
       "A tibble: 8 × 5\n",
       "\n",
       "| **Characteristic** &lt;chr&gt; | **N** &lt;chr&gt; | **F**  \n",
       "N = 25 &lt;chr&gt; | **SU**  \n",
       "N = 10 &lt;chr&gt; | **p-value** &lt;chr&gt; |\n",
       "|---|---|---|---|---|\n",
       "| Treatment     | 35 | NA          | NA          | &lt;0.001 |\n",
       "| A             | NA | 9 (36%)     | 10 (100%)   | NA     |\n",
       "| P             | NA | 16 (64%)    | 0 (0%)      | NA     |\n",
       "| Age           | 35 | 2.67 (0.95) | 2.36 (1.05) | 0.3    |\n",
       "| IgE           | 35 | 47 (53)     | 14 (35)     | 0.002  |\n",
       "| IgE_Binarized | 35 | NA          | NA          | 0.002  |\n",
       "| Low           | NA | 11 (44%)    | 10 (100%)   | NA     |\n",
       "| High          | NA | 14 (56%)    | 0 (0%)      | NA     |\n",
       "\n"
      ],
      "text/plain": [
       "  **Characteristic** **N** **F**  \\nN = 25 **SU**  \\nN = 10 **p-value**\n",
       "1 Treatment          35    NA              NA               <0.001     \n",
       "2 A                  NA    9 (36%)         10 (100%)        NA         \n",
       "3 P                  NA    16 (64%)        0 (0%)           NA         \n",
       "4 Age                35    2.67 (0.95)     2.36 (1.05)      0.3        \n",
       "5 IgE                35    47 (53)         14 (35)          0.002      \n",
       "6 IgE_Binarized      35    NA              NA               0.002      \n",
       "7 Low                NA    11 (44%)        10 (100%)        NA         \n",
       "8 High               NA    14 (56%)        0 (0%)           NA         "
      ]
     },
     "metadata": {},
     "output_type": "display_data"
    }
   ],
   "source": [
    "combined_saliva_df %>%\n",
    "    filter(Time_Point == 'Pre') %>%\n",
    "    tbl_summary(by = Outcome, missing = \"no\", \n",
    "    include = colnames(saliva_df[c(5,7:9)]), \n",
    "              statistic = list(all_continuous() ~ \"{mean} ({sd})\",\n",
    "                               all_categorical() ~ \"{n} ({p}%)\")) %>%\n",
    "    add_n() %>% \n",
    "    add_p(test = list(#all_continuous() ~ \"ancova.test\",\n",
    "                    all_categorical() ~ \"fisher.test\")) %>% # adding p value from anova\n",
    "    as_tibble() #%>%\n",
    "    #write_xlsx(., \"Output/Table_Saliva.xlsx\")"
   ]
  },
  {
   "cell_type": "code",
   "execution_count": 9,
   "id": "acfe1075-087a-462b-bb36-c2e2288f90fb",
   "metadata": {},
   "outputs": [
    {
     "name": "stderr",
     "output_type": "stream",
     "text": [
      "\u001b[1m\u001b[22mThe following \u001b[33mwarnings\u001b[39m were returned during `add_p()`:\n",
      "\u001b[1m\u001b[22m\u001b[33m!\u001b[39m For variable `IgE` (`Outcome`) and \u001b[34m\"estimate\"\u001b[39m, \u001b[34m\"statistic\"\u001b[39m, \u001b[34m\"p.value\"\u001b[39m,\n",
      "  \u001b[34m\"conf.low\"\u001b[39m, and \u001b[34m\"conf.high\"\u001b[39m statistics: \u001b[33mcannot compute exact p-value with\u001b[39m\n",
      "  \u001b[33mties\u001b[39m\n",
      "\u001b[1m\u001b[22m\u001b[33m!\u001b[39m For variable `IgE` (`Outcome`) and \u001b[34m\"estimate\"\u001b[39m, \u001b[34m\"statistic\"\u001b[39m, \u001b[34m\"p.value\"\u001b[39m,\n",
      "  \u001b[34m\"conf.low\"\u001b[39m, and \u001b[34m\"conf.high\"\u001b[39m statistics: \u001b[33mcannot compute exact confidence\u001b[39m\n",
      "  \u001b[33mintervals with ties\u001b[39m\n"
     ]
    },
    {
     "data": {
      "text/html": [
       "<table class=\"dataframe\">\n",
       "<caption>A tibble: 8 × 5</caption>\n",
       "<thead>\n",
       "\t<tr><th scope=col>**Characteristic**</th><th scope=col>**N**</th><th scope=col>**F**  \n",
       "N = 23</th><th scope=col>**SU**  \n",
       "N = 10</th><th scope=col>**p-value**</th></tr>\n",
       "\t<tr><th scope=col>&lt;chr&gt;</th><th scope=col>&lt;chr&gt;</th><th scope=col>&lt;chr&gt;</th><th scope=col>&lt;chr&gt;</th><th scope=col>&lt;chr&gt;</th></tr>\n",
       "</thead>\n",
       "<tbody>\n",
       "\t<tr><td><span style=white-space:pre-wrap>Treatment    </span></td><td>33</td><td><span style=white-space:pre-wrap>NA         </span></td><td><span style=white-space:pre-wrap>NA         </span></td><td>&lt;0.001</td></tr>\n",
       "\t<tr><td>A            </td><td>NA</td><td>6 (26%)    </td><td>10 (100%)  </td><td>NA    </td></tr>\n",
       "\t<tr><td>P            </td><td>NA</td><td>17 (74%)   </td><td>0 (0%)     </td><td>NA    </td></tr>\n",
       "\t<tr><td>Age          </td><td>33</td><td>2.50 (0.93)</td><td>2.15 (0.92)</td><td>0.3   </td></tr>\n",
       "\t<tr><td><span style=white-space:pre-wrap>IgE          </span></td><td>33</td><td><span style=white-space:pre-wrap>50 (54)    </span></td><td><span style=white-space:pre-wrap>4 (4)      </span></td><td>&lt;0.001</td></tr>\n",
       "\t<tr><td>IgE_Binarized</td><td>33</td><td>NA         </td><td>NA         </td><td>0.001 </td></tr>\n",
       "\t<tr><td>Low          </td><td>NA</td><td>9 (39%)    </td><td>10 (100%)  </td><td>NA    </td></tr>\n",
       "\t<tr><td>High         </td><td>NA</td><td>14 (61%)   </td><td>0 (0%)     </td><td>NA    </td></tr>\n",
       "</tbody>\n",
       "</table>\n"
      ],
      "text/latex": [
       "A tibble: 8 × 5\n",
       "\\begin{tabular}{lllll}\n",
       " **Characteristic** & **N** & **F**  \n",
       "N = 23 & **SU**  \n",
       "N = 10 & **p-value**\\\\\n",
       " <chr> & <chr> & <chr> & <chr> & <chr>\\\\\n",
       "\\hline\n",
       "\t Treatment     & 33 & NA          & NA          & <0.001\\\\\n",
       "\t A             & NA & 6 (26\\%)     & 10 (100\\%)   & NA    \\\\\n",
       "\t P             & NA & 17 (74\\%)    & 0 (0\\%)      & NA    \\\\\n",
       "\t Age           & 33 & 2.50 (0.93) & 2.15 (0.92) & 0.3   \\\\\n",
       "\t IgE           & 33 & 50 (54)     & 4 (4)       & <0.001\\\\\n",
       "\t IgE\\_Binarized & 33 & NA          & NA          & 0.001 \\\\\n",
       "\t Low           & NA & 9 (39\\%)     & 10 (100\\%)   & NA    \\\\\n",
       "\t High          & NA & 14 (61\\%)    & 0 (0\\%)      & NA    \\\\\n",
       "\\end{tabular}\n"
      ],
      "text/markdown": [
       "\n",
       "A tibble: 8 × 5\n",
       "\n",
       "| **Characteristic** &lt;chr&gt; | **N** &lt;chr&gt; | **F**  \n",
       "N = 23 &lt;chr&gt; | **SU**  \n",
       "N = 10 &lt;chr&gt; | **p-value** &lt;chr&gt; |\n",
       "|---|---|---|---|---|\n",
       "| Treatment     | 33 | NA          | NA          | &lt;0.001 |\n",
       "| A             | NA | 6 (26%)     | 10 (100%)   | NA     |\n",
       "| P             | NA | 17 (74%)    | 0 (0%)      | NA     |\n",
       "| Age           | 33 | 2.50 (0.93) | 2.15 (0.92) | 0.3    |\n",
       "| IgE           | 33 | 50 (54)     | 4 (4)       | &lt;0.001 |\n",
       "| IgE_Binarized | 33 | NA          | NA          | 0.001  |\n",
       "| Low           | NA | 9 (39%)     | 10 (100%)   | NA     |\n",
       "| High          | NA | 14 (61%)    | 0 (0%)      | NA     |\n",
       "\n"
      ],
      "text/plain": [
       "  **Characteristic** **N** **F**  \\nN = 23 **SU**  \\nN = 10 **p-value**\n",
       "1 Treatment          33    NA              NA               <0.001     \n",
       "2 A                  NA    6 (26%)         10 (100%)        NA         \n",
       "3 P                  NA    17 (74%)        0 (0%)           NA         \n",
       "4 Age                33    2.50 (0.93)     2.15 (0.92)      0.3        \n",
       "5 IgE                33    50 (54)         4 (4)            <0.001     \n",
       "6 IgE_Binarized      33    NA              NA               0.001      \n",
       "7 Low                NA    9 (39%)         10 (100%)        NA         \n",
       "8 High               NA    14 (61%)        0 (0%)           NA         "
      ]
     },
     "metadata": {},
     "output_type": "display_data"
    }
   ],
   "source": [
    "combined_stool_df %>%\n",
    "    filter(Time_Point == 'Pre') %>%\n",
    "    tbl_summary(by = Outcome, missing = \"no\", \n",
    "    include = colnames(saliva_df[c(5,7:9)]), \n",
    "              statistic = list(all_continuous() ~ \"{mean} ({sd})\",\n",
    "                               all_categorical() ~ \"{n} ({p}%)\")) %>%\n",
    "    add_n() %>% \n",
    "    add_p(test = list(#all_continuous() ~ \"ancova.test\",\n",
    "                    all_categorical() ~ \"fisher.test\")) %>% # adding p value from anova\n",
    "    as_tibble() #%>%\n",
    "    #write_xlsx(., \"Output/Table_Stool.xlsx\")"
   ]
  },
  {
   "cell_type": "markdown",
   "id": "66865086-cf70-4a70-8895-ef7bf834a903",
   "metadata": {},
   "source": [
    "# Descriptive Statistics\n",
    "\n",
    "I used the [ANCOM-BC2](https://www.bioconductor.org/packages/release/bioc/vignettes/ANCOMBC/inst/doc/ANCOMBC2.html) package to perform a differential abundance analysis ([ref](https://www.nature.com/articles/s41592-023-02092-7#Sec1)) to run a couple of different models. \n",
    "\n",
    "## 1. How do baseline microbiome species differ across outcomes? How do these differences vary after controlling for age and IgE protein concentrations?"
   ]
  },
  {
   "cell_type": "code",
   "execution_count": 10,
   "id": "105171ad-0862-4eaa-8a04-e2e88af3e5cf",
   "metadata": {},
   "outputs": [
    {
     "data": {
      "text/html": [
       "<table class=\"dataframe\">\n",
       "<caption>A data.frame: 6 × 126</caption>\n",
       "<thead>\n",
       "\t<tr><th></th><th scope=col>Original_Sample_ID</th><th scope=col>Subject_No</th><th scope=col>Time_Point</th><th scope=col>Treatment</th><th scope=col>Outcome</th><th scope=col>Age</th><th scope=col>IgE</th><th scope=col>IgE_Binarized</th><th scope=col>k__Bacteria.__.__.__.__.__.__</th><th scope=col>k__Bacteria.p__Absconditabacteria_.SR1..c__Absconditabacteria_.SR1._.C.1..o__Absconditabacteria_.SR1._.O.1..f__Absconditabacteria_.SR1._.F.1..g__Absconditabacteria_.SR1._.G.1..s__bacterium_HMT_874</th><th scope=col>⋯</th><th scope=col>k__Bacteria.p__Proteobacteria.c__Gammaproteobacteria.o__Pasteurellales.f__Pasteurellaceae.__.__</th><th scope=col>k__Bacteria.p__Proteobacteria.c__Gammaproteobacteria.o__Pasteurellales.f__Pasteurellaceae.g__Aggregatibacter.__</th><th scope=col>k__Bacteria.p__Proteobacteria.c__Gammaproteobacteria.o__Pasteurellales.f__Pasteurellaceae.g__Aggregatibacter.s__aphrophilus</th><th scope=col>k__Bacteria.p__Proteobacteria.c__Gammaproteobacteria.o__Pasteurellales.f__Pasteurellaceae.g__Haemophilus.__</th><th scope=col>k__Bacteria.p__Proteobacteria.c__Gammaproteobacteria.o__Pasteurellales.f__Pasteurellaceae.g__Haemophilus.s__parainfluenzae</th><th scope=col>k__Bacteria.p__Saccharibacteria_.TM7..c__Saccharibacteria_.TM7._.C.1..o__Saccharibacteria_.TM7._.O.1..f__Saccharibacteria_.TM7._.F.1..g__Saccharibacteria_.TM7._.G.1..__</th><th scope=col>k__Bacteria.p__Saccharibacteria_.TM7..c__Saccharibacteria_.TM7._.C.1..o__Saccharibacteria_.TM7._.O.1..f__Saccharibacteria_.TM7._.F.1..g__Saccharibacteria_.TM7._.G.1..s__bacterium_HMT_347</th><th scope=col>k__Bacteria.p__Saccharibacteria_.TM7..c__Saccharibacteria_.TM7._.C.1..o__Saccharibacteria_.TM7._.O.1..f__Saccharibacteria_.TM7._.F.1..g__Saccharibacteria_.TM7._.G.1..s__bacterium_HMT_352</th><th scope=col>k__Bacteria.p__Saccharibacteria_.TM7..c__Saccharibacteria_.TM7._.C.1..o__Saccharibacteria_.TM7._.O.1..f__Saccharibacteria_.TM7._.F.1..g__Saccharibacteria_.TM7._.G.3..s__bacterium_HMT_351</th><th scope=col>k__Bacteria.p__Saccharibacteria_.TM7..c__Saccharibacteria_.TM7._.C.1..o__Saccharibacteria_.TM7._.O.1..f__Saccharibacteria_.TM7._.F.1..g__Saccharibacteria_.TM7._.G.6..s__bacterium_HMT_870</th></tr>\n",
       "\t<tr><th></th><th scope=col>&lt;chr&gt;</th><th scope=col>&lt;dbl&gt;</th><th scope=col>&lt;chr&gt;</th><th scope=col>&lt;fct&gt;</th><th scope=col>&lt;fct&gt;</th><th scope=col>&lt;dbl&gt;</th><th scope=col>&lt;dbl&gt;</th><th scope=col>&lt;fct&gt;</th><th scope=col>&lt;dbl&gt;</th><th scope=col>&lt;dbl&gt;</th><th scope=col>⋯</th><th scope=col>&lt;dbl&gt;</th><th scope=col>&lt;dbl&gt;</th><th scope=col>&lt;dbl&gt;</th><th scope=col>&lt;dbl&gt;</th><th scope=col>&lt;dbl&gt;</th><th scope=col>&lt;dbl&gt;</th><th scope=col>&lt;dbl&gt;</th><th scope=col>&lt;dbl&gt;</th><th scope=col>&lt;dbl&gt;</th><th scope=col>&lt;dbl&gt;</th></tr>\n",
       "</thead>\n",
       "<tbody>\n",
       "\t<tr><th scope=row>Pre_2</th><td>FS02baseline</td><td> 2</td><td>Pre</td><td>A</td><td>F </td><td>1.873973</td><td> 14.20</td><td>Low </td><td> 0</td><td>16</td><td>⋯</td><td>0</td><td>0</td><td>46</td><td> 371</td><td>3359</td><td> 0</td><td> 0</td><td>   0</td><td> 0</td><td>112</td></tr>\n",
       "\t<tr><th scope=row>Pre_4</th><td>FS05baseline</td><td> 4</td><td>Pre</td><td>A</td><td>F </td><td>3.991781</td><td>  9.59</td><td>Low </td><td>24</td><td> 0</td><td>⋯</td><td>0</td><td>0</td><td> 0</td><td> 110</td><td>1225</td><td>40</td><td> 4</td><td> 403</td><td>35</td><td>167</td></tr>\n",
       "\t<tr><th scope=row>Pre_6</th><td>FS07baseline</td><td> 6</td><td>Pre</td><td>A</td><td>SU</td><td>1.419178</td><td>  1.32</td><td>Low </td><td> 7</td><td> 0</td><td>⋯</td><td>0</td><td>0</td><td> 0</td><td>2315</td><td>1978</td><td> 0</td><td>16</td><td>   0</td><td> 5</td><td> 28</td></tr>\n",
       "\t<tr><th scope=row>Pre_9</th><td>FS10baseline</td><td> 9</td><td>Pre</td><td>A</td><td>SU</td><td>1.389041</td><td>  0.42</td><td>Low </td><td> 9</td><td> 0</td><td>⋯</td><td>0</td><td>0</td><td> 0</td><td>1450</td><td>4274</td><td> 0</td><td> 0</td><td>   0</td><td> 0</td><td>  7</td></tr>\n",
       "\t<tr><th scope=row>Pre_11</th><td>FS12baseline</td><td>11</td><td>Pre</td><td>A</td><td>F </td><td>1.567123</td><td>  4.34</td><td>Low </td><td> 8</td><td> 0</td><td>⋯</td><td>0</td><td>0</td><td> 0</td><td>  16</td><td>4652</td><td> 0</td><td> 0</td><td>  37</td><td> 7</td><td> 31</td></tr>\n",
       "\t<tr><th scope=row>Pre_14</th><td>FS15baseline</td><td>14</td><td>Pre</td><td>A</td><td>F </td><td>3.912329</td><td>105.00</td><td>High</td><td> 2</td><td> 0</td><td>⋯</td><td>8</td><td>0</td><td> 0</td><td>  33</td><td> 262</td><td> 0</td><td> 0</td><td>1465</td><td>58</td><td> 56</td></tr>\n",
       "</tbody>\n",
       "</table>\n"
      ],
      "text/latex": [
       "A data.frame: 6 × 126\n",
       "\\begin{tabular}{r|lllllllllllllllllllll}\n",
       "  & Original\\_Sample\\_ID & Subject\\_No & Time\\_Point & Treatment & Outcome & Age & IgE & IgE\\_Binarized & k\\_\\_Bacteria.\\_\\_.\\_\\_.\\_\\_.\\_\\_.\\_\\_.\\_\\_ & k\\_\\_Bacteria.p\\_\\_Absconditabacteria\\_.SR1..c\\_\\_Absconditabacteria\\_.SR1.\\_.C.1..o\\_\\_Absconditabacteria\\_.SR1.\\_.O.1..f\\_\\_Absconditabacteria\\_.SR1.\\_.F.1..g\\_\\_Absconditabacteria\\_.SR1.\\_.G.1..s\\_\\_bacterium\\_HMT\\_874 & ⋯ & k\\_\\_Bacteria.p\\_\\_Proteobacteria.c\\_\\_Gammaproteobacteria.o\\_\\_Pasteurellales.f\\_\\_Pasteurellaceae.\\_\\_.\\_\\_ & k\\_\\_Bacteria.p\\_\\_Proteobacteria.c\\_\\_Gammaproteobacteria.o\\_\\_Pasteurellales.f\\_\\_Pasteurellaceae.g\\_\\_Aggregatibacter.\\_\\_ & k\\_\\_Bacteria.p\\_\\_Proteobacteria.c\\_\\_Gammaproteobacteria.o\\_\\_Pasteurellales.f\\_\\_Pasteurellaceae.g\\_\\_Aggregatibacter.s\\_\\_aphrophilus & k\\_\\_Bacteria.p\\_\\_Proteobacteria.c\\_\\_Gammaproteobacteria.o\\_\\_Pasteurellales.f\\_\\_Pasteurellaceae.g\\_\\_Haemophilus.\\_\\_ & k\\_\\_Bacteria.p\\_\\_Proteobacteria.c\\_\\_Gammaproteobacteria.o\\_\\_Pasteurellales.f\\_\\_Pasteurellaceae.g\\_\\_Haemophilus.s\\_\\_parainfluenzae & k\\_\\_Bacteria.p\\_\\_Saccharibacteria\\_.TM7..c\\_\\_Saccharibacteria\\_.TM7.\\_.C.1..o\\_\\_Saccharibacteria\\_.TM7.\\_.O.1..f\\_\\_Saccharibacteria\\_.TM7.\\_.F.1..g\\_\\_Saccharibacteria\\_.TM7.\\_.G.1..\\_\\_ & k\\_\\_Bacteria.p\\_\\_Saccharibacteria\\_.TM7..c\\_\\_Saccharibacteria\\_.TM7.\\_.C.1..o\\_\\_Saccharibacteria\\_.TM7.\\_.O.1..f\\_\\_Saccharibacteria\\_.TM7.\\_.F.1..g\\_\\_Saccharibacteria\\_.TM7.\\_.G.1..s\\_\\_bacterium\\_HMT\\_347 & k\\_\\_Bacteria.p\\_\\_Saccharibacteria\\_.TM7..c\\_\\_Saccharibacteria\\_.TM7.\\_.C.1..o\\_\\_Saccharibacteria\\_.TM7.\\_.O.1..f\\_\\_Saccharibacteria\\_.TM7.\\_.F.1..g\\_\\_Saccharibacteria\\_.TM7.\\_.G.1..s\\_\\_bacterium\\_HMT\\_352 & k\\_\\_Bacteria.p\\_\\_Saccharibacteria\\_.TM7..c\\_\\_Saccharibacteria\\_.TM7.\\_.C.1..o\\_\\_Saccharibacteria\\_.TM7.\\_.O.1..f\\_\\_Saccharibacteria\\_.TM7.\\_.F.1..g\\_\\_Saccharibacteria\\_.TM7.\\_.G.3..s\\_\\_bacterium\\_HMT\\_351 & k\\_\\_Bacteria.p\\_\\_Saccharibacteria\\_.TM7..c\\_\\_Saccharibacteria\\_.TM7.\\_.C.1..o\\_\\_Saccharibacteria\\_.TM7.\\_.O.1..f\\_\\_Saccharibacteria\\_.TM7.\\_.F.1..g\\_\\_Saccharibacteria\\_.TM7.\\_.G.6..s\\_\\_bacterium\\_HMT\\_870\\\\\n",
       "  & <chr> & <dbl> & <chr> & <fct> & <fct> & <dbl> & <dbl> & <fct> & <dbl> & <dbl> & ⋯ & <dbl> & <dbl> & <dbl> & <dbl> & <dbl> & <dbl> & <dbl> & <dbl> & <dbl> & <dbl>\\\\\n",
       "\\hline\n",
       "\tPre\\_2 & FS02baseline &  2 & Pre & A & F  & 1.873973 &  14.20 & Low  &  0 & 16 & ⋯ & 0 & 0 & 46 &  371 & 3359 &  0 &  0 &    0 &  0 & 112\\\\\n",
       "\tPre\\_4 & FS05baseline &  4 & Pre & A & F  & 3.991781 &   9.59 & Low  & 24 &  0 & ⋯ & 0 & 0 &  0 &  110 & 1225 & 40 &  4 &  403 & 35 & 167\\\\\n",
       "\tPre\\_6 & FS07baseline &  6 & Pre & A & SU & 1.419178 &   1.32 & Low  &  7 &  0 & ⋯ & 0 & 0 &  0 & 2315 & 1978 &  0 & 16 &    0 &  5 &  28\\\\\n",
       "\tPre\\_9 & FS10baseline &  9 & Pre & A & SU & 1.389041 &   0.42 & Low  &  9 &  0 & ⋯ & 0 & 0 &  0 & 1450 & 4274 &  0 &  0 &    0 &  0 &   7\\\\\n",
       "\tPre\\_11 & FS12baseline & 11 & Pre & A & F  & 1.567123 &   4.34 & Low  &  8 &  0 & ⋯ & 0 & 0 &  0 &   16 & 4652 &  0 &  0 &   37 &  7 &  31\\\\\n",
       "\tPre\\_14 & FS15baseline & 14 & Pre & A & F  & 3.912329 & 105.00 & High &  2 &  0 & ⋯ & 8 & 0 &  0 &   33 &  262 &  0 &  0 & 1465 & 58 &  56\\\\\n",
       "\\end{tabular}\n"
      ],
      "text/markdown": [
       "\n",
       "A data.frame: 6 × 126\n",
       "\n",
       "| <!--/--> | Original_Sample_ID &lt;chr&gt; | Subject_No &lt;dbl&gt; | Time_Point &lt;chr&gt; | Treatment &lt;fct&gt; | Outcome &lt;fct&gt; | Age &lt;dbl&gt; | IgE &lt;dbl&gt; | IgE_Binarized &lt;fct&gt; | k__Bacteria.__.__.__.__.__.__ &lt;dbl&gt; | k__Bacteria.p__Absconditabacteria_.SR1..c__Absconditabacteria_.SR1._.C.1..o__Absconditabacteria_.SR1._.O.1..f__Absconditabacteria_.SR1._.F.1..g__Absconditabacteria_.SR1._.G.1..s__bacterium_HMT_874 &lt;dbl&gt; | ⋯ ⋯ | k__Bacteria.p__Proteobacteria.c__Gammaproteobacteria.o__Pasteurellales.f__Pasteurellaceae.__.__ &lt;dbl&gt; | k__Bacteria.p__Proteobacteria.c__Gammaproteobacteria.o__Pasteurellales.f__Pasteurellaceae.g__Aggregatibacter.__ &lt;dbl&gt; | k__Bacteria.p__Proteobacteria.c__Gammaproteobacteria.o__Pasteurellales.f__Pasteurellaceae.g__Aggregatibacter.s__aphrophilus &lt;dbl&gt; | k__Bacteria.p__Proteobacteria.c__Gammaproteobacteria.o__Pasteurellales.f__Pasteurellaceae.g__Haemophilus.__ &lt;dbl&gt; | k__Bacteria.p__Proteobacteria.c__Gammaproteobacteria.o__Pasteurellales.f__Pasteurellaceae.g__Haemophilus.s__parainfluenzae &lt;dbl&gt; | k__Bacteria.p__Saccharibacteria_.TM7..c__Saccharibacteria_.TM7._.C.1..o__Saccharibacteria_.TM7._.O.1..f__Saccharibacteria_.TM7._.F.1..g__Saccharibacteria_.TM7._.G.1..__ &lt;dbl&gt; | k__Bacteria.p__Saccharibacteria_.TM7..c__Saccharibacteria_.TM7._.C.1..o__Saccharibacteria_.TM7._.O.1..f__Saccharibacteria_.TM7._.F.1..g__Saccharibacteria_.TM7._.G.1..s__bacterium_HMT_347 &lt;dbl&gt; | k__Bacteria.p__Saccharibacteria_.TM7..c__Saccharibacteria_.TM7._.C.1..o__Saccharibacteria_.TM7._.O.1..f__Saccharibacteria_.TM7._.F.1..g__Saccharibacteria_.TM7._.G.1..s__bacterium_HMT_352 &lt;dbl&gt; | k__Bacteria.p__Saccharibacteria_.TM7..c__Saccharibacteria_.TM7._.C.1..o__Saccharibacteria_.TM7._.O.1..f__Saccharibacteria_.TM7._.F.1..g__Saccharibacteria_.TM7._.G.3..s__bacterium_HMT_351 &lt;dbl&gt; | k__Bacteria.p__Saccharibacteria_.TM7..c__Saccharibacteria_.TM7._.C.1..o__Saccharibacteria_.TM7._.O.1..f__Saccharibacteria_.TM7._.F.1..g__Saccharibacteria_.TM7._.G.6..s__bacterium_HMT_870 &lt;dbl&gt; |\n",
       "|---|---|---|---|---|---|---|---|---|---|---|---|---|---|---|---|---|---|---|---|---|---|\n",
       "| Pre_2 | FS02baseline |  2 | Pre | A | F  | 1.873973 |  14.20 | Low  |  0 | 16 | ⋯ | 0 | 0 | 46 |  371 | 3359 |  0 |  0 |    0 |  0 | 112 |\n",
       "| Pre_4 | FS05baseline |  4 | Pre | A | F  | 3.991781 |   9.59 | Low  | 24 |  0 | ⋯ | 0 | 0 |  0 |  110 | 1225 | 40 |  4 |  403 | 35 | 167 |\n",
       "| Pre_6 | FS07baseline |  6 | Pre | A | SU | 1.419178 |   1.32 | Low  |  7 |  0 | ⋯ | 0 | 0 |  0 | 2315 | 1978 |  0 | 16 |    0 |  5 |  28 |\n",
       "| Pre_9 | FS10baseline |  9 | Pre | A | SU | 1.389041 |   0.42 | Low  |  9 |  0 | ⋯ | 0 | 0 |  0 | 1450 | 4274 |  0 |  0 |    0 |  0 |   7 |\n",
       "| Pre_11 | FS12baseline | 11 | Pre | A | F  | 1.567123 |   4.34 | Low  |  8 |  0 | ⋯ | 0 | 0 |  0 |   16 | 4652 |  0 |  0 |   37 |  7 |  31 |\n",
       "| Pre_14 | FS15baseline | 14 | Pre | A | F  | 3.912329 | 105.00 | High |  2 |  0 | ⋯ | 8 | 0 |  0 |   33 |  262 |  0 |  0 | 1465 | 58 |  56 |\n",
       "\n"
      ],
      "text/plain": [
       "       Original_Sample_ID Subject_No Time_Point Treatment Outcome Age     \n",
       "Pre_2  FS02baseline        2         Pre        A         F       1.873973\n",
       "Pre_4  FS05baseline        4         Pre        A         F       3.991781\n",
       "Pre_6  FS07baseline        6         Pre        A         SU      1.419178\n",
       "Pre_9  FS10baseline        9         Pre        A         SU      1.389041\n",
       "Pre_11 FS12baseline       11         Pre        A         F       1.567123\n",
       "Pre_14 FS15baseline       14         Pre        A         F       3.912329\n",
       "       IgE    IgE_Binarized k__Bacteria.__.__.__.__.__.__\n",
       "Pre_2   14.20 Low            0                           \n",
       "Pre_4    9.59 Low           24                           \n",
       "Pre_6    1.32 Low            7                           \n",
       "Pre_9    0.42 Low            9                           \n",
       "Pre_11   4.34 Low            8                           \n",
       "Pre_14 105.00 High           2                           \n",
       "       k__Bacteria.p__Absconditabacteria_.SR1..c__Absconditabacteria_.SR1._.C.1..o__Absconditabacteria_.SR1._.O.1..f__Absconditabacteria_.SR1._.F.1..g__Absconditabacteria_.SR1._.G.1..s__bacterium_HMT_874\n",
       "Pre_2  16                                                                                                                                                                                                  \n",
       "Pre_4   0                                                                                                                                                                                                  \n",
       "Pre_6   0                                                                                                                                                                                                  \n",
       "Pre_9   0                                                                                                                                                                                                  \n",
       "Pre_11  0                                                                                                                                                                                                  \n",
       "Pre_14  0                                                                                                                                                                                                  \n",
       "       ⋯\n",
       "Pre_2  ⋯\n",
       "Pre_4  ⋯\n",
       "Pre_6  ⋯\n",
       "Pre_9  ⋯\n",
       "Pre_11 ⋯\n",
       "Pre_14 ⋯\n",
       "       k__Bacteria.p__Proteobacteria.c__Gammaproteobacteria.o__Pasteurellales.f__Pasteurellaceae.__.__\n",
       "Pre_2  0                                                                                              \n",
       "Pre_4  0                                                                                              \n",
       "Pre_6  0                                                                                              \n",
       "Pre_9  0                                                                                              \n",
       "Pre_11 0                                                                                              \n",
       "Pre_14 8                                                                                              \n",
       "       k__Bacteria.p__Proteobacteria.c__Gammaproteobacteria.o__Pasteurellales.f__Pasteurellaceae.g__Aggregatibacter.__\n",
       "Pre_2  0                                                                                                              \n",
       "Pre_4  0                                                                                                              \n",
       "Pre_6  0                                                                                                              \n",
       "Pre_9  0                                                                                                              \n",
       "Pre_11 0                                                                                                              \n",
       "Pre_14 0                                                                                                              \n",
       "       k__Bacteria.p__Proteobacteria.c__Gammaproteobacteria.o__Pasteurellales.f__Pasteurellaceae.g__Aggregatibacter.s__aphrophilus\n",
       "Pre_2  46                                                                                                                         \n",
       "Pre_4   0                                                                                                                         \n",
       "Pre_6   0                                                                                                                         \n",
       "Pre_9   0                                                                                                                         \n",
       "Pre_11  0                                                                                                                         \n",
       "Pre_14  0                                                                                                                         \n",
       "       k__Bacteria.p__Proteobacteria.c__Gammaproteobacteria.o__Pasteurellales.f__Pasteurellaceae.g__Haemophilus.__\n",
       "Pre_2   371                                                                                                       \n",
       "Pre_4   110                                                                                                       \n",
       "Pre_6  2315                                                                                                       \n",
       "Pre_9  1450                                                                                                       \n",
       "Pre_11   16                                                                                                       \n",
       "Pre_14   33                                                                                                       \n",
       "       k__Bacteria.p__Proteobacteria.c__Gammaproteobacteria.o__Pasteurellales.f__Pasteurellaceae.g__Haemophilus.s__parainfluenzae\n",
       "Pre_2  3359                                                                                                                      \n",
       "Pre_4  1225                                                                                                                      \n",
       "Pre_6  1978                                                                                                                      \n",
       "Pre_9  4274                                                                                                                      \n",
       "Pre_11 4652                                                                                                                      \n",
       "Pre_14  262                                                                                                                      \n",
       "       k__Bacteria.p__Saccharibacteria_.TM7..c__Saccharibacteria_.TM7._.C.1..o__Saccharibacteria_.TM7._.O.1..f__Saccharibacteria_.TM7._.F.1..g__Saccharibacteria_.TM7._.G.1..__\n",
       "Pre_2   0                                                                                                                                                                      \n",
       "Pre_4  40                                                                                                                                                                      \n",
       "Pre_6   0                                                                                                                                                                      \n",
       "Pre_9   0                                                                                                                                                                      \n",
       "Pre_11  0                                                                                                                                                                      \n",
       "Pre_14  0                                                                                                                                                                      \n",
       "       k__Bacteria.p__Saccharibacteria_.TM7..c__Saccharibacteria_.TM7._.C.1..o__Saccharibacteria_.TM7._.O.1..f__Saccharibacteria_.TM7._.F.1..g__Saccharibacteria_.TM7._.G.1..s__bacterium_HMT_347\n",
       "Pre_2   0                                                                                                                                                                                        \n",
       "Pre_4   4                                                                                                                                                                                        \n",
       "Pre_6  16                                                                                                                                                                                        \n",
       "Pre_9   0                                                                                                                                                                                        \n",
       "Pre_11  0                                                                                                                                                                                        \n",
       "Pre_14  0                                                                                                                                                                                        \n",
       "       k__Bacteria.p__Saccharibacteria_.TM7..c__Saccharibacteria_.TM7._.C.1..o__Saccharibacteria_.TM7._.O.1..f__Saccharibacteria_.TM7._.F.1..g__Saccharibacteria_.TM7._.G.1..s__bacterium_HMT_352\n",
       "Pre_2     0                                                                                                                                                                                      \n",
       "Pre_4   403                                                                                                                                                                                      \n",
       "Pre_6     0                                                                                                                                                                                      \n",
       "Pre_9     0                                                                                                                                                                                      \n",
       "Pre_11   37                                                                                                                                                                                      \n",
       "Pre_14 1465                                                                                                                                                                                      \n",
       "       k__Bacteria.p__Saccharibacteria_.TM7..c__Saccharibacteria_.TM7._.C.1..o__Saccharibacteria_.TM7._.O.1..f__Saccharibacteria_.TM7._.F.1..g__Saccharibacteria_.TM7._.G.3..s__bacterium_HMT_351\n",
       "Pre_2   0                                                                                                                                                                                        \n",
       "Pre_4  35                                                                                                                                                                                        \n",
       "Pre_6   5                                                                                                                                                                                        \n",
       "Pre_9   0                                                                                                                                                                                        \n",
       "Pre_11  7                                                                                                                                                                                        \n",
       "Pre_14 58                                                                                                                                                                                        \n",
       "       k__Bacteria.p__Saccharibacteria_.TM7..c__Saccharibacteria_.TM7._.C.1..o__Saccharibacteria_.TM7._.O.1..f__Saccharibacteria_.TM7._.F.1..g__Saccharibacteria_.TM7._.G.6..s__bacterium_HMT_870\n",
       "Pre_2  112                                                                                                                                                                                       \n",
       "Pre_4  167                                                                                                                                                                                       \n",
       "Pre_6   28                                                                                                                                                                                       \n",
       "Pre_9    7                                                                                                                                                                                       \n",
       "Pre_11  31                                                                                                                                                                                       \n",
       "Pre_14  56                                                                                                                                                                                       "
      ]
     },
     "metadata": {},
     "output_type": "display_data"
    }
   ],
   "source": [
    "# making the row names the sample ids\n",
    "v1_saliva_df = combined_saliva_df %>%\n",
    "    # only keep participants' baseline samples and those given active treatment\n",
    "    filter(Time_Point == 'Pre' & Treatment == 'A') %>%\n",
    "    # making the row names the sample ids\n",
    "    column_to_rownames(var = 'Sample_ID')\n",
    "\n",
    "v1_stool_df = combined_stool_df %>%\n",
    "    filter(Time_Point == 'Pre' & Treatment == 'A') %>%\n",
    "    column_to_rownames(var = 'Sample_ID')\n",
    "\n",
    "v1_saliva_df$Outcome = factor(v1_saliva_df$Outcome, levels = c('F', 'SU'))\n",
    "v1_stool_df$Outcome = factor(v1_stool_df$Outcome, levels = c('F', 'SU'))\n",
    "\n",
    "head(v1_saliva_df)"
   ]
  },
  {
   "cell_type": "markdown",
   "id": "3c2b1180-3d1d-4b06-a611-65ffa5aec2fd",
   "metadata": {},
   "source": [
    "How many subjects are included in this analysis?"
   ]
  },
  {
   "cell_type": "code",
   "execution_count": 11,
   "id": "a357121f-12c3-4abe-9d6d-1963fa020378",
   "metadata": {},
   "outputs": [
    {
     "data": {
      "text/html": [
       "19"
      ],
      "text/latex": [
       "19"
      ],
      "text/markdown": [
       "19"
      ],
      "text/plain": [
       "[1] 19"
      ]
     },
     "metadata": {},
     "output_type": "display_data"
    },
    {
     "data": {
      "text/html": [
       "16"
      ],
      "text/latex": [
       "16"
      ],
      "text/markdown": [
       "16"
      ],
      "text/plain": [
       "[1] 16"
      ]
     },
     "metadata": {},
     "output_type": "display_data"
    }
   ],
   "source": [
    "nrow(v1_saliva_df)\n",
    "nrow(v1_stool_df)"
   ]
  },
  {
   "cell_type": "code",
   "execution_count": 12,
   "id": "94f71add-206d-425a-912b-4257b08aa3f1",
   "metadata": {
    "scrolled": true
   },
   "outputs": [
    {
     "name": "stderr",
     "output_type": "stream",
     "text": [
      "Checking the input data type ...\n",
      "\n",
      "The input data is of type: matrix\n",
      "\n",
      "The imported data is in a generic 'matrix'/'data.frame' format.\n",
      "\n",
      "PASS\n",
      "\n",
      "Checking the sample metadata ...\n",
      "\n",
      "The specified variables in the formula: Outcome\n",
      "\n",
      "The available variables in the sample metadata: Original_Sample_ID, Subject_No, Time_Point, Treatment, Outcome, Age, IgE, IgE_Binarized\n",
      "\n",
      "PASS\n",
      "\n",
      "Checking other arguments ...\n",
      "\n",
      "The number of groups of interest is: 2\n",
      "\n",
      "Warning message:\n",
      "“The group variable has < 3 categories \n",
      "The multi-group comparisons (global/pairwise/dunnet/trend) will be deactivated”\n",
      "The sample size per group is: F = 9, SU = 10\n",
      "\n",
      "PASS\n",
      "\n",
      "Obtaining initial estimates ...\n",
      "\n",
      "Estimating sample-specific biases ...\n",
      "\n",
      "Loading required package: foreach\n",
      "\n",
      "\n",
      "Attaching package: ‘foreach’\n",
      "\n",
      "\n",
      "The following objects are masked from ‘package:purrr’:\n",
      "\n",
      "    accumulate, when\n",
      "\n",
      "\n",
      "Loading required package: rngtools\n",
      "\n",
      "ANCOM-BC2 primary results ...\n",
      "\n",
      "Conducting sensitivity analysis for pseudo-count addition to 0s ...\n",
      "For taxa that are significant but do not pass the sensitivity analysis,\n",
      "they are marked in the 'passed_ss' column and will be treated as non-significant in the 'diff_robust' column.\n",
      "For detailed instructions on performing sensitivity analysis, please refer to the package vignette.\n",
      "\n",
      "Warning message:\n",
      "“\u001b[1m\u001b[22mExpected 2 pieces. Missing pieces filled with `NA` in 5 rows [1, 43, 98, 107,\n",
      "108].”\n",
      "Checking the input data type ...\n",
      "\n",
      "The input data is of type: matrix\n",
      "\n",
      "The imported data is in a generic 'matrix'/'data.frame' format.\n",
      "\n",
      "PASS\n",
      "\n",
      "Checking the sample metadata ...\n",
      "\n",
      "The specified variables in the formula: Age, IgE, Outcome\n",
      "\n",
      "The available variables in the sample metadata: Original_Sample_ID, Subject_No, Time_Point, Treatment, Outcome, Age, IgE, IgE_Binarized\n",
      "\n",
      "PASS\n",
      "\n",
      "Checking other arguments ...\n",
      "\n",
      "The number of groups of interest is: 2\n",
      "\n",
      "Warning message:\n",
      "“The group variable has < 3 categories \n",
      "The multi-group comparisons (global/pairwise/dunnet/trend) will be deactivated”\n",
      "The sample size per group is: F = 9, SU = 10\n",
      "\n",
      "PASS\n",
      "\n",
      "Obtaining initial estimates ...\n",
      "\n",
      "Estimating sample-specific biases ...\n",
      "\n",
      "ANCOM-BC2 primary results ...\n",
      "\n",
      "Warning message in pt(abs(W), df = dof, lower.tail = FALSE):\n",
      "“NaNs produced”\n",
      "Conducting sensitivity analysis for pseudo-count addition to 0s ...\n",
      "For taxa that are significant but do not pass the sensitivity analysis,\n",
      "they are marked in the 'passed_ss' column and will be treated as non-significant in the 'diff_robust' column.\n",
      "For detailed instructions on performing sensitivity analysis, please refer to the package vignette.\n",
      "\n",
      "Warning message:\n",
      "“\u001b[1m\u001b[22mExpected 2 pieces. Missing pieces filled with `NA` in 5 rows [1, 43, 98, 107,\n",
      "108].”\n",
      "Checking the input data type ...\n",
      "\n",
      "The input data is of type: matrix\n",
      "\n",
      "The imported data is in a generic 'matrix'/'data.frame' format.\n",
      "\n",
      "PASS\n",
      "\n",
      "Checking the sample metadata ...\n",
      "\n",
      "The specified variables in the formula: Outcome\n",
      "\n",
      "The available variables in the sample metadata: Original_Subject_ID, Original_Sample_ID, Subject_No, Time_Point, Treatment, Outcome, Age, IgE, IgE_Binarized\n",
      "\n",
      "PASS\n",
      "\n",
      "Checking other arguments ...\n",
      "\n",
      "The number of groups of interest is: 2\n",
      "\n",
      "Warning message:\n",
      "“The group variable has < 3 categories \n",
      "The multi-group comparisons (global/pairwise/dunnet/trend) will be deactivated”\n",
      "The sample size per group is: F = 6, SU = 10\n",
      "\n",
      "PASS\n",
      "\n",
      "Obtaining initial estimates ...\n",
      "\n",
      "Estimating sample-specific biases ...\n",
      "\n",
      "Warning message in sqrt(sweep(var_hat, 2, var_delta, \"*\")):\n",
      "“NaNs produced”\n",
      "ANCOM-BC2 primary results ...\n",
      "\n",
      "Warning message in pt(abs(W), df = dof, lower.tail = FALSE):\n",
      "“NaNs produced”\n",
      "Conducting sensitivity analysis for pseudo-count addition to 0s ...\n",
      "For taxa that are significant but do not pass the sensitivity analysis,\n",
      "they are marked in the 'passed_ss' column and will be treated as non-significant in the 'diff_robust' column.\n",
      "For detailed instructions on performing sensitivity analysis, please refer to the package vignette.\n",
      "\n",
      "Warning message:\n",
      "“\u001b[1m\u001b[22mExpected 2 pieces. Missing pieces filled with `NA` in 8 rows [1, 2, 6, 29, 96,\n",
      "117, 146, 150].”\n",
      "Checking the input data type ...\n",
      "\n",
      "The input data is of type: matrix\n",
      "\n",
      "The imported data is in a generic 'matrix'/'data.frame' format.\n",
      "\n",
      "PASS\n",
      "\n",
      "Checking the sample metadata ...\n",
      "\n",
      "The specified variables in the formula: Age, IgE, Outcome\n",
      "\n",
      "The available variables in the sample metadata: Original_Subject_ID, Original_Sample_ID, Subject_No, Time_Point, Treatment, Outcome, Age, IgE, IgE_Binarized\n",
      "\n",
      "PASS\n",
      "\n",
      "Checking other arguments ...\n",
      "\n",
      "The number of groups of interest is: 2\n",
      "\n",
      "Warning message:\n",
      "“The group variable has < 3 categories \n",
      "The multi-group comparisons (global/pairwise/dunnet/trend) will be deactivated”\n",
      "The sample size per group is: F = 6, SU = 10\n",
      "\n",
      "PASS\n",
      "\n",
      "Obtaining initial estimates ...\n",
      "\n",
      "Estimating sample-specific biases ...\n",
      "\n",
      "ANCOM-BC2 primary results ...\n",
      "\n",
      "Warning message in pt(abs(W), df = dof, lower.tail = FALSE):\n",
      "“NaNs produced”\n",
      "Conducting sensitivity analysis for pseudo-count addition to 0s ...\n",
      "For taxa that are significant but do not pass the sensitivity analysis,\n",
      "they are marked in the 'passed_ss' column and will be treated as non-significant in the 'diff_robust' column.\n",
      "For detailed instructions on performing sensitivity analysis, please refer to the package vignette.\n",
      "\n",
      "Warning message:\n",
      "“\u001b[1m\u001b[22mExpected 2 pieces. Missing pieces filled with `NA` in 8 rows [1, 2, 6, 29, 96,\n",
      "117, 146, 150].”\n"
     ]
    }
   ],
   "source": [
    "# setting seed for reproducibility\n",
    "get_ancombc2_results = function(df, formula, value, paired_test, group_var, interest_group){\n",
    "    # add words!!!\n",
    "    \n",
    "    set.seed(123)\n",
    "    # automatically performs a psuedo log transformation\n",
    "    value2 = value + 1\n",
    "    output = ancombc2(data = t(df[,value2:ncol(df)]), \n",
    "                      meta_data = df[,1:value],\n",
    "                      tax_level = 'Species', #taxonomic level of interest\n",
    "                      fix_formula = formula, # specifying the model\n",
    "                      pairwise = paired_test, # denotes whether the test is paired\n",
    "                      group = group_var, # independent variable\n",
    "                      p_adj_method = \"fdr\") # Holm-Bonferroni adj p values\n",
    "\n",
    "    # removing the standard error and test statistics from the results\n",
    "    removed_cols = c('se_', 'W_', paste0('diff_', group_var))\n",
    "    final_df = output$res %>%\n",
    "        select(!starts_with(removed_cols)) %>%\n",
    "        # cleaning up names\n",
    "        separate(taxon, c(\"Name\", \"Name1\"), sep = '.g__') %>%\n",
    "        mutate(across(Name1, ~ str_replace(string = .x, \".s__\", \" \")),\n",
    "              across(Name1, ~ str_replace(string = .x, \"sp._\", \"\")),\n",
    "              across(Name1, ~ str_replace(string = .x, \".__\", \"\")),\n",
    "              Name1 = ifelse(Name == 'k__Bacteria.__.__.__.__.__.__' , 'Unassigned', Name1)) %>%\n",
    "        # selecting cols of interest\n",
    "        select(c(\"Name\", \"Name1\", ends_with(paste0(group_var, interest_group)))) \n",
    "\n",
    "    # changing col names\n",
    "    colnames(final_df)[3:6] = c('logFC', 'P Value', 'P Adj', 'Sensitivity Analysis')\n",
    "    \n",
    "    return(final_df)\n",
    "    }\n",
    "\n",
    "# calling fn\n",
    "saliva_raw_model = get_ancombc2_results(v1_saliva_df, 'Outcome', 8, FALSE, 'Outcome', 'SU')\n",
    "saliva_2cov_model = get_ancombc2_results(v1_saliva_df, 'Age + IgE + Outcome', 8, FALSE, 'Outcome', 'SU')\n",
    "stool_raw_model = get_ancombc2_results(v1_stool_df, 'Outcome', 9, FALSE, 'Outcome', 'SU')\n",
    "stool_2cov_model = get_ancombc2_results(v1_stool_df, 'Age + IgE + Outcome', 9, FALSE, 'Outcome', 'SU')"
   ]
  },
  {
   "cell_type": "markdown",
   "id": "621ae9d7-3098-4116-b200-c43990e04a87",
   "metadata": {},
   "source": [
    "## Saliva Raw Results"
   ]
  },
  {
   "cell_type": "code",
   "execution_count": 13,
   "id": "ae6cac8e-9b4f-4e23-adee-c795b149a73d",
   "metadata": {},
   "outputs": [
    {
     "data": {
      "text/html": [
       "0"
      ],
      "text/latex": [
       "0"
      ],
      "text/markdown": [
       "0"
      ],
      "text/plain": [
       "[1] 0"
      ]
     },
     "metadata": {},
     "output_type": "display_data"
    },
    {
     "data": {
      "text/html": [
       "2"
      ],
      "text/latex": [
       "2"
      ],
      "text/markdown": [
       "2"
      ],
      "text/plain": [
       "[1] 2"
      ]
     },
     "metadata": {},
     "output_type": "display_data"
    },
    {
     "data": {
      "text/html": [
       "4"
      ],
      "text/latex": [
       "4"
      ],
      "text/markdown": [
       "4"
      ],
      "text/plain": [
       "[1] 4"
      ]
     },
     "metadata": {},
     "output_type": "display_data"
    }
   ],
   "source": [
    "# passed sensitivity filter and is significant \n",
    "saliva_raw_model %>%\n",
    "    filter(diff_robust_OutcomeSU == TRUE) %>%\n",
    "    nrow()\n",
    "\n",
    "# passed sensitivity analysis with a relaxed filter\n",
    "saliva_raw_model %>%\n",
    "    filter(`P Adj` < 0.1 & `Sensitivity Analysis` == TRUE) %>%\n",
    "    nrow()\n",
    "\n",
    "# significant with a relaxed filter\n",
    "saliva_raw_model %>%\n",
    "    filter(`P Adj` < 0.1) %>%\n",
    "    nrow()"
   ]
  },
  {
   "cell_type": "markdown",
   "id": "6e6ad0b5-d978-4987-9b00-d091ed12b544",
   "metadata": {},
   "source": [
    "## Saliva Adjusted Results"
   ]
  },
  {
   "cell_type": "code",
   "execution_count": 14,
   "id": "2800505a-2275-4db8-ab4e-e89fbb887e23",
   "metadata": {},
   "outputs": [
    {
     "data": {
      "text/html": [
       "0"
      ],
      "text/latex": [
       "0"
      ],
      "text/markdown": [
       "0"
      ],
      "text/plain": [
       "[1] 0"
      ]
     },
     "metadata": {},
     "output_type": "display_data"
    },
    {
     "data": {
      "text/html": [
       "8"
      ],
      "text/latex": [
       "8"
      ],
      "text/markdown": [
       "8"
      ],
      "text/plain": [
       "[1] 8"
      ]
     },
     "metadata": {},
     "output_type": "display_data"
    },
    {
     "data": {
      "text/html": [
       "13"
      ],
      "text/latex": [
       "13"
      ],
      "text/markdown": [
       "13"
      ],
      "text/plain": [
       "[1] 13"
      ]
     },
     "metadata": {},
     "output_type": "display_data"
    }
   ],
   "source": [
    "# passed sensitivity filter and is significant \n",
    "saliva_2cov_model %>%\n",
    "    filter(diff_robust_OutcomeSU == TRUE) %>%\n",
    "    nrow()\n",
    "\n",
    "# passed sensitivity analysis with a relaxed filter\n",
    "saliva_2cov_model %>%\n",
    "    filter(`P Adj` < 0.1 & `Sensitivity Analysis` == TRUE) %>%\n",
    "    nrow()\n",
    "\n",
    "# significant with a relaxed filter\n",
    "saliva_2cov_model %>%\n",
    "    filter(`P Adj` < 0.1) %>%\n",
    "    nrow()"
   ]
  },
  {
   "cell_type": "markdown",
   "id": "c6b226af-e3ab-45f5-8949-4111f4247fd3",
   "metadata": {},
   "source": [
    "## Stool Raw Results"
   ]
  },
  {
   "cell_type": "code",
   "execution_count": 15,
   "id": "16a7f9ab-4cad-4307-b96c-5fe061a924c2",
   "metadata": {},
   "outputs": [
    {
     "data": {
      "text/html": [
       "0"
      ],
      "text/latex": [
       "0"
      ],
      "text/markdown": [
       "0"
      ],
      "text/plain": [
       "[1] 0"
      ]
     },
     "metadata": {},
     "output_type": "display_data"
    },
    {
     "data": {
      "text/html": [
       "18"
      ],
      "text/latex": [
       "18"
      ],
      "text/markdown": [
       "18"
      ],
      "text/plain": [
       "[1] 18"
      ]
     },
     "metadata": {},
     "output_type": "display_data"
    },
    {
     "data": {
      "text/html": [
       "18"
      ],
      "text/latex": [
       "18"
      ],
      "text/markdown": [
       "18"
      ],
      "text/plain": [
       "[1] 18"
      ]
     },
     "metadata": {},
     "output_type": "display_data"
    }
   ],
   "source": [
    "# passed sensitivity filter and is significant \n",
    "stool_raw_model %>%\n",
    "    filter(diff_robust_OutcomeSU == TRUE) %>%\n",
    "    nrow()\n",
    "\n",
    "# passed sensitivity analysis with a relaxed filter\n",
    "stool_raw_model %>%\n",
    "    filter(`P Adj` < 0.1 & `Sensitivity Analysis` == TRUE) %>%\n",
    "    nrow()\n",
    "\n",
    "# significant with a relaxed filter\n",
    "stool_raw_model %>%\n",
    "    filter(`P Adj` < 0.1) %>%\n",
    "    nrow()"
   ]
  },
  {
   "cell_type": "markdown",
   "id": "4f145b1b-75e3-48b6-a965-7e094c49fe68",
   "metadata": {},
   "source": [
    "## Stool Adjusted Results"
   ]
  },
  {
   "cell_type": "code",
   "execution_count": 16,
   "id": "47a7cea2-1fa7-4776-b94d-4806113dd7e5",
   "metadata": {},
   "outputs": [
    {
     "data": {
      "text/html": [
       "0"
      ],
      "text/latex": [
       "0"
      ],
      "text/markdown": [
       "0"
      ],
      "text/plain": [
       "[1] 0"
      ]
     },
     "metadata": {},
     "output_type": "display_data"
    },
    {
     "data": {
      "text/html": [
       "8"
      ],
      "text/latex": [
       "8"
      ],
      "text/markdown": [
       "8"
      ],
      "text/plain": [
       "[1] 8"
      ]
     },
     "metadata": {},
     "output_type": "display_data"
    },
    {
     "data": {
      "text/html": [
       "13"
      ],
      "text/latex": [
       "13"
      ],
      "text/markdown": [
       "13"
      ],
      "text/plain": [
       "[1] 13"
      ]
     },
     "metadata": {},
     "output_type": "display_data"
    }
   ],
   "source": [
    "# passed sensitivity filter and is significant \n",
    "stool_2cov_model %>%\n",
    "    filter(diff_robust_OutcomeSU == TRUE) %>%\n",
    "    nrow()\n",
    "\n",
    "# passed sensitivity analysis with a relaxed filter\n",
    "stool_2cov_model %>%\n",
    "    filter(`P Adj` < 0.1 & `Sensitivity Analysis` == TRUE) %>%\n",
    "    nrow()\n",
    "\n",
    "# significant with a relaxed filter\n",
    "stool_2cov_model %>%\n",
    "    filter(`P Adj` < 0.1) %>%\n",
    "    nrow()"
   ]
  },
  {
   "cell_type": "markdown",
   "id": "c103d2d9-16d7-4ad5-96c4-d8b45e73cc57",
   "metadata": {},
   "source": [
    "# 2. What microbiome species associate with IgE concentrations at baseline? How is that affected after controlling for age?"
   ]
  },
  {
   "cell_type": "code",
   "execution_count": 17,
   "id": "0daed516-fc54-484f-a820-5e312daf283e",
   "metadata": {
    "scrolled": true
   },
   "outputs": [],
   "source": [
    "`%notin%` <- Negate(`%in%`)\n",
    "\n",
    "v2_saliva_df = combined_saliva_df %>%\n",
    "    # only keep participants' baseline samples \n",
    "    filter(Time_Point == 'Pre') %>%\n",
    "    # making the row names the sample ids\n",
    "    column_to_rownames(var = 'Sample_ID')\n",
    "\n",
    "v2_stool_df = combined_stool_df %>%\n",
    "     filter(Time_Point == 'Pre') %>%\n",
    "    column_to_rownames(var = 'Sample_ID')"
   ]
  },
  {
   "cell_type": "markdown",
   "id": "b8f88057-5009-4e20-8df5-a0ef1f9744aa",
   "metadata": {},
   "source": [
    "How many subjects do we have?"
   ]
  },
  {
   "cell_type": "code",
   "execution_count": 18,
   "id": "f4dfcf91-9a9f-415e-a5d3-52dff4648f76",
   "metadata": {},
   "outputs": [
    {
     "data": {
      "text/html": [
       "35"
      ],
      "text/latex": [
       "35"
      ],
      "text/markdown": [
       "35"
      ],
      "text/plain": [
       "[1] 35"
      ]
     },
     "metadata": {},
     "output_type": "display_data"
    },
    {
     "data": {
      "text/html": [
       "33"
      ],
      "text/latex": [
       "33"
      ],
      "text/markdown": [
       "33"
      ],
      "text/plain": [
       "[1] 33"
      ]
     },
     "metadata": {},
     "output_type": "display_data"
    }
   ],
   "source": [
    "length(unique(v2_saliva_df$Subject_No))\n",
    "length(unique(v2_stool_df$Subject_No))"
   ]
  },
  {
   "cell_type": "code",
   "execution_count": 19,
   "id": "5ee84cd2-c478-4ce5-8383-5d7829a09bf5",
   "metadata": {
    "scrolled": true
   },
   "outputs": [
    {
     "name": "stderr",
     "output_type": "stream",
     "text": [
      "Checking the input data type ...\n",
      "\n",
      "The input data is of type: matrix\n",
      "\n",
      "The imported data is in a generic 'matrix'/'data.frame' format.\n",
      "\n",
      "PASS\n",
      "\n",
      "Checking the sample metadata ...\n",
      "\n",
      "The specified variables in the formula: IgE_Binarized\n",
      "\n",
      "The available variables in the sample metadata: Original_Sample_ID, Subject_No, Time_Point, Treatment, Outcome, Age, IgE, IgE_Binarized\n",
      "\n",
      "PASS\n",
      "\n",
      "Checking other arguments ...\n",
      "\n",
      "The number of groups of interest is: 2\n",
      "\n",
      "Warning message:\n",
      "“The group variable has < 3 categories \n",
      "The multi-group comparisons (global/pairwise/dunnet/trend) will be deactivated”\n",
      "The sample size per group is: Low = 21, High = 14\n",
      "\n",
      "PASS\n",
      "\n",
      "Obtaining initial estimates ...\n",
      "\n",
      "Estimating sample-specific biases ...\n",
      "\n",
      "Warning message in sqrt(sweep(var_hat, 2, var_delta, \"*\")):\n",
      "“NaNs produced”\n",
      "ANCOM-BC2 primary results ...\n",
      "\n",
      "Conducting sensitivity analysis for pseudo-count addition to 0s ...\n",
      "For taxa that are significant but do not pass the sensitivity analysis,\n",
      "they are marked in the 'passed_ss' column and will be treated as non-significant in the 'diff_robust' column.\n",
      "For detailed instructions on performing sensitivity analysis, please refer to the package vignette.\n",
      "\n",
      "Warning message:\n",
      "“\u001b[1m\u001b[22mExpected 2 pieces. Missing pieces filled with `NA` in 5 rows [1, 44, 98, 107,\n",
      "108].”\n",
      "Checking the input data type ...\n",
      "\n",
      "The input data is of type: matrix\n",
      "\n",
      "The imported data is in a generic 'matrix'/'data.frame' format.\n",
      "\n",
      "PASS\n",
      "\n",
      "Checking the sample metadata ...\n",
      "\n",
      "The specified variables in the formula: Age, IgE_Binarized\n",
      "\n",
      "The available variables in the sample metadata: Original_Sample_ID, Subject_No, Time_Point, Treatment, Outcome, Age, IgE, IgE_Binarized\n",
      "\n",
      "PASS\n",
      "\n",
      "Checking other arguments ...\n",
      "\n",
      "The number of groups of interest is: 2\n",
      "\n",
      "Warning message:\n",
      "“The group variable has < 3 categories \n",
      "The multi-group comparisons (global/pairwise/dunnet/trend) will be deactivated”\n",
      "The sample size per group is: Low = 21, High = 14\n",
      "\n",
      "PASS\n",
      "\n",
      "Obtaining initial estimates ...\n",
      "\n",
      "Estimating sample-specific biases ...\n",
      "\n",
      "ANCOM-BC2 primary results ...\n",
      "\n",
      "Conducting sensitivity analysis for pseudo-count addition to 0s ...\n",
      "For taxa that are significant but do not pass the sensitivity analysis,\n",
      "they are marked in the 'passed_ss' column and will be treated as non-significant in the 'diff_robust' column.\n",
      "For detailed instructions on performing sensitivity analysis, please refer to the package vignette.\n",
      "\n",
      "Warning message:\n",
      "“\u001b[1m\u001b[22mExpected 2 pieces. Missing pieces filled with `NA` in 5 rows [1, 44, 98, 107,\n",
      "108].”\n",
      "Checking the input data type ...\n",
      "\n",
      "The input data is of type: matrix\n",
      "\n",
      "The imported data is in a generic 'matrix'/'data.frame' format.\n",
      "\n",
      "PASS\n",
      "\n",
      "Checking the sample metadata ...\n",
      "\n",
      "The specified variables in the formula: IgE_Binarized\n",
      "\n",
      "The available variables in the sample metadata: Original_Subject_ID, Original_Sample_ID, Subject_No, Time_Point, Treatment, Outcome, Age, IgE, IgE_Binarized\n",
      "\n",
      "PASS\n",
      "\n",
      "Checking other arguments ...\n",
      "\n",
      "The number of groups of interest is: 2\n",
      "\n",
      "Warning message:\n",
      "“The group variable has < 3 categories \n",
      "The multi-group comparisons (global/pairwise/dunnet/trend) will be deactivated”\n",
      "The sample size per group is: Low = 19, High = 14\n",
      "\n",
      "PASS\n",
      "\n",
      "Obtaining initial estimates ...\n",
      "\n",
      "Estimating sample-specific biases ...\n",
      "\n",
      "ANCOM-BC2 primary results ...\n",
      "\n",
      "Conducting sensitivity analysis for pseudo-count addition to 0s ...\n",
      "For taxa that are significant but do not pass the sensitivity analysis,\n",
      "they are marked in the 'passed_ss' column and will be treated as non-significant in the 'diff_robust' column.\n",
      "For detailed instructions on performing sensitivity analysis, please refer to the package vignette.\n",
      "\n",
      "Warning message:\n",
      "“\u001b[1m\u001b[22mExpected 2 pieces. Missing pieces filled with `NA` in 8 rows [1, 2, 6, 29, 96,\n",
      "117, 146, 150].”\n",
      "Checking the input data type ...\n",
      "\n",
      "The input data is of type: matrix\n",
      "\n",
      "The imported data is in a generic 'matrix'/'data.frame' format.\n",
      "\n",
      "PASS\n",
      "\n",
      "Checking the sample metadata ...\n",
      "\n",
      "The specified variables in the formula: Age, IgE_Binarized\n",
      "\n",
      "The available variables in the sample metadata: Original_Subject_ID, Original_Sample_ID, Subject_No, Time_Point, Treatment, Outcome, Age, IgE, IgE_Binarized\n",
      "\n",
      "PASS\n",
      "\n",
      "Checking other arguments ...\n",
      "\n",
      "The number of groups of interest is: 2\n",
      "\n",
      "Warning message:\n",
      "“The group variable has < 3 categories \n",
      "The multi-group comparisons (global/pairwise/dunnet/trend) will be deactivated”\n",
      "The sample size per group is: Low = 19, High = 14\n",
      "\n",
      "PASS\n",
      "\n",
      "Obtaining initial estimates ...\n",
      "\n",
      "Estimating sample-specific biases ...\n",
      "\n",
      "ANCOM-BC2 primary results ...\n",
      "\n",
      "Conducting sensitivity analysis for pseudo-count addition to 0s ...\n",
      "For taxa that are significant but do not pass the sensitivity analysis,\n",
      "they are marked in the 'passed_ss' column and will be treated as non-significant in the 'diff_robust' column.\n",
      "For detailed instructions on performing sensitivity analysis, please refer to the package vignette.\n",
      "\n",
      "Warning message:\n",
      "“\u001b[1m\u001b[22mExpected 2 pieces. Missing pieces filled with `NA` in 8 rows [1, 2, 6, 29, 96,\n",
      "117, 146, 150].”\n"
     ]
    }
   ],
   "source": [
    "# calling fn\n",
    "saliva_ige = get_ancombc2_results(v2_saliva_df, 'IgE_Binarized', 8, FALSE, 'IgE_Binarized', 'High')\n",
    "saliva_ige_cov = get_ancombc2_results(v2_saliva_df, 'Age + IgE_Binarized', 8, FALSE, 'IgE_Binarized', 'High')\n",
    "stool_ige = get_ancombc2_results(v2_stool_df, 'IgE_Binarized', 9, FALSE, 'IgE_Binarized', 'High')\n",
    "stool_ige_cov = get_ancombc2_results(v2_stool_df, 'Age + IgE_Binarized', 9, FALSE, 'IgE_Binarized', 'High')"
   ]
  },
  {
   "cell_type": "code",
   "execution_count": 20,
   "id": "4a6be7d9-7cd5-4fee-bed4-bceb4c0155bb",
   "metadata": {},
   "outputs": [
    {
     "data": {
      "text/html": [
       "0"
      ],
      "text/latex": [
       "0"
      ],
      "text/markdown": [
       "0"
      ],
      "text/plain": [
       "[1] 0"
      ]
     },
     "metadata": {},
     "output_type": "display_data"
    },
    {
     "data": {
      "text/html": [
       "3"
      ],
      "text/latex": [
       "3"
      ],
      "text/markdown": [
       "3"
      ],
      "text/plain": [
       "[1] 3"
      ]
     },
     "metadata": {},
     "output_type": "display_data"
    },
    {
     "data": {
      "text/html": [
       "6"
      ],
      "text/latex": [
       "6"
      ],
      "text/markdown": [
       "6"
      ],
      "text/plain": [
       "[1] 6"
      ]
     },
     "metadata": {},
     "output_type": "display_data"
    }
   ],
   "source": [
    "# passed sensitivity filter and is significant \n",
    "saliva_ige %>%\n",
    "    filter(diff_robust_IgE_BinarizedHigh == TRUE) %>%\n",
    "    nrow()\n",
    "\n",
    "# passed sensitivity analysis with a relaxed filter\n",
    "saliva_ige %>%\n",
    "    filter(`P Adj` < 0.1 & `Sensitivity Analysis` == TRUE) %>%\n",
    "    nrow()\n",
    "\n",
    "# significant with a relaxed filter\n",
    "saliva_ige %>%\n",
    "    filter(`P Adj` < 0.1) %>%\n",
    "    nrow()"
   ]
  },
  {
   "cell_type": "code",
   "execution_count": 21,
   "id": "70addcbf-30cd-4c23-8987-7bcafd214dcd",
   "metadata": {},
   "outputs": [
    {
     "data": {
      "text/html": [
       "0"
      ],
      "text/latex": [
       "0"
      ],
      "text/markdown": [
       "0"
      ],
      "text/plain": [
       "[1] 0"
      ]
     },
     "metadata": {},
     "output_type": "display_data"
    },
    {
     "data": {
      "text/html": [
       "7"
      ],
      "text/latex": [
       "7"
      ],
      "text/markdown": [
       "7"
      ],
      "text/plain": [
       "[1] 7"
      ]
     },
     "metadata": {},
     "output_type": "display_data"
    },
    {
     "data": {
      "text/html": [
       "8"
      ],
      "text/latex": [
       "8"
      ],
      "text/markdown": [
       "8"
      ],
      "text/plain": [
       "[1] 8"
      ]
     },
     "metadata": {},
     "output_type": "display_data"
    }
   ],
   "source": [
    "# passed sensitivity filter and is significant \n",
    "saliva_ige_cov %>%\n",
    "    filter(diff_robust_IgE_BinarizedHigh == TRUE) %>%\n",
    "    nrow()\n",
    "\n",
    "# passed sensitivity analysis with a relaxed filter\n",
    "saliva_ige_cov %>%\n",
    "    filter(`P Adj` < 0.1 & `Sensitivity Analysis` == TRUE) %>%\n",
    "    nrow()\n",
    "\n",
    "# significant with a relaxed filter\n",
    "saliva_ige_cov %>%\n",
    "    filter(`P Adj` < 0.1) %>%\n",
    "    nrow()"
   ]
  },
  {
   "cell_type": "code",
   "execution_count": 22,
   "id": "f9f2774b-a6a7-4ffb-8885-6de913621fcf",
   "metadata": {},
   "outputs": [
    {
     "data": {
      "text/html": [
       "0"
      ],
      "text/latex": [
       "0"
      ],
      "text/markdown": [
       "0"
      ],
      "text/plain": [
       "[1] 0"
      ]
     },
     "metadata": {},
     "output_type": "display_data"
    },
    {
     "data": {
      "text/html": [
       "15"
      ],
      "text/latex": [
       "15"
      ],
      "text/markdown": [
       "15"
      ],
      "text/plain": [
       "[1] 15"
      ]
     },
     "metadata": {},
     "output_type": "display_data"
    },
    {
     "data": {
      "text/html": [
       "50"
      ],
      "text/latex": [
       "50"
      ],
      "text/markdown": [
       "50"
      ],
      "text/plain": [
       "[1] 50"
      ]
     },
     "metadata": {},
     "output_type": "display_data"
    }
   ],
   "source": [
    "# passed sensitivity filter and is significant \n",
    "stool_ige %>%\n",
    "    filter(diff_robust_IgE_BinarizedHigh == TRUE) %>%\n",
    "    nrow()\n",
    "\n",
    "# passed sensitivity analysis with a relaxed filter\n",
    "stool_ige %>%\n",
    "    filter(`P Adj` < 0.1 & `Sensitivity Analysis` == TRUE) %>%\n",
    "    nrow()\n",
    "\n",
    "# significant with a relaxed filter\n",
    "stool_ige %>%\n",
    "    filter(`P Adj` < 0.1) %>%\n",
    "    nrow()"
   ]
  },
  {
   "cell_type": "code",
   "execution_count": 23,
   "id": "9d2db611-4640-48c0-b200-2868bafd79d0",
   "metadata": {},
   "outputs": [
    {
     "data": {
      "text/html": [
       "0"
      ],
      "text/latex": [
       "0"
      ],
      "text/markdown": [
       "0"
      ],
      "text/plain": [
       "[1] 0"
      ]
     },
     "metadata": {},
     "output_type": "display_data"
    },
    {
     "data": {
      "text/html": [
       "24"
      ],
      "text/latex": [
       "24"
      ],
      "text/markdown": [
       "24"
      ],
      "text/plain": [
       "[1] 24"
      ]
     },
     "metadata": {},
     "output_type": "display_data"
    },
    {
     "data": {
      "text/html": [
       "36"
      ],
      "text/latex": [
       "36"
      ],
      "text/markdown": [
       "36"
      ],
      "text/plain": [
       "[1] 36"
      ]
     },
     "metadata": {},
     "output_type": "display_data"
    }
   ],
   "source": [
    "# passed sensitivity filter and is significant \n",
    "stool_ige_cov %>%\n",
    "    filter(diff_robust_IgE_BinarizedHigh == TRUE) %>%\n",
    "    nrow()\n",
    "\n",
    "# passed sensitivity analysis with a relaxed filter\n",
    "stool_ige_cov %>%\n",
    "    filter(`P Adj` < 0.1 & `Sensitivity Analysis` == TRUE) %>%\n",
    "    nrow()\n",
    "\n",
    "# significant with a relaxed filter\n",
    "stool_ige_cov %>%\n",
    "    filter(`P Adj` < 0.1) %>%\n",
    "    nrow()"
   ]
  },
  {
   "cell_type": "markdown",
   "id": "3d145ae7-a930-4417-9d92-15db20803acd",
   "metadata": {},
   "source": [
    "# 3. Are there significant changes in the microbiome across outcome groups? Are those changes impacting the outcome using the treatment, age, and IgE as covariates?"
   ]
  },
  {
   "cell_type": "code",
   "execution_count": 24,
   "id": "50e42539-17d0-4e80-8078-80987074b966",
   "metadata": {},
   "outputs": [
    {
     "data": {
      "text/html": [
       "<table class=\"dataframe\">\n",
       "<caption>A data.frame: 6 × 126</caption>\n",
       "<thead>\n",
       "\t<tr><th></th><th scope=col>Original_Sample_ID</th><th scope=col>Subject_No</th><th scope=col>Time_Point</th><th scope=col>Treatment</th><th scope=col>Outcome</th><th scope=col>Age</th><th scope=col>IgE</th><th scope=col>IgE_Binarized</th><th scope=col>k__Bacteria.__.__.__.__.__.__</th><th scope=col>k__Bacteria.p__Absconditabacteria_.SR1..c__Absconditabacteria_.SR1._.C.1..o__Absconditabacteria_.SR1._.O.1..f__Absconditabacteria_.SR1._.F.1..g__Absconditabacteria_.SR1._.G.1..s__bacterium_HMT_874</th><th scope=col>⋯</th><th scope=col>k__Bacteria.p__Proteobacteria.c__Gammaproteobacteria.o__Pasteurellales.f__Pasteurellaceae.__.__</th><th scope=col>k__Bacteria.p__Proteobacteria.c__Gammaproteobacteria.o__Pasteurellales.f__Pasteurellaceae.g__Aggregatibacter.__</th><th scope=col>k__Bacteria.p__Proteobacteria.c__Gammaproteobacteria.o__Pasteurellales.f__Pasteurellaceae.g__Aggregatibacter.s__aphrophilus</th><th scope=col>k__Bacteria.p__Proteobacteria.c__Gammaproteobacteria.o__Pasteurellales.f__Pasteurellaceae.g__Haemophilus.__</th><th scope=col>k__Bacteria.p__Proteobacteria.c__Gammaproteobacteria.o__Pasteurellales.f__Pasteurellaceae.g__Haemophilus.s__parainfluenzae</th><th scope=col>k__Bacteria.p__Saccharibacteria_.TM7..c__Saccharibacteria_.TM7._.C.1..o__Saccharibacteria_.TM7._.O.1..f__Saccharibacteria_.TM7._.F.1..g__Saccharibacteria_.TM7._.G.1..__</th><th scope=col>k__Bacteria.p__Saccharibacteria_.TM7..c__Saccharibacteria_.TM7._.C.1..o__Saccharibacteria_.TM7._.O.1..f__Saccharibacteria_.TM7._.F.1..g__Saccharibacteria_.TM7._.G.1..s__bacterium_HMT_347</th><th scope=col>k__Bacteria.p__Saccharibacteria_.TM7..c__Saccharibacteria_.TM7._.C.1..o__Saccharibacteria_.TM7._.O.1..f__Saccharibacteria_.TM7._.F.1..g__Saccharibacteria_.TM7._.G.1..s__bacterium_HMT_352</th><th scope=col>k__Bacteria.p__Saccharibacteria_.TM7..c__Saccharibacteria_.TM7._.C.1..o__Saccharibacteria_.TM7._.O.1..f__Saccharibacteria_.TM7._.F.1..g__Saccharibacteria_.TM7._.G.3..s__bacterium_HMT_351</th><th scope=col>k__Bacteria.p__Saccharibacteria_.TM7..c__Saccharibacteria_.TM7._.C.1..o__Saccharibacteria_.TM7._.O.1..f__Saccharibacteria_.TM7._.F.1..g__Saccharibacteria_.TM7._.G.6..s__bacterium_HMT_870</th></tr>\n",
       "\t<tr><th></th><th scope=col>&lt;chr&gt;</th><th scope=col>&lt;dbl&gt;</th><th scope=col>&lt;chr&gt;</th><th scope=col>&lt;fct&gt;</th><th scope=col>&lt;fct&gt;</th><th scope=col>&lt;dbl&gt;</th><th scope=col>&lt;dbl&gt;</th><th scope=col>&lt;fct&gt;</th><th scope=col>&lt;dbl&gt;</th><th scope=col>&lt;dbl&gt;</th><th scope=col>⋯</th><th scope=col>&lt;dbl&gt;</th><th scope=col>&lt;dbl&gt;</th><th scope=col>&lt;dbl&gt;</th><th scope=col>&lt;dbl&gt;</th><th scope=col>&lt;dbl&gt;</th><th scope=col>&lt;dbl&gt;</th><th scope=col>&lt;dbl&gt;</th><th scope=col>&lt;dbl&gt;</th><th scope=col>&lt;dbl&gt;</th><th scope=col>&lt;dbl&gt;</th></tr>\n",
       "</thead>\n",
       "<tbody>\n",
       "\t<tr><th scope=row>Post_2</th><td>FS0236mo    </td><td>2</td><td>Post</td><td>A</td><td>F </td><td>1.873973</td><td>14.20</td><td>Low</td><td>63</td><td>25</td><td>⋯</td><td>698</td><td> 0</td><td>43</td><td>  98</td><td>1657</td><td> 0</td><td> 0</td><td>423</td><td>146</td><td>123</td></tr>\n",
       "\t<tr><th scope=row>Pre_2</th><td>FS02baseline</td><td>2</td><td>Pre </td><td>A</td><td>F </td><td>1.873973</td><td>14.20</td><td>Low</td><td> 0</td><td>16</td><td>⋯</td><td>  0</td><td> 0</td><td>46</td><td> 371</td><td>3359</td><td> 0</td><td> 0</td><td>  0</td><td>  0</td><td>112</td></tr>\n",
       "\t<tr><th scope=row>Post_4</th><td>FS0536mo    </td><td>4</td><td>Post</td><td>A</td><td>F </td><td>3.991781</td><td> 9.59</td><td>Low</td><td> 6</td><td> 0</td><td>⋯</td><td>  0</td><td>17</td><td> 0</td><td> 139</td><td>2521</td><td> 0</td><td> 0</td><td>502</td><td> 39</td><td>101</td></tr>\n",
       "\t<tr><th scope=row>Pre_4</th><td>FS05baseline</td><td>4</td><td>Pre </td><td>A</td><td>F </td><td>3.991781</td><td> 9.59</td><td>Low</td><td>24</td><td> 0</td><td>⋯</td><td>  0</td><td> 0</td><td> 0</td><td> 110</td><td>1225</td><td>40</td><td> 4</td><td>403</td><td> 35</td><td>167</td></tr>\n",
       "\t<tr><th scope=row>Post_6</th><td>FS0736mo    </td><td>6</td><td>Post</td><td>A</td><td>SU</td><td>1.419178</td><td> 1.32</td><td>Low</td><td> 2</td><td>24</td><td>⋯</td><td>  0</td><td> 0</td><td> 0</td><td> 463</td><td>1646</td><td> 7</td><td> 0</td><td>167</td><td> 61</td><td>437</td></tr>\n",
       "\t<tr><th scope=row>Pre_6</th><td>FS07baseline</td><td>6</td><td>Pre </td><td>A</td><td>SU</td><td>1.419178</td><td> 1.32</td><td>Low</td><td> 7</td><td> 0</td><td>⋯</td><td>  0</td><td> 0</td><td> 0</td><td>2315</td><td>1978</td><td> 0</td><td>16</td><td>  0</td><td>  5</td><td> 28</td></tr>\n",
       "</tbody>\n",
       "</table>\n"
      ],
      "text/latex": [
       "A data.frame: 6 × 126\n",
       "\\begin{tabular}{r|lllllllllllllllllllll}\n",
       "  & Original\\_Sample\\_ID & Subject\\_No & Time\\_Point & Treatment & Outcome & Age & IgE & IgE\\_Binarized & k\\_\\_Bacteria.\\_\\_.\\_\\_.\\_\\_.\\_\\_.\\_\\_.\\_\\_ & k\\_\\_Bacteria.p\\_\\_Absconditabacteria\\_.SR1..c\\_\\_Absconditabacteria\\_.SR1.\\_.C.1..o\\_\\_Absconditabacteria\\_.SR1.\\_.O.1..f\\_\\_Absconditabacteria\\_.SR1.\\_.F.1..g\\_\\_Absconditabacteria\\_.SR1.\\_.G.1..s\\_\\_bacterium\\_HMT\\_874 & ⋯ & k\\_\\_Bacteria.p\\_\\_Proteobacteria.c\\_\\_Gammaproteobacteria.o\\_\\_Pasteurellales.f\\_\\_Pasteurellaceae.\\_\\_.\\_\\_ & k\\_\\_Bacteria.p\\_\\_Proteobacteria.c\\_\\_Gammaproteobacteria.o\\_\\_Pasteurellales.f\\_\\_Pasteurellaceae.g\\_\\_Aggregatibacter.\\_\\_ & k\\_\\_Bacteria.p\\_\\_Proteobacteria.c\\_\\_Gammaproteobacteria.o\\_\\_Pasteurellales.f\\_\\_Pasteurellaceae.g\\_\\_Aggregatibacter.s\\_\\_aphrophilus & k\\_\\_Bacteria.p\\_\\_Proteobacteria.c\\_\\_Gammaproteobacteria.o\\_\\_Pasteurellales.f\\_\\_Pasteurellaceae.g\\_\\_Haemophilus.\\_\\_ & k\\_\\_Bacteria.p\\_\\_Proteobacteria.c\\_\\_Gammaproteobacteria.o\\_\\_Pasteurellales.f\\_\\_Pasteurellaceae.g\\_\\_Haemophilus.s\\_\\_parainfluenzae & k\\_\\_Bacteria.p\\_\\_Saccharibacteria\\_.TM7..c\\_\\_Saccharibacteria\\_.TM7.\\_.C.1..o\\_\\_Saccharibacteria\\_.TM7.\\_.O.1..f\\_\\_Saccharibacteria\\_.TM7.\\_.F.1..g\\_\\_Saccharibacteria\\_.TM7.\\_.G.1..\\_\\_ & k\\_\\_Bacteria.p\\_\\_Saccharibacteria\\_.TM7..c\\_\\_Saccharibacteria\\_.TM7.\\_.C.1..o\\_\\_Saccharibacteria\\_.TM7.\\_.O.1..f\\_\\_Saccharibacteria\\_.TM7.\\_.F.1..g\\_\\_Saccharibacteria\\_.TM7.\\_.G.1..s\\_\\_bacterium\\_HMT\\_347 & k\\_\\_Bacteria.p\\_\\_Saccharibacteria\\_.TM7..c\\_\\_Saccharibacteria\\_.TM7.\\_.C.1..o\\_\\_Saccharibacteria\\_.TM7.\\_.O.1..f\\_\\_Saccharibacteria\\_.TM7.\\_.F.1..g\\_\\_Saccharibacteria\\_.TM7.\\_.G.1..s\\_\\_bacterium\\_HMT\\_352 & k\\_\\_Bacteria.p\\_\\_Saccharibacteria\\_.TM7..c\\_\\_Saccharibacteria\\_.TM7.\\_.C.1..o\\_\\_Saccharibacteria\\_.TM7.\\_.O.1..f\\_\\_Saccharibacteria\\_.TM7.\\_.F.1..g\\_\\_Saccharibacteria\\_.TM7.\\_.G.3..s\\_\\_bacterium\\_HMT\\_351 & k\\_\\_Bacteria.p\\_\\_Saccharibacteria\\_.TM7..c\\_\\_Saccharibacteria\\_.TM7.\\_.C.1..o\\_\\_Saccharibacteria\\_.TM7.\\_.O.1..f\\_\\_Saccharibacteria\\_.TM7.\\_.F.1..g\\_\\_Saccharibacteria\\_.TM7.\\_.G.6..s\\_\\_bacterium\\_HMT\\_870\\\\\n",
       "  & <chr> & <dbl> & <chr> & <fct> & <fct> & <dbl> & <dbl> & <fct> & <dbl> & <dbl> & ⋯ & <dbl> & <dbl> & <dbl> & <dbl> & <dbl> & <dbl> & <dbl> & <dbl> & <dbl> & <dbl>\\\\\n",
       "\\hline\n",
       "\tPost\\_2 & FS0236mo     & 2 & Post & A & F  & 1.873973 & 14.20 & Low & 63 & 25 & ⋯ & 698 &  0 & 43 &   98 & 1657 &  0 &  0 & 423 & 146 & 123\\\\\n",
       "\tPre\\_2 & FS02baseline & 2 & Pre  & A & F  & 1.873973 & 14.20 & Low &  0 & 16 & ⋯ &   0 &  0 & 46 &  371 & 3359 &  0 &  0 &   0 &   0 & 112\\\\\n",
       "\tPost\\_4 & FS0536mo     & 4 & Post & A & F  & 3.991781 &  9.59 & Low &  6 &  0 & ⋯ &   0 & 17 &  0 &  139 & 2521 &  0 &  0 & 502 &  39 & 101\\\\\n",
       "\tPre\\_4 & FS05baseline & 4 & Pre  & A & F  & 3.991781 &  9.59 & Low & 24 &  0 & ⋯ &   0 &  0 &  0 &  110 & 1225 & 40 &  4 & 403 &  35 & 167\\\\\n",
       "\tPost\\_6 & FS0736mo     & 6 & Post & A & SU & 1.419178 &  1.32 & Low &  2 & 24 & ⋯ &   0 &  0 &  0 &  463 & 1646 &  7 &  0 & 167 &  61 & 437\\\\\n",
       "\tPre\\_6 & FS07baseline & 6 & Pre  & A & SU & 1.419178 &  1.32 & Low &  7 &  0 & ⋯ &   0 &  0 &  0 & 2315 & 1978 &  0 & 16 &   0 &   5 &  28\\\\\n",
       "\\end{tabular}\n"
      ],
      "text/markdown": [
       "\n",
       "A data.frame: 6 × 126\n",
       "\n",
       "| <!--/--> | Original_Sample_ID &lt;chr&gt; | Subject_No &lt;dbl&gt; | Time_Point &lt;chr&gt; | Treatment &lt;fct&gt; | Outcome &lt;fct&gt; | Age &lt;dbl&gt; | IgE &lt;dbl&gt; | IgE_Binarized &lt;fct&gt; | k__Bacteria.__.__.__.__.__.__ &lt;dbl&gt; | k__Bacteria.p__Absconditabacteria_.SR1..c__Absconditabacteria_.SR1._.C.1..o__Absconditabacteria_.SR1._.O.1..f__Absconditabacteria_.SR1._.F.1..g__Absconditabacteria_.SR1._.G.1..s__bacterium_HMT_874 &lt;dbl&gt; | ⋯ ⋯ | k__Bacteria.p__Proteobacteria.c__Gammaproteobacteria.o__Pasteurellales.f__Pasteurellaceae.__.__ &lt;dbl&gt; | k__Bacteria.p__Proteobacteria.c__Gammaproteobacteria.o__Pasteurellales.f__Pasteurellaceae.g__Aggregatibacter.__ &lt;dbl&gt; | k__Bacteria.p__Proteobacteria.c__Gammaproteobacteria.o__Pasteurellales.f__Pasteurellaceae.g__Aggregatibacter.s__aphrophilus &lt;dbl&gt; | k__Bacteria.p__Proteobacteria.c__Gammaproteobacteria.o__Pasteurellales.f__Pasteurellaceae.g__Haemophilus.__ &lt;dbl&gt; | k__Bacteria.p__Proteobacteria.c__Gammaproteobacteria.o__Pasteurellales.f__Pasteurellaceae.g__Haemophilus.s__parainfluenzae &lt;dbl&gt; | k__Bacteria.p__Saccharibacteria_.TM7..c__Saccharibacteria_.TM7._.C.1..o__Saccharibacteria_.TM7._.O.1..f__Saccharibacteria_.TM7._.F.1..g__Saccharibacteria_.TM7._.G.1..__ &lt;dbl&gt; | k__Bacteria.p__Saccharibacteria_.TM7..c__Saccharibacteria_.TM7._.C.1..o__Saccharibacteria_.TM7._.O.1..f__Saccharibacteria_.TM7._.F.1..g__Saccharibacteria_.TM7._.G.1..s__bacterium_HMT_347 &lt;dbl&gt; | k__Bacteria.p__Saccharibacteria_.TM7..c__Saccharibacteria_.TM7._.C.1..o__Saccharibacteria_.TM7._.O.1..f__Saccharibacteria_.TM7._.F.1..g__Saccharibacteria_.TM7._.G.1..s__bacterium_HMT_352 &lt;dbl&gt; | k__Bacteria.p__Saccharibacteria_.TM7..c__Saccharibacteria_.TM7._.C.1..o__Saccharibacteria_.TM7._.O.1..f__Saccharibacteria_.TM7._.F.1..g__Saccharibacteria_.TM7._.G.3..s__bacterium_HMT_351 &lt;dbl&gt; | k__Bacteria.p__Saccharibacteria_.TM7..c__Saccharibacteria_.TM7._.C.1..o__Saccharibacteria_.TM7._.O.1..f__Saccharibacteria_.TM7._.F.1..g__Saccharibacteria_.TM7._.G.6..s__bacterium_HMT_870 &lt;dbl&gt; |\n",
       "|---|---|---|---|---|---|---|---|---|---|---|---|---|---|---|---|---|---|---|---|---|---|\n",
       "| Post_2 | FS0236mo     | 2 | Post | A | F  | 1.873973 | 14.20 | Low | 63 | 25 | ⋯ | 698 |  0 | 43 |   98 | 1657 |  0 |  0 | 423 | 146 | 123 |\n",
       "| Pre_2 | FS02baseline | 2 | Pre  | A | F  | 1.873973 | 14.20 | Low |  0 | 16 | ⋯ |   0 |  0 | 46 |  371 | 3359 |  0 |  0 |   0 |   0 | 112 |\n",
       "| Post_4 | FS0536mo     | 4 | Post | A | F  | 3.991781 |  9.59 | Low |  6 |  0 | ⋯ |   0 | 17 |  0 |  139 | 2521 |  0 |  0 | 502 |  39 | 101 |\n",
       "| Pre_4 | FS05baseline | 4 | Pre  | A | F  | 3.991781 |  9.59 | Low | 24 |  0 | ⋯ |   0 |  0 |  0 |  110 | 1225 | 40 |  4 | 403 |  35 | 167 |\n",
       "| Post_6 | FS0736mo     | 6 | Post | A | SU | 1.419178 |  1.32 | Low |  2 | 24 | ⋯ |   0 |  0 |  0 |  463 | 1646 |  7 |  0 | 167 |  61 | 437 |\n",
       "| Pre_6 | FS07baseline | 6 | Pre  | A | SU | 1.419178 |  1.32 | Low |  7 |  0 | ⋯ |   0 |  0 |  0 | 2315 | 1978 |  0 | 16 |   0 |   5 |  28 |\n",
       "\n"
      ],
      "text/plain": [
       "       Original_Sample_ID Subject_No Time_Point Treatment Outcome Age     \n",
       "Post_2 FS0236mo           2          Post       A         F       1.873973\n",
       "Pre_2  FS02baseline       2          Pre        A         F       1.873973\n",
       "Post_4 FS0536mo           4          Post       A         F       3.991781\n",
       "Pre_4  FS05baseline       4          Pre        A         F       3.991781\n",
       "Post_6 FS0736mo           6          Post       A         SU      1.419178\n",
       "Pre_6  FS07baseline       6          Pre        A         SU      1.419178\n",
       "       IgE   IgE_Binarized k__Bacteria.__.__.__.__.__.__\n",
       "Post_2 14.20 Low           63                           \n",
       "Pre_2  14.20 Low            0                           \n",
       "Post_4  9.59 Low            6                           \n",
       "Pre_4   9.59 Low           24                           \n",
       "Post_6  1.32 Low            2                           \n",
       "Pre_6   1.32 Low            7                           \n",
       "       k__Bacteria.p__Absconditabacteria_.SR1..c__Absconditabacteria_.SR1._.C.1..o__Absconditabacteria_.SR1._.O.1..f__Absconditabacteria_.SR1._.F.1..g__Absconditabacteria_.SR1._.G.1..s__bacterium_HMT_874\n",
       "Post_2 25                                                                                                                                                                                                  \n",
       "Pre_2  16                                                                                                                                                                                                  \n",
       "Post_4  0                                                                                                                                                                                                  \n",
       "Pre_4   0                                                                                                                                                                                                  \n",
       "Post_6 24                                                                                                                                                                                                  \n",
       "Pre_6   0                                                                                                                                                                                                  \n",
       "       ⋯\n",
       "Post_2 ⋯\n",
       "Pre_2  ⋯\n",
       "Post_4 ⋯\n",
       "Pre_4  ⋯\n",
       "Post_6 ⋯\n",
       "Pre_6  ⋯\n",
       "       k__Bacteria.p__Proteobacteria.c__Gammaproteobacteria.o__Pasteurellales.f__Pasteurellaceae.__.__\n",
       "Post_2 698                                                                                            \n",
       "Pre_2    0                                                                                            \n",
       "Post_4   0                                                                                            \n",
       "Pre_4    0                                                                                            \n",
       "Post_6   0                                                                                            \n",
       "Pre_6    0                                                                                            \n",
       "       k__Bacteria.p__Proteobacteria.c__Gammaproteobacteria.o__Pasteurellales.f__Pasteurellaceae.g__Aggregatibacter.__\n",
       "Post_2  0                                                                                                             \n",
       "Pre_2   0                                                                                                             \n",
       "Post_4 17                                                                                                             \n",
       "Pre_4   0                                                                                                             \n",
       "Post_6  0                                                                                                             \n",
       "Pre_6   0                                                                                                             \n",
       "       k__Bacteria.p__Proteobacteria.c__Gammaproteobacteria.o__Pasteurellales.f__Pasteurellaceae.g__Aggregatibacter.s__aphrophilus\n",
       "Post_2 43                                                                                                                         \n",
       "Pre_2  46                                                                                                                         \n",
       "Post_4  0                                                                                                                         \n",
       "Pre_4   0                                                                                                                         \n",
       "Post_6  0                                                                                                                         \n",
       "Pre_6   0                                                                                                                         \n",
       "       k__Bacteria.p__Proteobacteria.c__Gammaproteobacteria.o__Pasteurellales.f__Pasteurellaceae.g__Haemophilus.__\n",
       "Post_2   98                                                                                                       \n",
       "Pre_2   371                                                                                                       \n",
       "Post_4  139                                                                                                       \n",
       "Pre_4   110                                                                                                       \n",
       "Post_6  463                                                                                                       \n",
       "Pre_6  2315                                                                                                       \n",
       "       k__Bacteria.p__Proteobacteria.c__Gammaproteobacteria.o__Pasteurellales.f__Pasteurellaceae.g__Haemophilus.s__parainfluenzae\n",
       "Post_2 1657                                                                                                                      \n",
       "Pre_2  3359                                                                                                                      \n",
       "Post_4 2521                                                                                                                      \n",
       "Pre_4  1225                                                                                                                      \n",
       "Post_6 1646                                                                                                                      \n",
       "Pre_6  1978                                                                                                                      \n",
       "       k__Bacteria.p__Saccharibacteria_.TM7..c__Saccharibacteria_.TM7._.C.1..o__Saccharibacteria_.TM7._.O.1..f__Saccharibacteria_.TM7._.F.1..g__Saccharibacteria_.TM7._.G.1..__\n",
       "Post_2  0                                                                                                                                                                      \n",
       "Pre_2   0                                                                                                                                                                      \n",
       "Post_4  0                                                                                                                                                                      \n",
       "Pre_4  40                                                                                                                                                                      \n",
       "Post_6  7                                                                                                                                                                      \n",
       "Pre_6   0                                                                                                                                                                      \n",
       "       k__Bacteria.p__Saccharibacteria_.TM7..c__Saccharibacteria_.TM7._.C.1..o__Saccharibacteria_.TM7._.O.1..f__Saccharibacteria_.TM7._.F.1..g__Saccharibacteria_.TM7._.G.1..s__bacterium_HMT_347\n",
       "Post_2  0                                                                                                                                                                                        \n",
       "Pre_2   0                                                                                                                                                                                        \n",
       "Post_4  0                                                                                                                                                                                        \n",
       "Pre_4   4                                                                                                                                                                                        \n",
       "Post_6  0                                                                                                                                                                                        \n",
       "Pre_6  16                                                                                                                                                                                        \n",
       "       k__Bacteria.p__Saccharibacteria_.TM7..c__Saccharibacteria_.TM7._.C.1..o__Saccharibacteria_.TM7._.O.1..f__Saccharibacteria_.TM7._.F.1..g__Saccharibacteria_.TM7._.G.1..s__bacterium_HMT_352\n",
       "Post_2 423                                                                                                                                                                                       \n",
       "Pre_2    0                                                                                                                                                                                       \n",
       "Post_4 502                                                                                                                                                                                       \n",
       "Pre_4  403                                                                                                                                                                                       \n",
       "Post_6 167                                                                                                                                                                                       \n",
       "Pre_6    0                                                                                                                                                                                       \n",
       "       k__Bacteria.p__Saccharibacteria_.TM7..c__Saccharibacteria_.TM7._.C.1..o__Saccharibacteria_.TM7._.O.1..f__Saccharibacteria_.TM7._.F.1..g__Saccharibacteria_.TM7._.G.3..s__bacterium_HMT_351\n",
       "Post_2 146                                                                                                                                                                                       \n",
       "Pre_2    0                                                                                                                                                                                       \n",
       "Post_4  39                                                                                                                                                                                       \n",
       "Pre_4   35                                                                                                                                                                                       \n",
       "Post_6  61                                                                                                                                                                                       \n",
       "Pre_6    5                                                                                                                                                                                       \n",
       "       k__Bacteria.p__Saccharibacteria_.TM7..c__Saccharibacteria_.TM7._.C.1..o__Saccharibacteria_.TM7._.O.1..f__Saccharibacteria_.TM7._.F.1..g__Saccharibacteria_.TM7._.G.6..s__bacterium_HMT_870\n",
       "Post_2 123                                                                                                                                                                                       \n",
       "Pre_2  112                                                                                                                                                                                       \n",
       "Post_4 101                                                                                                                                                                                       \n",
       "Pre_4  167                                                                                                                                                                                       \n",
       "Post_6 437                                                                                                                                                                                       \n",
       "Pre_6   28                                                                                                                                                                                       "
      ]
     },
     "metadata": {},
     "output_type": "display_data"
    }
   ],
   "source": [
    "# getting dfs first\n",
    "paired_saliva_df = combined_saliva_df %>%\n",
    "    # removing 12 participants that don't have pre and post samples\n",
    "    filter(Subject_No %notin% c(1,12,13,17,20,24,26,31,32,36,37,43),\n",
    "    # retaining those given treatment\n",
    "          Treatment == 'A') %>%\n",
    "    # making the row names the sample ids\n",
    "    column_to_rownames(var = 'Sample_ID')\n",
    "\n",
    "paired_stool_df = combined_stool_df %>%\n",
    "    # removing 12 participants that don't have pre and post samples\n",
    "    filter(Subject_No %notin% c(3,10,14,15,23,25,27,32,35,39),\n",
    "    # retaining those given treatment\n",
    "          Treatment == 'A') %>%\n",
    "    # making the row names the sample ids\n",
    "    column_to_rownames(var = 'Sample_ID')\n",
    "\n",
    "head(paired_saliva_df)"
   ]
  },
  {
   "cell_type": "markdown",
   "id": "d5f61e0d-3ac7-43e7-9fb8-a49b65017204",
   "metadata": {},
   "source": [
    "How many subjects are included in this analysis?"
   ]
  },
  {
   "cell_type": "code",
   "execution_count": 25,
   "id": "1180e75f-f546-4701-9f00-6d3b5cfed84b",
   "metadata": {},
   "outputs": [
    {
     "data": {
      "text/html": [
       "17"
      ],
      "text/latex": [
       "17"
      ],
      "text/markdown": [
       "17"
      ],
      "text/plain": [
       "[1] 17"
      ]
     },
     "metadata": {},
     "output_type": "display_data"
    },
    {
     "data": {
      "text/html": [
       "12"
      ],
      "text/latex": [
       "12"
      ],
      "text/markdown": [
       "12"
      ],
      "text/plain": [
       "[1] 12"
      ]
     },
     "metadata": {},
     "output_type": "display_data"
    }
   ],
   "source": [
    "length(unique(paired_saliva_df$Subject_No))\n",
    "length(unique(paired_stool_df$Subject_No))"
   ]
  },
  {
   "cell_type": "code",
   "execution_count": 26,
   "id": "bd0c029e-3e60-40fd-96a8-ffc8b5721ce4",
   "metadata": {
    "scrolled": true
   },
   "outputs": [
    {
     "name": "stderr",
     "output_type": "stream",
     "text": [
      "Checking the input data type ...\n",
      "\n",
      "The input data is of type: matrix\n",
      "\n",
      "The imported data is in a generic 'matrix'/'data.frame' format.\n",
      "\n",
      "PASS\n",
      "\n",
      "Checking the sample metadata ...\n",
      "\n",
      "The specified variables in the formula: Outcome\n",
      "\n",
      "The available variables in the sample metadata: Original_Sample_ID, Subject_No, Time_Point, Treatment, Outcome, Age, IgE, IgE_Binarized\n",
      "\n",
      "PASS\n",
      "\n",
      "Checking other arguments ...\n",
      "\n",
      "The number of groups of interest is: 2\n",
      "\n",
      "Warning message:\n",
      "“The group variable has < 3 categories \n",
      "The multi-group comparisons (global/pairwise/dunnet/trend) will be deactivated”\n",
      "The sample size per group is: F = 15, SU = 18\n",
      "\n",
      "PASS\n",
      "\n",
      "Obtaining initial estimates ...\n",
      "\n",
      "Estimating sample-specific biases ...\n",
      "\n",
      "Warning message in sqrt(sweep(var_hat, 2, var_delta, \"*\")):\n",
      "“NaNs produced”\n",
      "ANCOM-BC2 primary results ...\n",
      "\n",
      "Conducting sensitivity analysis for pseudo-count addition to 0s ...\n",
      "For taxa that are significant but do not pass the sensitivity analysis,\n",
      "they are marked in the 'passed_ss' column and will be treated as non-significant in the 'diff_robust' column.\n",
      "For detailed instructions on performing sensitivity analysis, please refer to the package vignette.\n",
      "\n",
      "Warning message:\n",
      "“\u001b[1m\u001b[22mExpected 2 pieces. Missing pieces filled with `NA` in 5 rows [1, 44, 99, 108,\n",
      "109].”\n",
      "Checking the input data type ...\n",
      "\n",
      "The input data is of type: matrix\n",
      "\n",
      "The imported data is in a generic 'matrix'/'data.frame' format.\n",
      "\n",
      "PASS\n",
      "\n",
      "Checking the sample metadata ...\n",
      "\n",
      "The specified variables in the formula: Age, IgE, Outcome\n",
      "\n",
      "The available variables in the sample metadata: Original_Sample_ID, Subject_No, Time_Point, Treatment, Outcome, Age, IgE, IgE_Binarized\n",
      "\n",
      "PASS\n",
      "\n",
      "Checking other arguments ...\n",
      "\n",
      "The number of groups of interest is: 2\n",
      "\n",
      "Warning message:\n",
      "“The group variable has < 3 categories \n",
      "The multi-group comparisons (global/pairwise/dunnet/trend) will be deactivated”\n",
      "The sample size per group is: F = 15, SU = 18\n",
      "\n",
      "PASS\n",
      "\n",
      "Obtaining initial estimates ...\n",
      "\n",
      "Estimating sample-specific biases ...\n",
      "\n",
      "ANCOM-BC2 primary results ...\n",
      "\n",
      "Conducting sensitivity analysis for pseudo-count addition to 0s ...\n",
      "For taxa that are significant but do not pass the sensitivity analysis,\n",
      "they are marked in the 'passed_ss' column and will be treated as non-significant in the 'diff_robust' column.\n",
      "For detailed instructions on performing sensitivity analysis, please refer to the package vignette.\n",
      "\n",
      "Warning message:\n",
      "“\u001b[1m\u001b[22mExpected 2 pieces. Missing pieces filled with `NA` in 5 rows [1, 44, 99, 108,\n",
      "109].”\n",
      "Checking the input data type ...\n",
      "\n",
      "The input data is of type: matrix\n",
      "\n",
      "The imported data is in a generic 'matrix'/'data.frame' format.\n",
      "\n",
      "PASS\n",
      "\n",
      "Checking the sample metadata ...\n",
      "\n",
      "The specified variables in the formula: Outcome\n",
      "\n",
      "The available variables in the sample metadata: Original_Subject_ID, Original_Sample_ID, Subject_No, Time_Point, Treatment, Outcome, Age, IgE, IgE_Binarized\n",
      "\n",
      "PASS\n",
      "\n",
      "Checking other arguments ...\n",
      "\n",
      "The number of groups of interest is: 2\n",
      "\n",
      "Warning message:\n",
      "“The group variable has < 3 categories \n",
      "The multi-group comparisons (global/pairwise/dunnet/trend) will be deactivated”\n",
      "The sample size per group is: F = 8, SU = 16\n",
      "\n",
      "PASS\n",
      "\n",
      "Obtaining initial estimates ...\n",
      "\n",
      "Estimating sample-specific biases ...\n",
      "\n",
      "Warning message in sqrt(sweep(var_hat, 2, var_delta, \"*\")):\n",
      "“NaNs produced”\n",
      "ANCOM-BC2 primary results ...\n",
      "\n",
      "Conducting sensitivity analysis for pseudo-count addition to 0s ...\n",
      "For taxa that are significant but do not pass the sensitivity analysis,\n",
      "they are marked in the 'passed_ss' column and will be treated as non-significant in the 'diff_robust' column.\n",
      "For detailed instructions on performing sensitivity analysis, please refer to the package vignette.\n",
      "\n",
      "Warning message:\n",
      "“\u001b[1m\u001b[22mExpected 2 pieces. Missing pieces filled with `NA` in 8 rows [1, 2, 6, 29, 95,\n",
      "116, 145, 148].”\n",
      "Checking the input data type ...\n",
      "\n",
      "The input data is of type: matrix\n",
      "\n",
      "The imported data is in a generic 'matrix'/'data.frame' format.\n",
      "\n",
      "PASS\n",
      "\n",
      "Checking the sample metadata ...\n",
      "\n",
      "The specified variables in the formula: Age, IgE, Outcome\n",
      "\n",
      "The available variables in the sample metadata: Original_Subject_ID, Original_Sample_ID, Subject_No, Time_Point, Treatment, Outcome, Age, IgE, IgE_Binarized\n",
      "\n",
      "PASS\n",
      "\n",
      "Checking other arguments ...\n",
      "\n",
      "The number of groups of interest is: 2\n",
      "\n",
      "Warning message:\n",
      "“The group variable has < 3 categories \n",
      "The multi-group comparisons (global/pairwise/dunnet/trend) will be deactivated”\n",
      "The sample size per group is: F = 8, SU = 16\n",
      "\n",
      "PASS\n",
      "\n",
      "Obtaining initial estimates ...\n",
      "\n",
      "Estimating sample-specific biases ...\n",
      "\n",
      "ANCOM-BC2 primary results ...\n",
      "\n",
      "Warning message in pt(abs(W), df = dof, lower.tail = FALSE):\n",
      "“NaNs produced”\n",
      "Conducting sensitivity analysis for pseudo-count addition to 0s ...\n",
      "For taxa that are significant but do not pass the sensitivity analysis,\n",
      "they are marked in the 'passed_ss' column and will be treated as non-significant in the 'diff_robust' column.\n",
      "For detailed instructions on performing sensitivity analysis, please refer to the package vignette.\n",
      "\n",
      "Warning message:\n",
      "“\u001b[1m\u001b[22mExpected 2 pieces. Missing pieces filled with `NA` in 8 rows [1, 2, 6, 29, 95,\n",
      "116, 145, 148].”\n"
     ]
    }
   ],
   "source": [
    "# calling fn\n",
    "paired_saliva_raw = get_ancombc2_results(paired_saliva_df, 'Outcome', 8, TRUE, 'Outcome', 'SU')\n",
    "paired_saliva_2cov = get_ancombc2_results(paired_saliva_df, 'Age + IgE + Outcome', 8, TRUE, 'Outcome', 'SU')\n",
    "paired_stool_raw = get_ancombc2_results(paired_stool_df, 'Outcome', 9, TRUE, 'Outcome', 'SU')\n",
    "paired_stool_2cov = get_ancombc2_results(paired_stool_df, 'Age + IgE + Outcome', 9, TRUE, 'Outcome', 'SU')"
   ]
  },
  {
   "cell_type": "markdown",
   "id": "5a49a349-8c90-4648-9bb3-5f3f73173bc3",
   "metadata": {},
   "source": [
    "## Paired Saliva Raw Results"
   ]
  },
  {
   "cell_type": "code",
   "execution_count": 27,
   "id": "684c375b-0531-4770-8fc7-b3bb50a0d1ad",
   "metadata": {},
   "outputs": [
    {
     "data": {
      "text/html": [
       "0"
      ],
      "text/latex": [
       "0"
      ],
      "text/markdown": [
       "0"
      ],
      "text/plain": [
       "[1] 0"
      ]
     },
     "metadata": {},
     "output_type": "display_data"
    },
    {
     "data": {
      "text/html": [
       "11"
      ],
      "text/latex": [
       "11"
      ],
      "text/markdown": [
       "11"
      ],
      "text/plain": [
       "[1] 11"
      ]
     },
     "metadata": {},
     "output_type": "display_data"
    },
    {
     "data": {
      "text/html": [
       "12"
      ],
      "text/latex": [
       "12"
      ],
      "text/markdown": [
       "12"
      ],
      "text/plain": [
       "[1] 12"
      ]
     },
     "metadata": {},
     "output_type": "display_data"
    }
   ],
   "source": [
    "# passed sensitivity filter and is significant \n",
    "paired_saliva_raw %>%\n",
    "    filter(diff_robust_OutcomeSU == TRUE) %>%\n",
    "    nrow()\n",
    "\n",
    "# passed sensitivity analysis with a relaxed filter\n",
    "paired_saliva_raw %>%\n",
    "    filter(`P Adj` < 0.1 & `Sensitivity Analysis` == TRUE) %>%\n",
    "    nrow()\n",
    "\n",
    "# significant with a relaxed filter\n",
    "paired_saliva_raw %>%\n",
    "    filter(`P Adj` < 0.1) %>%\n",
    "    nrow()"
   ]
  },
  {
   "cell_type": "markdown",
   "id": "4872428d-efc2-4921-b688-f14c995f2b2b",
   "metadata": {},
   "source": [
    "## Paired Adjusted Saliva Results"
   ]
  },
  {
   "cell_type": "code",
   "execution_count": 28,
   "id": "2dd6eca1-2187-4d9f-91fa-d9df2badea6e",
   "metadata": {},
   "outputs": [
    {
     "data": {
      "text/html": [
       "0"
      ],
      "text/latex": [
       "0"
      ],
      "text/markdown": [
       "0"
      ],
      "text/plain": [
       "[1] 0"
      ]
     },
     "metadata": {},
     "output_type": "display_data"
    },
    {
     "data": {
      "text/html": [
       "1"
      ],
      "text/latex": [
       "1"
      ],
      "text/markdown": [
       "1"
      ],
      "text/plain": [
       "[1] 1"
      ]
     },
     "metadata": {},
     "output_type": "display_data"
    },
    {
     "data": {
      "text/html": [
       "16"
      ],
      "text/latex": [
       "16"
      ],
      "text/markdown": [
       "16"
      ],
      "text/plain": [
       "[1] 16"
      ]
     },
     "metadata": {},
     "output_type": "display_data"
    }
   ],
   "source": [
    "# passed sensitivity filter and is significant \n",
    "paired_saliva_2cov %>%\n",
    "    filter(diff_robust_OutcomeSU == TRUE) %>%\n",
    "    nrow()\n",
    "\n",
    "# passed sensitivity analysis with a relaxed filter\n",
    "paired_saliva_2cov %>%\n",
    "    filter(`P Adj` < 0.1 & `Sensitivity Analysis` == TRUE) %>%\n",
    "    nrow()\n",
    "\n",
    "# significant with a relaxed filter\n",
    "paired_saliva_2cov %>%\n",
    "    filter(`P Adj` < 0.1) %>%\n",
    "    nrow()"
   ]
  },
  {
   "cell_type": "markdown",
   "id": "71acd33c-e5dd-45d1-a51f-5d45e187aa52",
   "metadata": {},
   "source": [
    "## Paired Stool Results"
   ]
  },
  {
   "cell_type": "code",
   "execution_count": 29,
   "id": "e396e310-22db-444e-bbac-5d921cd48c52",
   "metadata": {},
   "outputs": [
    {
     "data": {
      "text/html": [
       "0"
      ],
      "text/latex": [
       "0"
      ],
      "text/markdown": [
       "0"
      ],
      "text/plain": [
       "[1] 0"
      ]
     },
     "metadata": {},
     "output_type": "display_data"
    },
    {
     "data": {
      "text/html": [
       "0"
      ],
      "text/latex": [
       "0"
      ],
      "text/markdown": [
       "0"
      ],
      "text/plain": [
       "[1] 0"
      ]
     },
     "metadata": {},
     "output_type": "display_data"
    },
    {
     "data": {
      "text/html": [
       "0"
      ],
      "text/latex": [
       "0"
      ],
      "text/markdown": [
       "0"
      ],
      "text/plain": [
       "[1] 0"
      ]
     },
     "metadata": {},
     "output_type": "display_data"
    }
   ],
   "source": [
    "# passed sensitivity filter and is significant \n",
    "paired_stool_raw %>%\n",
    "    filter(diff_robust_OutcomeSU == TRUE) %>%\n",
    "    nrow()\n",
    "\n",
    "# passed sensitivity analysis with a relaxed filter\n",
    "paired_stool_raw %>%\n",
    "    filter(`P Adj` < 0.1 & `Sensitivity Analysis` == TRUE) %>%\n",
    "    nrow()\n",
    "\n",
    "# significant with a relaxed filter\n",
    "paired_stool_raw %>%\n",
    "    filter(`P Adj` < 0.1) %>%\n",
    "    nrow()"
   ]
  },
  {
   "cell_type": "markdown",
   "id": "9461c9b0-b674-4439-bc4a-aa3d7942a502",
   "metadata": {},
   "source": [
    "## Paired Stool Adjusted Results"
   ]
  },
  {
   "cell_type": "code",
   "execution_count": 30,
   "id": "4cef839f-64cf-465f-bf85-e42c060bac90",
   "metadata": {},
   "outputs": [
    {
     "data": {
      "text/html": [
       "0"
      ],
      "text/latex": [
       "0"
      ],
      "text/markdown": [
       "0"
      ],
      "text/plain": [
       "[1] 0"
      ]
     },
     "metadata": {},
     "output_type": "display_data"
    },
    {
     "data": {
      "text/html": [
       "7"
      ],
      "text/latex": [
       "7"
      ],
      "text/markdown": [
       "7"
      ],
      "text/plain": [
       "[1] 7"
      ]
     },
     "metadata": {},
     "output_type": "display_data"
    },
    {
     "data": {
      "text/html": [
       "57"
      ],
      "text/latex": [
       "57"
      ],
      "text/markdown": [
       "57"
      ],
      "text/plain": [
       "[1] 57"
      ]
     },
     "metadata": {},
     "output_type": "display_data"
    }
   ],
   "source": [
    "# passed sensitivity filter and is significant \n",
    "paired_stool_2cov %>%\n",
    "    filter(diff_robust_OutcomeSU == TRUE) %>%\n",
    "    nrow()\n",
    "\n",
    "# passed sensitivity analysis with a relaxed filter\n",
    "paired_stool_2cov %>%\n",
    "    filter(`P Adj` < 0.1 & `Sensitivity Analysis` == TRUE) %>%\n",
    "    nrow()\n",
    "\n",
    "# significant with a relaxed filter\n",
    "paired_stool_2cov %>%\n",
    "    filter(`P Adj` < 0.1) %>%\n",
    "    nrow()"
   ]
  },
  {
   "cell_type": "code",
   "execution_count": 31,
   "id": "c1e4a74c-d811-44b0-8362-a28e86f128fa",
   "metadata": {
    "scrolled": true
   },
   "outputs": [],
   "source": [
    "#?ancombc2"
   ]
  },
  {
   "cell_type": "code",
   "execution_count": 32,
   "id": "04b78725-9620-4582-accf-330c3ebd126f",
   "metadata": {},
   "outputs": [],
   "source": [
    "#exporting\n",
    "write.xlsx(saliva_raw_model, paste0(Output,\"/\", \"Saliva_Outcome_\", cur_date, \".xlsx\"), rowNames = FALSE)\n",
    "write.xlsx(saliva_2cov_model, paste0(Output,\"/\", \"Saliva_Adj_Outcome_\", cur_date, \".xlsx\"), rowNames = FALSE)\n",
    "write.xlsx(stool_raw_model, paste0(Output,\"/\", \"Stool_Outcome_\", cur_date, \".xlsx\"), rowNames = FALSE)\n",
    "write.xlsx(stool_2cov_model, paste0(Output,\"/\", \"Stool_Adj_Outcome_\", cur_date, \".xlsx\"), rowNames = FALSE)\n",
    "write.xlsx(saliva_ige, paste0(Output,\"/\", \"Saliva_IgE_\", cur_date, \".xlsx\"), rowNames = FALSE)\n",
    "write.xlsx(saliva_ige_cov, paste0(Output,\"/\", \"Saliva_Adj_IgE_\", cur_date, \".xlsx\"), rowNames = FALSE)\n",
    "write.xlsx(stool_ige, paste0(Output,\"/\", \"Stool_IgE_\", cur_date, \".xlsx\"), rowNames = FALSE)\n",
    "write.xlsx(stool_ige_cov, paste0(Output,\"/\", \"Stool_Adj_IgE_\", cur_date, \".xlsx\"), rowNames = FALSE)\n",
    "write.xlsx(paired_saliva_raw, paste0(Output,\"/\", \"Saliva_Paired_Outcome_\", cur_date, \".xlsx\"), rowNames = FALSE)\n",
    "write.xlsx(paired_saliva_2cov, paste0(Output,\"/\", \"Saliva_Adj_Paired_Outcome_\", cur_date, \".xlsx\"), rowNames = FALSE)\n",
    "write.xlsx(paired_stool_raw, paste0(Output,\"/\", \"Stool_Paired_Outcome_\", cur_date, \".xlsx\"), rowNames = FALSE)\n",
    "write.xlsx(paired_stool_2cov, paste0(Output,\"/\", \"Stool_Adj_Paired_Outcome_\", cur_date, \".xlsx\"), rowNames = FALSE)"
   ]
  },
  {
   "cell_type": "code",
   "execution_count": null,
   "id": "2a77fdac-5336-4077-a621-0a8d3ea7bcb0",
   "metadata": {},
   "outputs": [],
   "source": []
  }
 ],
 "metadata": {
  "kernelspec": {
   "display_name": "R",
   "language": "R",
   "name": "ir"
  },
  "language_info": {
   "codemirror_mode": "r",
   "file_extension": ".r",
   "mimetype": "text/x-r-source",
   "name": "R",
   "pygments_lexer": "r",
   "version": "4.5.1"
  }
 },
 "nbformat": 4,
 "nbformat_minor": 5
}
